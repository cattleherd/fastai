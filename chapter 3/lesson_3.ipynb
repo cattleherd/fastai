{
  "nbformat": 4,
  "nbformat_minor": 0,
  "metadata": {
    "colab": {
      "provenance": [],
      "collapsed_sections": [
        "_8-OPenyx2k0",
        "veCcVZo1VrG3",
        "NW7dPpHW1pnm",
        "W7d_zdP06oVt",
        "ydKERbso_olv"
      ]
    },
    "kernelspec": {
      "name": "python3",
      "display_name": "Python 3"
    },
    "language_info": {
      "name": "python"
    }
  },
  "cells": [
    {
      "cell_type": "code",
      "source": [
        "from google.colab import drive\n",
        "drive.mount('/content/drive')"
      ],
      "metadata": {
        "colab": {
          "base_uri": "https://localhost:8080/"
        },
        "id": "utIHzGxXyRRI",
        "outputId": "d9b013c8-980d-4fcf-c83a-0da437fe341e"
      },
      "execution_count": 1,
      "outputs": [
        {
          "output_type": "stream",
          "name": "stdout",
          "text": [
            "Mounted at /content/drive\n"
          ]
        }
      ]
    },
    {
      "cell_type": "code",
      "execution_count": 2,
      "metadata": {
        "colab": {
          "base_uri": "https://localhost:8080/"
        },
        "id": "TPHsbKR2WUQJ",
        "outputId": "0cd65c26-3359-4858-8532-148acb7fee5a"
      },
      "outputs": [
        {
          "output_type": "stream",
          "name": "stdout",
          "text": [
            "\u001b[2K     \u001b[90m━━━━━━━━━━━━━━━━━━━━━━━━━━━━━━━━━━━━━━\u001b[0m \u001b[32m719.8/719.8 kB\u001b[0m \u001b[31m19.7 MB/s\u001b[0m eta \u001b[36m0:00:00\u001b[0m\n",
            "\u001b[2K     \u001b[90m━━━━━━━━━━━━━━━━━━━━━━━━━━━━━━━━━━━━━━━━\u001b[0m \u001b[32m7.2/7.2 MB\u001b[0m \u001b[31m90.9 MB/s\u001b[0m eta \u001b[36m0:00:00\u001b[0m\n",
            "\u001b[2K     \u001b[90m━━━━━━━━━━━━━━━━━━━━━━━━━━━━━━━━━━━━━━\u001b[0m \u001b[32m486.2/486.2 kB\u001b[0m \u001b[31m44.5 MB/s\u001b[0m eta \u001b[36m0:00:00\u001b[0m\n",
            "\u001b[2K     \u001b[90m━━━━━━━━━━━━━━━━━━━━━━━━━━━━━━━━━━━━━━━━\u001b[0m \u001b[32m1.3/1.3 MB\u001b[0m \u001b[31m76.7 MB/s\u001b[0m eta \u001b[36m0:00:00\u001b[0m\n",
            "\u001b[2K     \u001b[90m━━━━━━━━━━━━━━━━━━━━━━━━━━━━━━━━━━━━━━\u001b[0m \u001b[32m110.5/110.5 kB\u001b[0m \u001b[31m14.0 MB/s\u001b[0m eta \u001b[36m0:00:00\u001b[0m\n",
            "\u001b[2K     \u001b[90m━━━━━━━━━━━━━━━━━━━━━━━━━━━━━━━━━━━━━━\u001b[0m \u001b[32m212.5/212.5 kB\u001b[0m \u001b[31m23.8 MB/s\u001b[0m eta \u001b[36m0:00:00\u001b[0m\n",
            "\u001b[2K     \u001b[90m━━━━━━━━━━━━━━━━━━━━━━━━━━━━━━━━━━━━━━\u001b[0m \u001b[32m134.3/134.3 kB\u001b[0m \u001b[31m16.3 MB/s\u001b[0m eta \u001b[36m0:00:00\u001b[0m\n",
            "\u001b[2K     \u001b[90m━━━━━━━━━━━━━━━━━━━━━━━━━━━━━━━━━━━━━━\u001b[0m \u001b[32m268.8/268.8 kB\u001b[0m \u001b[31m26.9 MB/s\u001b[0m eta \u001b[36m0:00:00\u001b[0m\n",
            "\u001b[2K     \u001b[90m━━━━━━━━━━━━━━━━━━━━━━━━━━━━━━━━━━━━━━━━\u001b[0m \u001b[32m7.8/7.8 MB\u001b[0m \u001b[31m105.5 MB/s\u001b[0m eta \u001b[36m0:00:00\u001b[0m\n",
            "\u001b[2K     \u001b[90m━━━━━━━━━━━━━━━━━━━━━━━━━━━━━━━━━━━━━━━━\u001b[0m \u001b[32m1.3/1.3 MB\u001b[0m \u001b[31m74.6 MB/s\u001b[0m eta \u001b[36m0:00:00\u001b[0m\n",
            "\u001b[2K     \u001b[90m━━━━━━━━━━━━━━━━━━━━━━━━━━━━━━━━━━━━━━━━\u001b[0m \u001b[32m1.6/1.6 MB\u001b[0m \u001b[31m77.8 MB/s\u001b[0m eta \u001b[36m0:00:00\u001b[0m\n",
            "\u001b[?25hMounted at /content/gdrive\n"
          ]
        }
      ],
      "source": [
        "! [ -e /content ] && pip install -Uqq fastbook\n",
        "import fastbook\n",
        "fastbook.setup_book()\n"
      ]
    },
    {
      "cell_type": "code",
      "source": [
        "from fastai.vision.all import *\n",
        "from fastbook import *\n",
        "\n",
        "matplotlib.rc('image', cmap='Greys')"
      ],
      "metadata": {
        "id": "lijYqI8JWy2s"
      },
      "execution_count": 3,
      "outputs": []
    },
    {
      "cell_type": "markdown",
      "source": [
        "grayscale settings"
      ],
      "metadata": {
        "id": "B5Ns4zDEXVpv"
      }
    },
    {
      "cell_type": "code",
      "source": [
        "path = untar_data(URLs.MNIST_SAMPLE)\n",
        "\n"
      ],
      "metadata": {
        "id": "2JVYvsvVWywX",
        "colab": {
          "base_uri": "https://localhost:8080/",
          "height": 37
        },
        "outputId": "2fc0e3ec-ff3a-4d9d-8aa6-a377dc787c79"
      },
      "execution_count": 4,
      "outputs": [
        {
          "output_type": "display_data",
          "data": {
            "text/plain": [
              "<IPython.core.display.HTML object>"
            ],
            "text/html": [
              "\n",
              "<style>\n",
              "    /* Turns off some styling */\n",
              "    progress {\n",
              "        /* gets rid of default border in Firefox and Opera. */\n",
              "        border: none;\n",
              "        /* Needs to be in here for Safari polyfill so background images work as expected. */\n",
              "        background-size: auto;\n",
              "    }\n",
              "    progress:not([value]), progress:not([value])::-webkit-progress-bar {\n",
              "        background: repeating-linear-gradient(45deg, #7e7e7e, #7e7e7e 10px, #5c5c5c 10px, #5c5c5c 20px);\n",
              "    }\n",
              "    .progress-bar-interrupted, .progress-bar-interrupted::-webkit-progress-bar {\n",
              "        background: #F44336;\n",
              "    }\n",
              "</style>\n"
            ]
          },
          "metadata": {}
        },
        {
          "output_type": "display_data",
          "data": {
            "text/plain": [
              "<IPython.core.display.HTML object>"
            ],
            "text/html": [
              "\n",
              "    <div>\n",
              "      <progress value='3219456' class='' max='3214948' style='width:300px; height:20px; vertical-align: middle;'></progress>\n",
              "      100.14% [3219456/3214948 00:00&lt;00:00]\n",
              "    </div>\n",
              "    "
            ]
          },
          "metadata": {}
        }
      ]
    },
    {
      "cell_type": "markdown",
      "source": [
        "downloading mnist data set for our training"
      ],
      "metadata": {
        "id": "f1xwSmy9mTyo"
      }
    },
    {
      "cell_type": "code",
      "source": [
        "Path.BASE_PATH = path"
      ],
      "metadata": {
        "id": "KlYGixMGlisp"
      },
      "execution_count": 5,
      "outputs": []
    },
    {
      "cell_type": "code",
      "source": [
        "print(path)"
      ],
      "metadata": {
        "id": "aXKXqA1T5IoD",
        "colab": {
          "base_uri": "https://localhost:8080/"
        },
        "outputId": "8a3a0d97-4d5f-4abf-d1a8-a38bc9af09dd"
      },
      "execution_count": 6,
      "outputs": [
        {
          "output_type": "stream",
          "name": "stdout",
          "text": [
            "/root/.fastai/data/mnist_sample\n"
          ]
        }
      ]
    },
    {
      "cell_type": "code",
      "source": [
        "path.ls()"
      ],
      "metadata": {
        "id": "qthtrIfKlaZm",
        "colab": {
          "base_uri": "https://localhost:8080/"
        },
        "outputId": "6f6faefb-b6b4-490b-93f3-734e2122f9ee"
      },
      "execution_count": 7,
      "outputs": [
        {
          "output_type": "execute_result",
          "data": {
            "text/plain": [
              "(#3) [Path('valid'),Path('train'),Path('labels.csv')]"
            ]
          },
          "metadata": {},
          "execution_count": 7
        }
      ]
    },
    {
      "cell_type": "markdown",
      "source": [
        "listing contents of mnist data set then the code below lists contents in training folder"
      ],
      "metadata": {
        "id": "3q8D0iXomZ8u"
      }
    },
    {
      "cell_type": "code",
      "source": [
        "(path/'train').ls()"
      ],
      "metadata": {
        "id": "Q9Qj01wnl16a",
        "colab": {
          "base_uri": "https://localhost:8080/"
        },
        "outputId": "5619295a-b3f4-4592-c797-d3245d080128"
      },
      "execution_count": 8,
      "outputs": [
        {
          "output_type": "execute_result",
          "data": {
            "text/plain": [
              "(#2) [Path('train/3'),Path('train/7')]"
            ]
          },
          "metadata": {},
          "execution_count": 8
        }
      ]
    },
    {
      "cell_type": "code",
      "source": [
        "threes = (path/'train/3').ls()\n",
        "sevens = (path/'train/7').ls()\n",
        "\n",
        "threes"
      ],
      "metadata": {
        "id": "qs_0JMo4mqJd",
        "colab": {
          "base_uri": "https://localhost:8080/"
        },
        "outputId": "3aff5283-a744-4d31-e352-8caadbd8e935"
      },
      "execution_count": 9,
      "outputs": [
        {
          "output_type": "execute_result",
          "data": {
            "text/plain": [
              "(#6131) [Path('train/3/41007.png'),Path('train/3/36946.png'),Path('train/3/10666.png'),Path('train/3/2915.png'),Path('train/3/8882.png'),Path('train/3/9278.png'),Path('train/3/39741.png'),Path('train/3/17467.png'),Path('train/3/27047.png'),Path('train/3/47192.png')...]"
            ]
          },
          "metadata": {},
          "execution_count": 9
        }
      ]
    },
    {
      "cell_type": "markdown",
      "source": [
        "we are separating the contents of the 'labels' to two different variables. Threes dataset and sevens. Thus each variable contains a list of the file paths of all the 3s, and 7s, and there are 6000 images roughly in each folder."
      ],
      "metadata": {
        "id": "tloLycdDm80A"
      }
    },
    {
      "cell_type": "code",
      "source": [
        "im3_path = threes[18]\n",
        "im3 = Image.open(im3_path)\n",
        "im3"
      ],
      "metadata": {
        "id": "JJF9CutanHoS",
        "colab": {
          "base_uri": "https://localhost:8080/",
          "height": 45
        },
        "outputId": "3879543a-3bd1-4375-ca0c-9e3a64587dca"
      },
      "execution_count": 10,
      "outputs": [
        {
          "output_type": "execute_result",
          "data": {
            "text/plain": [
              "<PIL.PngImagePlugin.PngImageFile image mode=L size=28x28>"
            ],
            "image/png": "[encoded data removed]"
          },
          "metadata": {},
          "execution_count": 10
        }
      ]
    },
    {
      "cell_type": "code",
      "source": [
        "im3_tensor = tensor(im3)"
      ],
      "metadata": {
        "id": "QIFsWILzqQl9"
      },
      "execution_count": 11,
      "outputs": []
    },
    {
      "cell_type": "markdown",
      "source": [
        "create a tensor object, a numeric representation of the image"
      ],
      "metadata": {
        "id": "-PIzDWAvqnkV"
      }
    },
    {
      "cell_type": "code",
      "source": [
        "data_frame = pd.DataFrame(im3_tensor[4:15,4:22])\n",
        "data_frame.style.set_properties(**{'font-size':'6pt'}).background_gradient('Greys')"
      ],
      "metadata": {
        "id": "SVqZdSYYqx9r",
        "colab": {
          "base_uri": "https://localhost:8080/",
          "height": 394
        },
        "outputId": "8549eb32-71ea-4a75-dcbd-bc9e4cb6e4f3"
      },
      "execution_count": 12,
      "outputs": [
        {
          "output_type": "execute_result",
          "data": {
            "text/plain": [
              "<pandas.io.formats.style.Styler at 0x7b61228715a0>"
            ],
            "text/html": [
              "<style type=\"text/css\">\n",
              "#T_f97f5_row0_col0, #T_f97f5_row0_col1, #T_f97f5_row0_col2, #T_f97f5_row0_col3, #T_f97f5_row0_col4, #T_f97f5_row0_col5, #T_f97f5_row0_col6, #T_f97f5_row0_col7, #T_f97f5_row0_col8, #T_f97f5_row0_col9, #T_f97f5_row0_col10, #T_f97f5_row0_col11, #T_f97f5_row0_col12, #T_f97f5_row0_col13, #T_f97f5_row0_col14, #T_f97f5_row0_col15, #T_f97f5_row0_col16, #T_f97f5_row0_col17, #T_f97f5_row1_col0, #T_f97f5_row1_col1, #T_f97f5_row1_col2, #T_f97f5_row1_col3, #T_f97f5_row1_col4, #T_f97f5_row1_col5, #T_f97f5_row1_col6, #T_f97f5_row1_col7, #T_f97f5_row1_col8, #T_f97f5_row1_col9, #T_f97f5_row1_col10, #T_f97f5_row1_col11, #T_f97f5_row1_col12, #T_f97f5_row1_col13, #T_f97f5_row1_col14, #T_f97f5_row1_col15, #T_f97f5_row1_col16, #T_f97f5_row1_col17, #T_f97f5_row2_col0, #T_f97f5_row2_col1, #T_f97f5_row2_col2, #T_f97f5_row2_col3, #T_f97f5_row2_col4, #T_f97f5_row2_col16, #T_f97f5_row2_col17, #T_f97f5_row3_col0, #T_f97f5_row3_col1, #T_f97f5_row4_col0, #T_f97f5_row4_col1, #T_f97f5_row4_col11, #T_f97f5_row4_col12, #T_f97f5_row4_col13, #T_f97f5_row4_col14, #T_f97f5_row5_col0, #T_f97f5_row5_col1, #T_f97f5_row5_col7, #T_f97f5_row5_col8, #T_f97f5_row5_col9, #T_f97f5_row5_col10, #T_f97f5_row5_col11, #T_f97f5_row5_col12, #T_f97f5_row5_col13, #T_f97f5_row5_col14, #T_f97f5_row6_col0, #T_f97f5_row6_col1, #T_f97f5_row6_col2, #T_f97f5_row6_col3, #T_f97f5_row6_col4, #T_f97f5_row6_col5, #T_f97f5_row6_col6, #T_f97f5_row6_col7, #T_f97f5_row6_col8, #T_f97f5_row6_col9, #T_f97f5_row6_col10, #T_f97f5_row6_col11, #T_f97f5_row6_col12, #T_f97f5_row6_col13, #T_f97f5_row7_col0, #T_f97f5_row7_col1, #T_f97f5_row7_col2, #T_f97f5_row7_col3, #T_f97f5_row7_col4, #T_f97f5_row7_col5, #T_f97f5_row7_col6, #T_f97f5_row7_col7, #T_f97f5_row7_col8, #T_f97f5_row7_col9, #T_f97f5_row7_col10, #T_f97f5_row7_col11, #T_f97f5_row7_col17, #T_f97f5_row8_col0, #T_f97f5_row8_col1, #T_f97f5_row8_col2, #T_f97f5_row8_col3, #T_f97f5_row8_col4, #T_f97f5_row8_col5, #T_f97f5_row8_col6, #T_f97f5_row8_col7, #T_f97f5_row8_col8, #T_f97f5_row8_col16, #T_f97f5_row8_col17, #T_f97f5_row9_col0, #T_f97f5_row9_col1, #T_f97f5_row9_col2, #T_f97f5_row9_col3, #T_f97f5_row9_col4, #T_f97f5_row9_col5, #T_f97f5_row9_col6, #T_f97f5_row9_col7, #T_f97f5_row9_col8, #T_f97f5_row9_col14, #T_f97f5_row9_col15, #T_f97f5_row9_col16, #T_f97f5_row9_col17, #T_f97f5_row10_col0, #T_f97f5_row10_col1, #T_f97f5_row10_col2, #T_f97f5_row10_col3, #T_f97f5_row10_col4, #T_f97f5_row10_col5, #T_f97f5_row10_col6, #T_f97f5_row10_col7, #T_f97f5_row10_col8, #T_f97f5_row10_col16, #T_f97f5_row10_col17 {\n",
              "  font-size: 6pt;\n",
              "  background-color: #ffffff;\n",
              "  color: #000000;\n",
              "}\n",
              "#T_f97f5_row2_col5 {\n",
              "  font-size: 6pt;\n",
              "  background-color: #dbdbdb;\n",
              "  color: #000000;\n",
              "}\n",
              "#T_f97f5_row2_col6 {\n",
              "  font-size: 6pt;\n",
              "  background-color: #dfdfdf;\n",
              "  color: #000000;\n",
              "}\n",
              "#T_f97f5_row2_col7, #T_f97f5_row2_col8 {\n",
              "  font-size: 6pt;\n",
              "  background-color: #bbbbbb;\n",
              "  color: #000000;\n",
              "}\n",
              "#T_f97f5_row2_col9, #T_f97f5_row2_col10, #T_f97f5_row2_col11, #T_f97f5_row2_col12, #T_f97f5_row3_col6, #T_f97f5_row3_col7, #T_f97f5_row3_col8, #T_f97f5_row4_col2, #T_f97f5_row4_col3, #T_f97f5_row4_col4, #T_f97f5_row4_col5, #T_f97f5_row5_col17, #T_f97f5_row6_col15, #T_f97f5_row6_col16, #T_f97f5_row7_col14, #T_f97f5_row8_col13 {\n",
              "  font-size: 6pt;\n",
              "  background-color: #000000;\n",
              "  color: #f1f1f1;\n",
              "}\n",
              "#T_f97f5_row2_col13 {\n",
              "  font-size: 6pt;\n",
              "  background-color: #696969;\n",
              "  color: #f1f1f1;\n",
              "}\n",
              "#T_f97f5_row2_col14 {\n",
              "  font-size: 6pt;\n",
              "  background-color: #bdbdbd;\n",
              "  color: #000000;\n",
              "}\n",
              "#T_f97f5_row2_col15 {\n",
              "  font-size: 6pt;\n",
              "  background-color: #f3f3f3;\n",
              "  color: #000000;\n",
              "}\n",
              "#T_f97f5_row3_col2, #T_f97f5_row3_col3, #T_f97f5_row3_col4, #T_f97f5_row3_col16 {\n",
              "  font-size: 6pt;\n",
              "  background-color: #505050;\n",
              "  color: #f1f1f1;\n",
              "}\n",
              "#T_f97f5_row3_col5 {\n",
              "  font-size: 6pt;\n",
              "  background-color: #1b1b1b;\n",
              "  color: #f1f1f1;\n",
              "}\n",
              "#T_f97f5_row3_col9, #T_f97f5_row9_col9, #T_f97f5_row9_col10, #T_f97f5_row9_col11, #T_f97f5_row9_col12 {\n",
              "  font-size: 6pt;\n",
              "  background-color: #020202;\n",
              "  color: #f1f1f1;\n",
              "}\n",
              "#T_f97f5_row3_col10 {\n",
              "  font-size: 6pt;\n",
              "  background-color: #1e1e1e;\n",
              "  color: #f1f1f1;\n",
              "}\n",
              "#T_f97f5_row3_col11, #T_f97f5_row3_col12 {\n",
              "  font-size: 6pt;\n",
              "  background-color: #272727;\n",
              "  color: #f1f1f1;\n",
              "}\n",
              "#T_f97f5_row3_col13 {\n",
              "  font-size: 6pt;\n",
              "  background-color: #0e0e0e;\n",
              "  color: #f1f1f1;\n",
              "}\n",
              "#T_f97f5_row3_col14 {\n",
              "  font-size: 6pt;\n",
              "  background-color: #282828;\n",
              "  color: #f1f1f1;\n",
              "}\n",
              "#T_f97f5_row3_col15 {\n",
              "  font-size: 6pt;\n",
              "  background-color: #c5c5c5;\n",
              "  color: #000000;\n",
              "}\n",
              "#T_f97f5_row3_col17 {\n",
              "  font-size: 6pt;\n",
              "  background-color: #e8e8e8;\n",
              "  color: #000000;\n",
              "}\n",
              "#T_f97f5_row4_col6 {\n",
              "  font-size: 6pt;\n",
              "  background-color: #2e2e2e;\n",
              "  color: #f1f1f1;\n",
              "}\n",
              "#T_f97f5_row4_col7, #T_f97f5_row4_col8 {\n",
              "  font-size: 6pt;\n",
              "  background-color: #959595;\n",
              "  color: #f1f1f1;\n",
              "}\n",
              "#T_f97f5_row4_col9 {\n",
              "  font-size: 6pt;\n",
              "  background-color: #989898;\n",
              "  color: #f1f1f1;\n",
              "}\n",
              "#T_f97f5_row4_col10, #T_f97f5_row5_col2, #T_f97f5_row5_col5, #T_f97f5_row8_col9 {\n",
              "  font-size: 6pt;\n",
              "  background-color: #f0f0f0;\n",
              "  color: #000000;\n",
              "}\n",
              "#T_f97f5_row4_col15, #T_f97f5_row5_col6, #T_f97f5_row8_col15, #T_f97f5_row10_col15 {\n",
              "  font-size: 6pt;\n",
              "  background-color: #f7f7f7;\n",
              "  color: #000000;\n",
              "}\n",
              "#T_f97f5_row4_col16 {\n",
              "  font-size: 6pt;\n",
              "  background-color: #525252;\n",
              "  color: #f1f1f1;\n",
              "}\n",
              "#T_f97f5_row4_col17 {\n",
              "  font-size: 6pt;\n",
              "  background-color: #242424;\n",
              "  color: #f1f1f1;\n",
              "}\n",
              "#T_f97f5_row5_col3 {\n",
              "  font-size: 6pt;\n",
              "  background-color: #929292;\n",
              "  color: #f1f1f1;\n",
              "}\n",
              "#T_f97f5_row5_col4 {\n",
              "  font-size: 6pt;\n",
              "  background-color: #939393;\n",
              "  color: #f1f1f1;\n",
              "}\n",
              "#T_f97f5_row5_col15 {\n",
              "  font-size: 6pt;\n",
              "  background-color: #cecece;\n",
              "  color: #000000;\n",
              "}\n",
              "#T_f97f5_row5_col16 {\n",
              "  font-size: 6pt;\n",
              "  background-color: #111111;\n",
              "  color: #f1f1f1;\n",
              "}\n",
              "#T_f97f5_row6_col14 {\n",
              "  font-size: 6pt;\n",
              "  background-color: #dcdcdc;\n",
              "  color: #000000;\n",
              "}\n",
              "#T_f97f5_row6_col17 {\n",
              "  font-size: 6pt;\n",
              "  background-color: #303030;\n",
              "  color: #f1f1f1;\n",
              "}\n",
              "#T_f97f5_row7_col12 {\n",
              "  font-size: 6pt;\n",
              "  background-color: #f4f4f4;\n",
              "  color: #000000;\n",
              "}\n",
              "#T_f97f5_row7_col13 {\n",
              "  font-size: 6pt;\n",
              "  background-color: #323232;\n",
              "  color: #f1f1f1;\n",
              "}\n",
              "#T_f97f5_row7_col15 {\n",
              "  font-size: 6pt;\n",
              "  background-color: #414141;\n",
              "  color: #f1f1f1;\n",
              "}\n",
              "#T_f97f5_row7_col16 {\n",
              "  font-size: 6pt;\n",
              "  background-color: #cbcbcb;\n",
              "  color: #000000;\n",
              "}\n",
              "#T_f97f5_row8_col10 {\n",
              "  font-size: 6pt;\n",
              "  background-color: #7b7b7b;\n",
              "  color: #f1f1f1;\n",
              "}\n",
              "#T_f97f5_row8_col11 {\n",
              "  font-size: 6pt;\n",
              "  background-color: #515151;\n",
              "  color: #f1f1f1;\n",
              "}\n",
              "#T_f97f5_row8_col12 {\n",
              "  font-size: 6pt;\n",
              "  background-color: #3c3c3c;\n",
              "  color: #f1f1f1;\n",
              "}\n",
              "#T_f97f5_row8_col14 {\n",
              "  font-size: 6pt;\n",
              "  background-color: #717171;\n",
              "  color: #f1f1f1;\n",
              "}\n",
              "#T_f97f5_row9_col13 {\n",
              "  font-size: 6pt;\n",
              "  background-color: #b3b3b3;\n",
              "  color: #000000;\n",
              "}\n",
              "#T_f97f5_row10_col9 {\n",
              "  font-size: 6pt;\n",
              "  background-color: #545454;\n",
              "  color: #f1f1f1;\n",
              "}\n",
              "#T_f97f5_row10_col10, #T_f97f5_row10_col11, #T_f97f5_row10_col12 {\n",
              "  font-size: 6pt;\n",
              "  background-color: #535353;\n",
              "  color: #f1f1f1;\n",
              "}\n",
              "#T_f97f5_row10_col13 {\n",
              "  font-size: 6pt;\n",
              "  background-color: #9e9e9e;\n",
              "  color: #f1f1f1;\n",
              "}\n",
              "#T_f97f5_row10_col14 {\n",
              "  font-size: 6pt;\n",
              "  background-color: #d9d9d9;\n",
              "  color: #000000;\n",
              "}\n",
              "</style>\n",
              "<table id=\"T_f97f5\" class=\"dataframe\">\n",
              "  <thead>\n",
              "    <tr>\n",
              "      <th class=\"blank level0\" >&nbsp;</th>\n",
              "      <th id=\"T_f97f5_level0_col0\" class=\"col_heading level0 col0\" >0</th>\n",
              "      <th id=\"T_f97f5_level0_col1\" class=\"col_heading level0 col1\" >1</th>\n",
              "      <th id=\"T_f97f5_level0_col2\" class=\"col_heading level0 col2\" >2</th>\n",
              "      <th id=\"T_f97f5_level0_col3\" class=\"col_heading level0 col3\" >3</th>\n",
              "      <th id=\"T_f97f5_level0_col4\" class=\"col_heading level0 col4\" >4</th>\n",
              "      <th id=\"T_f97f5_level0_col5\" class=\"col_heading level0 col5\" >5</th>\n",
              "      <th id=\"T_f97f5_level0_col6\" class=\"col_heading level0 col6\" >6</th>\n",
              "      <th id=\"T_f97f5_level0_col7\" class=\"col_heading level0 col7\" >7</th>\n",
              "      <th id=\"T_f97f5_level0_col8\" class=\"col_heading level0 col8\" >8</th>\n",
              "      <th id=\"T_f97f5_level0_col9\" class=\"col_heading level0 col9\" >9</th>\n",
              "      <th id=\"T_f97f5_level0_col10\" class=\"col_heading level0 col10\" >10</th>\n",
              "      <th id=\"T_f97f5_level0_col11\" class=\"col_heading level0 col11\" >11</th>\n",
              "      <th id=\"T_f97f5_level0_col12\" class=\"col_heading level0 col12\" >12</th>\n",
              "      <th id=\"T_f97f5_level0_col13\" class=\"col_heading level0 col13\" >13</th>\n",
              "      <th id=\"T_f97f5_level0_col14\" class=\"col_heading level0 col14\" >14</th>\n",
              "      <th id=\"T_f97f5_level0_col15\" class=\"col_heading level0 col15\" >15</th>\n",
              "      <th id=\"T_f97f5_level0_col16\" class=\"col_heading level0 col16\" >16</th>\n",
              "      <th id=\"T_f97f5_level0_col17\" class=\"col_heading level0 col17\" >17</th>\n",
              "    </tr>\n",
              "  </thead>\n",
              "  <tbody>\n",
              "    <tr>\n",
              "      <th id=\"T_f97f5_level0_row0\" class=\"row_heading level0 row0\" >0</th>\n",
              "      <td id=\"T_f97f5_row0_col0\" class=\"data row0 col0\" >0</td>\n",
              "      <td id=\"T_f97f5_row0_col1\" class=\"data row0 col1\" >0</td>\n",
              "      <td id=\"T_f97f5_row0_col2\" class=\"data row0 col2\" >0</td>\n",
              "      <td id=\"T_f97f5_row0_col3\" class=\"data row0 col3\" >0</td>\n",
              "      <td id=\"T_f97f5_row0_col4\" class=\"data row0 col4\" >0</td>\n",
              "      <td id=\"T_f97f5_row0_col5\" class=\"data row0 col5\" >0</td>\n",
              "      <td id=\"T_f97f5_row0_col6\" class=\"data row0 col6\" >0</td>\n",
              "      <td id=\"T_f97f5_row0_col7\" class=\"data row0 col7\" >0</td>\n",
              "      <td id=\"T_f97f5_row0_col8\" class=\"data row0 col8\" >0</td>\n",
              "      <td id=\"T_f97f5_row0_col9\" class=\"data row0 col9\" >0</td>\n",
              "      <td id=\"T_f97f5_row0_col10\" class=\"data row0 col10\" >0</td>\n",
              "      <td id=\"T_f97f5_row0_col11\" class=\"data row0 col11\" >0</td>\n",
              "      <td id=\"T_f97f5_row0_col12\" class=\"data row0 col12\" >0</td>\n",
              "      <td id=\"T_f97f5_row0_col13\" class=\"data row0 col13\" >0</td>\n",
              "      <td id=\"T_f97f5_row0_col14\" class=\"data row0 col14\" >0</td>\n",
              "      <td id=\"T_f97f5_row0_col15\" class=\"data row0 col15\" >0</td>\n",
              "      <td id=\"T_f97f5_row0_col16\" class=\"data row0 col16\" >0</td>\n",
              "      <td id=\"T_f97f5_row0_col17\" class=\"data row0 col17\" >0</td>\n",
              "    </tr>\n",
              "    <tr>\n",
              "      <th id=\"T_f97f5_level0_row1\" class=\"row_heading level0 row1\" >1</th>\n",
              "      <td id=\"T_f97f5_row1_col0\" class=\"data row1 col0\" >0</td>\n",
              "      <td id=\"T_f97f5_row1_col1\" class=\"data row1 col1\" >0</td>\n",
              "      <td id=\"T_f97f5_row1_col2\" class=\"data row1 col2\" >0</td>\n",
              "      <td id=\"T_f97f5_row1_col3\" class=\"data row1 col3\" >0</td>\n",
              "      <td id=\"T_f97f5_row1_col4\" class=\"data row1 col4\" >0</td>\n",
              "      <td id=\"T_f97f5_row1_col5\" class=\"data row1 col5\" >0</td>\n",
              "      <td id=\"T_f97f5_row1_col6\" class=\"data row1 col6\" >0</td>\n",
              "      <td id=\"T_f97f5_row1_col7\" class=\"data row1 col7\" >0</td>\n",
              "      <td id=\"T_f97f5_row1_col8\" class=\"data row1 col8\" >0</td>\n",
              "      <td id=\"T_f97f5_row1_col9\" class=\"data row1 col9\" >0</td>\n",
              "      <td id=\"T_f97f5_row1_col10\" class=\"data row1 col10\" >0</td>\n",
              "      <td id=\"T_f97f5_row1_col11\" class=\"data row1 col11\" >0</td>\n",
              "      <td id=\"T_f97f5_row1_col12\" class=\"data row1 col12\" >0</td>\n",
              "      <td id=\"T_f97f5_row1_col13\" class=\"data row1 col13\" >0</td>\n",
              "      <td id=\"T_f97f5_row1_col14\" class=\"data row1 col14\" >0</td>\n",
              "      <td id=\"T_f97f5_row1_col15\" class=\"data row1 col15\" >0</td>\n",
              "      <td id=\"T_f97f5_row1_col16\" class=\"data row1 col16\" >0</td>\n",
              "      <td id=\"T_f97f5_row1_col17\" class=\"data row1 col17\" >0</td>\n",
              "    </tr>\n",
              "    <tr>\n",
              "      <th id=\"T_f97f5_level0_row2\" class=\"row_heading level0 row2\" >2</th>\n",
              "      <td id=\"T_f97f5_row2_col0\" class=\"data row2 col0\" >0</td>\n",
              "      <td id=\"T_f97f5_row2_col1\" class=\"data row2 col1\" >0</td>\n",
              "      <td id=\"T_f97f5_row2_col2\" class=\"data row2 col2\" >0</td>\n",
              "      <td id=\"T_f97f5_row2_col3\" class=\"data row2 col3\" >0</td>\n",
              "      <td id=\"T_f97f5_row2_col4\" class=\"data row2 col4\" >0</td>\n",
              "      <td id=\"T_f97f5_row2_col5\" class=\"data row2 col5\" >60</td>\n",
              "      <td id=\"T_f97f5_row2_col6\" class=\"data row2 col6\" >48</td>\n",
              "      <td id=\"T_f97f5_row2_col7\" class=\"data row2 col7\" >96</td>\n",
              "      <td id=\"T_f97f5_row2_col8\" class=\"data row2 col8\" >96</td>\n",
              "      <td id=\"T_f97f5_row2_col9\" class=\"data row2 col9\" >255</td>\n",
              "      <td id=\"T_f97f5_row2_col10\" class=\"data row2 col10\" >253</td>\n",
              "      <td id=\"T_f97f5_row2_col11\" class=\"data row2 col11\" >253</td>\n",
              "      <td id=\"T_f97f5_row2_col12\" class=\"data row2 col12\" >253</td>\n",
              "      <td id=\"T_f97f5_row2_col13\" class=\"data row2 col13\" >153</td>\n",
              "      <td id=\"T_f97f5_row2_col14\" class=\"data row2 col14\" >96</td>\n",
              "      <td id=\"T_f97f5_row2_col15\" class=\"data row2 col15\" >24</td>\n",
              "      <td id=\"T_f97f5_row2_col16\" class=\"data row2 col16\" >0</td>\n",
              "      <td id=\"T_f97f5_row2_col17\" class=\"data row2 col17\" >0</td>\n",
              "    </tr>\n",
              "    <tr>\n",
              "      <th id=\"T_f97f5_level0_row3\" class=\"row_heading level0 row3\" >3</th>\n",
              "      <td id=\"T_f97f5_row3_col0\" class=\"data row3 col0\" >0</td>\n",
              "      <td id=\"T_f97f5_row3_col1\" class=\"data row3 col1\" >0</td>\n",
              "      <td id=\"T_f97f5_row3_col2\" class=\"data row3 col2\" >167</td>\n",
              "      <td id=\"T_f97f5_row3_col3\" class=\"data row3 col3\" >190</td>\n",
              "      <td id=\"T_f97f5_row3_col4\" class=\"data row3 col4\" >191</td>\n",
              "      <td id=\"T_f97f5_row3_col5\" class=\"data row3 col5\" >228</td>\n",
              "      <td id=\"T_f97f5_row3_col6\" class=\"data row3 col6\" >221</td>\n",
              "      <td id=\"T_f97f5_row3_col7\" class=\"data row3 col7\" >251</td>\n",
              "      <td id=\"T_f97f5_row3_col8\" class=\"data row3 col8\" >251</td>\n",
              "      <td id=\"T_f97f5_row3_col9\" class=\"data row3 col9\" >253</td>\n",
              "      <td id=\"T_f97f5_row3_col10\" class=\"data row3 col10\" >227</td>\n",
              "      <td id=\"T_f97f5_row3_col11\" class=\"data row3 col11\" >220</td>\n",
              "      <td id=\"T_f97f5_row3_col12\" class=\"data row3 col12\" >220</td>\n",
              "      <td id=\"T_f97f5_row3_col13\" class=\"data row3 col13\" >220</td>\n",
              "      <td id=\"T_f97f5_row3_col14\" class=\"data row3 col14\" >221</td>\n",
              "      <td id=\"T_f97f5_row3_col15\" class=\"data row3 col15\" >78</td>\n",
              "      <td id=\"T_f97f5_row3_col16\" class=\"data row3 col16\" >190</td>\n",
              "      <td id=\"T_f97f5_row3_col17\" class=\"data row3 col17\" >43</td>\n",
              "    </tr>\n",
              "    <tr>\n",
              "      <th id=\"T_f97f5_level0_row4\" class=\"row_heading level0 row4\" >4</th>\n",
              "      <td id=\"T_f97f5_row4_col0\" class=\"data row4 col0\" >0</td>\n",
              "      <td id=\"T_f97f5_row4_col1\" class=\"data row4 col1\" >0</td>\n",
              "      <td id=\"T_f97f5_row4_col2\" class=\"data row4 col2\" >221</td>\n",
              "      <td id=\"T_f97f5_row4_col3\" class=\"data row4 col3\" >251</td>\n",
              "      <td id=\"T_f97f5_row4_col4\" class=\"data row4 col4\" >253</td>\n",
              "      <td id=\"T_f97f5_row4_col5\" class=\"data row4 col5\" >251</td>\n",
              "      <td id=\"T_f97f5_row4_col6\" class=\"data row4 col6\" >188</td>\n",
              "      <td id=\"T_f97f5_row4_col7\" class=\"data row4 col7\" >126</td>\n",
              "      <td id=\"T_f97f5_row4_col8\" class=\"data row4 col8\" >126</td>\n",
              "      <td id=\"T_f97f5_row4_col9\" class=\"data row4 col9\" >126</td>\n",
              "      <td id=\"T_f97f5_row4_col10\" class=\"data row4 col10\" >31</td>\n",
              "      <td id=\"T_f97f5_row4_col11\" class=\"data row4 col11\" >0</td>\n",
              "      <td id=\"T_f97f5_row4_col12\" class=\"data row4 col12\" >0</td>\n",
              "      <td id=\"T_f97f5_row4_col13\" class=\"data row4 col13\" >0</td>\n",
              "      <td id=\"T_f97f5_row4_col14\" class=\"data row4 col14\" >0</td>\n",
              "      <td id=\"T_f97f5_row4_col15\" class=\"data row4 col15\" >16</td>\n",
              "      <td id=\"T_f97f5_row4_col16\" class=\"data row4 col16\" >188</td>\n",
              "      <td id=\"T_f97f5_row4_col17\" class=\"data row4 col17\" >220</td>\n",
              "    </tr>\n",
              "    <tr>\n",
              "      <th id=\"T_f97f5_level0_row5\" class=\"row_heading level0 row5\" >5</th>\n",
              "      <td id=\"T_f97f5_row5_col0\" class=\"data row5 col0\" >0</td>\n",
              "      <td id=\"T_f97f5_row5_col1\" class=\"data row5 col1\" >0</td>\n",
              "      <td id=\"T_f97f5_row5_col2\" class=\"data row5 col2\" >27</td>\n",
              "      <td id=\"T_f97f5_row5_col3\" class=\"data row5 col3\" >129</td>\n",
              "      <td id=\"T_f97f5_row5_col4\" class=\"data row5 col4\" >129</td>\n",
              "      <td id=\"T_f97f5_row5_col5\" class=\"data row5 col5\" >31</td>\n",
              "      <td id=\"T_f97f5_row5_col6\" class=\"data row5 col6\" >15</td>\n",
              "      <td id=\"T_f97f5_row5_col7\" class=\"data row5 col7\" >0</td>\n",
              "      <td id=\"T_f97f5_row5_col8\" class=\"data row5 col8\" >0</td>\n",
              "      <td id=\"T_f97f5_row5_col9\" class=\"data row5 col9\" >0</td>\n",
              "      <td id=\"T_f97f5_row5_col10\" class=\"data row5 col10\" >0</td>\n",
              "      <td id=\"T_f97f5_row5_col11\" class=\"data row5 col11\" >0</td>\n",
              "      <td id=\"T_f97f5_row5_col12\" class=\"data row5 col12\" >0</td>\n",
              "      <td id=\"T_f97f5_row5_col13\" class=\"data row5 col13\" >0</td>\n",
              "      <td id=\"T_f97f5_row5_col14\" class=\"data row5 col14\" >0</td>\n",
              "      <td id=\"T_f97f5_row5_col15\" class=\"data row5 col15\" >68</td>\n",
              "      <td id=\"T_f97f5_row5_col16\" class=\"data row5 col16\" >236</td>\n",
              "      <td id=\"T_f97f5_row5_col17\" class=\"data row5 col17\" >251</td>\n",
              "    </tr>\n",
              "    <tr>\n",
              "      <th id=\"T_f97f5_level0_row6\" class=\"row_heading level0 row6\" >6</th>\n",
              "      <td id=\"T_f97f5_row6_col0\" class=\"data row6 col0\" >0</td>\n",
              "      <td id=\"T_f97f5_row6_col1\" class=\"data row6 col1\" >0</td>\n",
              "      <td id=\"T_f97f5_row6_col2\" class=\"data row6 col2\" >0</td>\n",
              "      <td id=\"T_f97f5_row6_col3\" class=\"data row6 col3\" >0</td>\n",
              "      <td id=\"T_f97f5_row6_col4\" class=\"data row6 col4\" >0</td>\n",
              "      <td id=\"T_f97f5_row6_col5\" class=\"data row6 col5\" >0</td>\n",
              "      <td id=\"T_f97f5_row6_col6\" class=\"data row6 col6\" >0</td>\n",
              "      <td id=\"T_f97f5_row6_col7\" class=\"data row6 col7\" >0</td>\n",
              "      <td id=\"T_f97f5_row6_col8\" class=\"data row6 col8\" >0</td>\n",
              "      <td id=\"T_f97f5_row6_col9\" class=\"data row6 col9\" >0</td>\n",
              "      <td id=\"T_f97f5_row6_col10\" class=\"data row6 col10\" >0</td>\n",
              "      <td id=\"T_f97f5_row6_col11\" class=\"data row6 col11\" >0</td>\n",
              "      <td id=\"T_f97f5_row6_col12\" class=\"data row6 col12\" >0</td>\n",
              "      <td id=\"T_f97f5_row6_col13\" class=\"data row6 col13\" >0</td>\n",
              "      <td id=\"T_f97f5_row6_col14\" class=\"data row6 col14\" >60</td>\n",
              "      <td id=\"T_f97f5_row6_col15\" class=\"data row6 col15\" >228</td>\n",
              "      <td id=\"T_f97f5_row6_col16\" class=\"data row6 col16\" >251</td>\n",
              "      <td id=\"T_f97f5_row6_col17\" class=\"data row6 col17\" >211</td>\n",
              "    </tr>\n",
              "    <tr>\n",
              "      <th id=\"T_f97f5_level0_row7\" class=\"row_heading level0 row7\" >7</th>\n",
              "      <td id=\"T_f97f5_row7_col0\" class=\"data row7 col0\" >0</td>\n",
              "      <td id=\"T_f97f5_row7_col1\" class=\"data row7 col1\" >0</td>\n",
              "      <td id=\"T_f97f5_row7_col2\" class=\"data row7 col2\" >0</td>\n",
              "      <td id=\"T_f97f5_row7_col3\" class=\"data row7 col3\" >0</td>\n",
              "      <td id=\"T_f97f5_row7_col4\" class=\"data row7 col4\" >0</td>\n",
              "      <td id=\"T_f97f5_row7_col5\" class=\"data row7 col5\" >0</td>\n",
              "      <td id=\"T_f97f5_row7_col6\" class=\"data row7 col6\" >0</td>\n",
              "      <td id=\"T_f97f5_row7_col7\" class=\"data row7 col7\" >0</td>\n",
              "      <td id=\"T_f97f5_row7_col8\" class=\"data row7 col8\" >0</td>\n",
              "      <td id=\"T_f97f5_row7_col9\" class=\"data row7 col9\" >0</td>\n",
              "      <td id=\"T_f97f5_row7_col10\" class=\"data row7 col10\" >0</td>\n",
              "      <td id=\"T_f97f5_row7_col11\" class=\"data row7 col11\" >0</td>\n",
              "      <td id=\"T_f97f5_row7_col12\" class=\"data row7 col12\" >24</td>\n",
              "      <td id=\"T_f97f5_row7_col13\" class=\"data row7 col13\" >194</td>\n",
              "      <td id=\"T_f97f5_row7_col14\" class=\"data row7 col14\" >255</td>\n",
              "      <td id=\"T_f97f5_row7_col15\" class=\"data row7 col15\" >181</td>\n",
              "      <td id=\"T_f97f5_row7_col16\" class=\"data row7 col16\" >79</td>\n",
              "      <td id=\"T_f97f5_row7_col17\" class=\"data row7 col17\" >0</td>\n",
              "    </tr>\n",
              "    <tr>\n",
              "      <th id=\"T_f97f5_level0_row8\" class=\"row_heading level0 row8\" >8</th>\n",
              "      <td id=\"T_f97f5_row8_col0\" class=\"data row8 col0\" >0</td>\n",
              "      <td id=\"T_f97f5_row8_col1\" class=\"data row8 col1\" >0</td>\n",
              "      <td id=\"T_f97f5_row8_col2\" class=\"data row8 col2\" >0</td>\n",
              "      <td id=\"T_f97f5_row8_col3\" class=\"data row8 col3\" >0</td>\n",
              "      <td id=\"T_f97f5_row8_col4\" class=\"data row8 col4\" >0</td>\n",
              "      <td id=\"T_f97f5_row8_col5\" class=\"data row8 col5\" >0</td>\n",
              "      <td id=\"T_f97f5_row8_col6\" class=\"data row8 col6\" >0</td>\n",
              "      <td id=\"T_f97f5_row8_col7\" class=\"data row8 col7\" >0</td>\n",
              "      <td id=\"T_f97f5_row8_col8\" class=\"data row8 col8\" >0</td>\n",
              "      <td id=\"T_f97f5_row8_col9\" class=\"data row8 col9\" >32</td>\n",
              "      <td id=\"T_f97f5_row8_col10\" class=\"data row8 col10\" >151</td>\n",
              "      <td id=\"T_f97f5_row8_col11\" class=\"data row8 col11\" >190</td>\n",
              "      <td id=\"T_f97f5_row8_col12\" class=\"data row8 col12\" >205</td>\n",
              "      <td id=\"T_f97f5_row8_col13\" class=\"data row8 col13\" >231</td>\n",
              "      <td id=\"T_f97f5_row8_col14\" class=\"data row8 col14\" >161</td>\n",
              "      <td id=\"T_f97f5_row8_col15\" class=\"data row8 col15\" >16</td>\n",
              "      <td id=\"T_f97f5_row8_col16\" class=\"data row8 col16\" >0</td>\n",
              "      <td id=\"T_f97f5_row8_col17\" class=\"data row8 col17\" >0</td>\n",
              "    </tr>\n",
              "    <tr>\n",
              "      <th id=\"T_f97f5_level0_row9\" class=\"row_heading level0 row9\" >9</th>\n",
              "      <td id=\"T_f97f5_row9_col0\" class=\"data row9 col0\" >0</td>\n",
              "      <td id=\"T_f97f5_row9_col1\" class=\"data row9 col1\" >0</td>\n",
              "      <td id=\"T_f97f5_row9_col2\" class=\"data row9 col2\" >0</td>\n",
              "      <td id=\"T_f97f5_row9_col3\" class=\"data row9 col3\" >0</td>\n",
              "      <td id=\"T_f97f5_row9_col4\" class=\"data row9 col4\" >0</td>\n",
              "      <td id=\"T_f97f5_row9_col5\" class=\"data row9 col5\" >0</td>\n",
              "      <td id=\"T_f97f5_row9_col6\" class=\"data row9 col6\" >0</td>\n",
              "      <td id=\"T_f97f5_row9_col7\" class=\"data row9 col7\" >0</td>\n",
              "      <td id=\"T_f97f5_row9_col8\" class=\"data row9 col8\" >0</td>\n",
              "      <td id=\"T_f97f5_row9_col9\" class=\"data row9 col9\" >253</td>\n",
              "      <td id=\"T_f97f5_row9_col10\" class=\"data row9 col10\" >251</td>\n",
              "      <td id=\"T_f97f5_row9_col11\" class=\"data row9 col11\" >251</td>\n",
              "      <td id=\"T_f97f5_row9_col12\" class=\"data row9 col12\" >251</td>\n",
              "      <td id=\"T_f97f5_row9_col13\" class=\"data row9 col13\" >94</td>\n",
              "      <td id=\"T_f97f5_row9_col14\" class=\"data row9 col14\" >0</td>\n",
              "      <td id=\"T_f97f5_row9_col15\" class=\"data row9 col15\" >0</td>\n",
              "      <td id=\"T_f97f5_row9_col16\" class=\"data row9 col16\" >0</td>\n",
              "      <td id=\"T_f97f5_row9_col17\" class=\"data row9 col17\" >0</td>\n",
              "    </tr>\n",
              "    <tr>\n",
              "      <th id=\"T_f97f5_level0_row10\" class=\"row_heading level0 row10\" >10</th>\n",
              "      <td id=\"T_f97f5_row10_col0\" class=\"data row10 col0\" >0</td>\n",
              "      <td id=\"T_f97f5_row10_col1\" class=\"data row10 col1\" >0</td>\n",
              "      <td id=\"T_f97f5_row10_col2\" class=\"data row10 col2\" >0</td>\n",
              "      <td id=\"T_f97f5_row10_col3\" class=\"data row10 col3\" >0</td>\n",
              "      <td id=\"T_f97f5_row10_col4\" class=\"data row10 col4\" >0</td>\n",
              "      <td id=\"T_f97f5_row10_col5\" class=\"data row10 col5\" >0</td>\n",
              "      <td id=\"T_f97f5_row10_col6\" class=\"data row10 col6\" >0</td>\n",
              "      <td id=\"T_f97f5_row10_col7\" class=\"data row10 col7\" >0</td>\n",
              "      <td id=\"T_f97f5_row10_col8\" class=\"data row10 col8\" >0</td>\n",
              "      <td id=\"T_f97f5_row10_col9\" class=\"data row10 col9\" >189</td>\n",
              "      <td id=\"T_f97f5_row10_col10\" class=\"data row10 col10\" >188</td>\n",
              "      <td id=\"T_f97f5_row10_col11\" class=\"data row10 col11\" >188</td>\n",
              "      <td id=\"T_f97f5_row10_col12\" class=\"data row10 col12\" >188</td>\n",
              "      <td id=\"T_f97f5_row10_col13\" class=\"data row10 col13\" >110</td>\n",
              "      <td id=\"T_f97f5_row10_col14\" class=\"data row10 col14\" >64</td>\n",
              "      <td id=\"T_f97f5_row10_col15\" class=\"data row10 col15\" >16</td>\n",
              "      <td id=\"T_f97f5_row10_col16\" class=\"data row10 col16\" >0</td>\n",
              "      <td id=\"T_f97f5_row10_col17\" class=\"data row10 col17\" >0</td>\n",
              "    </tr>\n",
              "  </tbody>\n",
              "</table>\n"
            ]
          },
          "metadata": {},
          "execution_count": 12
        }
      ]
    },
    {
      "cell_type": "markdown",
      "source": [
        "we then created a data frame by slicing the tensor object of the image to a small section (rows 4-15, and colums 4-22), as well as setting the font size and background of the cells of the data frame"
      ],
      "metadata": {
        "id": "K4SFZiSgr6YR"
      }
    },
    {
      "cell_type": "markdown",
      "source": [
        "# 1. Our first model of image classification\n",
        "### - calculating the mean of all the pixels\n",
        "\n",
        "\n",
        "Now we are going to do our first model of distinguishing between 3 and a 7. We are purely going to determine the average numerical value of each pixel for each category (3 or 7). To do this we are going to create a stack of the tensors (going from 2d tensor to 3d tensor or 3d matrix or rank 3 tensor)."
      ],
      "metadata": {
        "id": "_8-OPenyx2k0"
      }
    },
    {
      "cell_type": "code",
      "source": [
        "seven_tensors = [tensor(Image.open(o)) for o in sevens]\n",
        "three_tensors = [tensor(Image.open(o)) for o in threes]\n",
        "\n",
        "len(seven_tensors), len(three_tensors)\n",
        "\n"
      ],
      "metadata": {
        "id": "6nfIQ18ty92f",
        "colab": {
          "base_uri": "https://localhost:8080/"
        },
        "outputId": "cf78da26-149a-41ed-a95c-6a0ddaf731c1"
      },
      "execution_count": 13,
      "outputs": [
        {
          "output_type": "execute_result",
          "data": {
            "text/plain": [
              "(6265, 6131)"
            ]
          },
          "metadata": {},
          "execution_count": 13
        }
      ]
    },
    {
      "cell_type": "markdown",
      "source": [
        "In the above code we created a list of tensor objects for each image in each category. 6k images for each category roughly."
      ],
      "metadata": {
        "id": "7UoHJMDc6SEU"
      }
    },
    {
      "cell_type": "code",
      "source": [
        "show_image(three_tensors[0])\n"
      ],
      "metadata": {
        "id": "b4CPD4hHz262",
        "colab": {
          "base_uri": "https://localhost:8080/",
          "height": 131
        },
        "outputId": "5244f7f9-8bbd-4098-df7d-e7a7e5d7dfe2"
      },
      "execution_count": 14,
      "outputs": [
        {
          "output_type": "execute_result",
          "data": {
            "text/plain": [
              "<Axes: >"
            ]
          },
          "metadata": {},
          "execution_count": 14
        },
        {
          "output_type": "display_data",
          "data": {
            "text/plain": [
              "<Figure size 100x100 with 1 Axes>"
            ],
            "image/png": "[encoded data removed]"
          },
          "metadata": {}
        }
      ]
    },
    {
      "cell_type": "code",
      "source": [
        "stacked_sevens = torch.stack(seven_tensors).float()/255\n",
        "stacked_threes = torch.stack(three_tensors).float()/255\n",
        "\n"
      ],
      "metadata": {
        "id": "a4gMONVU61iL"
      },
      "execution_count": 15,
      "outputs": []
    },
    {
      "cell_type": "markdown",
      "source": [
        "What we did here is create a rank 3 tensor by stacking all of the 2d tensors together in each of the categories. We need to convert this to a float if we want pytorch to calculate the mean. Also, since pixel values are large (between 0 and 255) we want to normalize this by dividing by the largest pixel value, creating values between 0 and 1."
      ],
      "metadata": {
        "id": "4qRYAjbV71Ir"
      }
    },
    {
      "cell_type": "code",
      "source": [
        "stacked_sevens.size()"
      ],
      "metadata": {
        "id": "7ayAE4sL-amo",
        "colab": {
          "base_uri": "https://localhost:8080/"
        },
        "outputId": "6133f549-91eb-414a-d735-3509324b0ec9"
      },
      "execution_count": 16,
      "outputs": [
        {
          "output_type": "execute_result",
          "data": {
            "text/plain": [
              "torch.Size([6265, 28, 28])"
            ]
          },
          "metadata": {},
          "execution_count": 16
        }
      ]
    },
    {
      "cell_type": "markdown",
      "source": [
        "the size or shape is the size of each axis of the tensor. 6265 images of 28 rows and 28 colums of pixels."
      ],
      "metadata": {
        "id": "0yRr3d98-cG5"
      }
    },
    {
      "cell_type": "code",
      "source": [
        "len(stacked_sevens.size())"
      ],
      "metadata": {
        "id": "3b1fI2uc9JFj",
        "colab": {
          "base_uri": "https://localhost:8080/"
        },
        "outputId": "b761d0f7-29d1-47dc-f1a1-e146b1ff2ae7"
      },
      "execution_count": 17,
      "outputs": [
        {
          "output_type": "execute_result",
          "data": {
            "text/plain": [
              "3"
            ]
          },
          "metadata": {},
          "execution_count": 17
        }
      ]
    },
    {
      "cell_type": "markdown",
      "source": [
        "This is the number of elements in a specific axis. 3 elements is a rank 3 tensor."
      ],
      "metadata": {
        "id": "2wErtQD69Pl3"
      }
    },
    {
      "cell_type": "code",
      "source": [
        "mean3 = stacked_threes.mean(0)\n",
        "mean7 = stacked_sevens.mean(0)\n",
        "\n",
        "show_image(mean3)\n",
        "show_image(mean7)"
      ],
      "metadata": {
        "id": "yTh5PBrYZWGl",
        "colab": {
          "base_uri": "https://localhost:8080/",
          "height": 228
        },
        "outputId": "a3c31760-01d8-4490-b01f-4f4b5939138f"
      },
      "execution_count": 18,
      "outputs": [
        {
          "output_type": "execute_result",
          "data": {
            "text/plain": [
              "<Axes: >"
            ]
          },
          "metadata": {},
          "execution_count": 18
        },
        {
          "output_type": "display_data",
          "data": {
            "text/plain": [
              "<Figure size 100x100 with 1 Axes>"
            ],
            "image/png": "[encoded data removed]"
          },
          "metadata": {}
        },
        {
          "output_type": "display_data",
          "data": {
            "text/plain": [
              "<Figure size 100x100 with 1 Axes>"
            ],
            "image/png": "[encoded data removed]"
          },
          "metadata": {}
        }
      ]
    },
    {
      "cell_type": "markdown",
      "source": [],
      "metadata": {
        "id": "GoP2saZnbaNc"
      }
    },
    {
      "cell_type": "markdown",
      "source": [
        "By taking the mean along dimension 0, we effectively average out the pixel values across all images and obtain a single representative image that captures the common features or characteristics of the digit 3."
      ],
      "metadata": {
        "id": "R0Y9Cd0ncUq_"
      }
    },
    {
      "cell_type": "markdown",
      "source": [
        "##Baseline Model - Mean value of pixels\n",
        "\n",
        "We are going to use two approaches:\n",
        "\n",
        "1. Take the mean of the absolute value of differences (absolute value is the function that replaces negative values with positive values). **This is called the mean absolute difference or L1 norm**\n",
        "\n",
        "2. Take the mean of the square of differences (which makes everything positive) and then take the square root (which undoes the squaring). **This is called the root mean squared error (RMSE) or L2 norm.**"
      ],
      "metadata": {
        "id": "61sHE8JqerRN"
      }
    },
    {
      "cell_type": "markdown",
      "source": [],
      "metadata": {
        "id": "mn1ZHOzEequG"
      }
    },
    {
      "cell_type": "code",
      "source": [
        "arb_3 = stacked_threes[9]\n",
        "show_image(arb_3)"
      ],
      "metadata": {
        "id": "BVrk5GFofDMm",
        "colab": {
          "base_uri": "https://localhost:8080/",
          "height": 131
        },
        "outputId": "68ce5cb6-16f0-40a8-8ccc-a47074132c5d"
      },
      "execution_count": 19,
      "outputs": [
        {
          "output_type": "execute_result",
          "data": {
            "text/plain": [
              "<Axes: >"
            ]
          },
          "metadata": {},
          "execution_count": 19
        },
        {
          "output_type": "display_data",
          "data": {
            "text/plain": [
              "<Figure size 100x100 with 1 Axes>"
            ],
            "image/png": "[encoded data removed]"
          },
          "metadata": {}
        }
      ]
    },
    {
      "cell_type": "code",
      "source": [
        "l1_norm_3 = (arb_3-mean3).abs().mean()\n",
        "\n",
        "l2_norm_3 = ((arb_3 - mean3)**2).mean().sqrt()\n",
        "\n",
        "l1_norm_3, l2_norm_3\n"
      ],
      "metadata": {
        "id": "aPlgDQkVbRq3",
        "colab": {
          "base_uri": "https://localhost:8080/"
        },
        "outputId": "47fe2df8-915b-4525-c232-6317dc48bdd9"
      },
      "execution_count": 20,
      "outputs": [
        {
          "output_type": "execute_result",
          "data": {
            "text/plain": [
              "(tensor(0.1163), tensor(0.2118))"
            ]
          },
          "metadata": {},
          "execution_count": 20
        }
      ]
    },
    {
      "cell_type": "code",
      "source": [
        "\n",
        "l1_norm_7 = (arb_3-mean7).abs().mean()\n",
        "\n",
        "l2_norm_7 = ((arb_3 - mean7)**2).mean().sqrt()\n",
        "\n",
        "l1_norm_7, l2_norm_7"
      ],
      "metadata": {
        "id": "qGzT9-GRgIDN",
        "colab": {
          "base_uri": "https://localhost:8080/"
        },
        "outputId": "02d2d896-b1c9-403a-adf9-0acaf3dd9256"
      },
      "execution_count": 21,
      "outputs": [
        {
          "output_type": "execute_result",
          "data": {
            "text/plain": [
              "(tensor(0.1564), tensor(0.3007))"
            ]
          },
          "metadata": {},
          "execution_count": 21
        }
      ]
    },
    {
      "cell_type": "markdown",
      "source": [
        "In both cases the l1 and l2 normal is smaller when comparing to \"ideal 3\" and the baseline model would accurately guess the right number."
      ],
      "metadata": {
        "id": "uKa9wM7VgUCG"
      }
    },
    {
      "cell_type": "code",
      "source": [
        "F.l1_loss(arb_3.float(), mean7), F.mse_loss(arb_3.float(), mean7).sqrt()"
      ],
      "metadata": {
        "id": "H-oDsM7Xk4dL",
        "colab": {
          "base_uri": "https://localhost:8080/"
        },
        "outputId": "59fa7897-625e-4a3e-aee0-8deb0d396207"
      },
      "execution_count": 22,
      "outputs": [
        {
          "output_type": "execute_result",
          "data": {
            "text/plain": [
              "(tensor(0.1564), tensor(0.3007))"
            ]
          },
          "metadata": {},
          "execution_count": 22
        }
      ]
    },
    {
      "cell_type": "markdown",
      "source": [
        "Pytorch already includes l1_loss and mean square error as loss functions, and is accessible with F in fastai framework"
      ],
      "metadata": {
        "id": "6e_AwJSIlLAZ"
      }
    },
    {
      "cell_type": "markdown",
      "source": [
        "### Working with tensors and numpy arrays\n",
        "\n",
        "1. Numpy arrays is a multidimensional table of data **of the same type.** you can have an array of arrays, and the indices can be various sizes (called a jagged array).  These structures can't be loaded onto gpus.\n",
        "\n",
        "2. Tensors are similar to numpy arrays but with more restrictions. The type has to be a simple numeric type, has to be uniform for each index (no jaggedness), a regular shaped rectangular structure. One bonus is that these tensor structures can live on the gpu which unlocks faster computation. Without this deep learning isnt possible.\n",
        "\n"
      ],
      "metadata": {
        "id": "4T9sGRaDnBU5"
      }
    },
    {
      "cell_type": "code",
      "source": [
        "data = [[1,2,3],[4,5,6]]\n",
        "\n",
        "arr = array(data)\n",
        "\n",
        "tns = tensor(data)\n",
        "\n",
        "arr"
      ],
      "metadata": {
        "id": "rlSmU55ioaax",
        "colab": {
          "base_uri": "https://localhost:8080/"
        },
        "outputId": "41896f14-0537-404e-bcd3-31cef2837d91"
      },
      "execution_count": 23,
      "outputs": [
        {
          "output_type": "execute_result",
          "data": {
            "text/plain": [
              "array([[1, 2, 3],\n",
              "       [4, 5, 6]])"
            ]
          },
          "metadata": {},
          "execution_count": 23
        }
      ]
    },
    {
      "cell_type": "code",
      "source": [
        "tns"
      ],
      "metadata": {
        "id": "BIdQe27_orvl",
        "colab": {
          "base_uri": "https://localhost:8080/"
        },
        "outputId": "da769d37-90e2-45c9-ce81-e58b4ced5410"
      },
      "execution_count": 24,
      "outputs": [
        {
          "output_type": "execute_result",
          "data": {
            "text/plain": [
              "tensor([[1, 2, 3],\n",
              "        [4, 5, 6]])"
            ]
          },
          "metadata": {},
          "execution_count": 24
        }
      ]
    },
    {
      "cell_type": "code",
      "source": [
        "tns[:,1]"
      ],
      "metadata": {
        "id": "wc0-isyKowcq",
        "colab": {
          "base_uri": "https://localhost:8080/"
        },
        "outputId": "c0cc35e2-66f8-4d28-8aac-f259f82b70af"
      },
      "execution_count": 25,
      "outputs": [
        {
          "output_type": "execute_result",
          "data": {
            "text/plain": [
              "tensor([2, 5])"
            ]
          },
          "metadata": {},
          "execution_count": 25
        }
      ]
    },
    {
      "cell_type": "markdown",
      "source": [
        "The first element before the comma refers to rows, the element after the comma refers to the column\n",
        "\n",
        "The single colon means we want to include all rows, the 1 indicates we want the 2nd column only"
      ],
      "metadata": {
        "id": "ztDrx5LEpqQp"
      }
    },
    {
      "cell_type": "code",
      "source": [
        "tns[1,1:3]"
      ],
      "metadata": {
        "id": "oWS1YAVypu6w",
        "colab": {
          "base_uri": "https://localhost:8080/"
        },
        "outputId": "c4298b42-e905-4cd9-ee75-1a993e6f3d24"
      },
      "execution_count": 26,
      "outputs": [
        {
          "output_type": "execute_result",
          "data": {
            "text/plain": [
              "tensor([5, 6])"
            ]
          },
          "metadata": {},
          "execution_count": 26
        }
      ]
    },
    {
      "cell_type": "markdown",
      "source": [
        "Here we just want the second row, and include the 2nd number up until but not including the 3rd item."
      ],
      "metadata": {
        "id": "LW_b-PNqqJLG"
      }
    },
    {
      "cell_type": "code",
      "source": [
        "tns + 1"
      ],
      "metadata": {
        "id": "9HD9um0dq_aB",
        "colab": {
          "base_uri": "https://localhost:8080/"
        },
        "outputId": "4d5dc362-0aa0-438a-a6e8-ee2d1614f64d"
      },
      "execution_count": 27,
      "outputs": [
        {
          "output_type": "execute_result",
          "data": {
            "text/plain": [
              "tensor([[2, 3, 4],\n",
              "        [5, 6, 7]])"
            ]
          },
          "metadata": {},
          "execution_count": 27
        }
      ]
    },
    {
      "cell_type": "code",
      "source": [
        "tns.type()"
      ],
      "metadata": {
        "id": "20b8FNYSrELD",
        "colab": {
          "base_uri": "https://localhost:8080/",
          "height": 35
        },
        "outputId": "e544887e-9f23-4dc0-f564-377a5129bf85"
      },
      "execution_count": 28,
      "outputs": [
        {
          "output_type": "execute_result",
          "data": {
            "text/plain": [
              "'torch.LongTensor'"
            ],
            "application/vnd.google.colaboratory.intrinsic+json": {
              "type": "string"
            }
          },
          "metadata": {},
          "execution_count": 28
        }
      ]
    },
    {
      "cell_type": "markdown",
      "source": [
        "And will automatically change type as needed, for example from `int` to `float`:"
      ],
      "metadata": {
        "id": "ZcvKEm78rJcv"
      }
    },
    {
      "cell_type": "code",
      "source": [
        "tns * 1.50"
      ],
      "metadata": {
        "id": "8MNYD3AVrJ8h",
        "colab": {
          "base_uri": "https://localhost:8080/"
        },
        "outputId": "0d9c18d3-7a00-4937-90d3-52354bac0024"
      },
      "execution_count": 29,
      "outputs": [
        {
          "output_type": "execute_result",
          "data": {
            "text/plain": [
              "tensor([[1.5000, 3.0000, 4.5000],\n",
              "        [6.0000, 7.5000, 9.0000]])"
            ]
          },
          "metadata": {},
          "execution_count": 29
        }
      ]
    },
    {
      "cell_type": "code",
      "source": [
        "path.ls()"
      ],
      "metadata": {
        "id": "CykSqAY7s6rg",
        "colab": {
          "base_uri": "https://localhost:8080/"
        },
        "outputId": "1e822390-4ba8-4d3d-df39-2638430af2e8"
      },
      "execution_count": 30,
      "outputs": [
        {
          "output_type": "execute_result",
          "data": {
            "text/plain": [
              "(#3) [Path('valid'),Path('train'),Path('labels.csv')]"
            ]
          },
          "metadata": {},
          "execution_count": 30
        }
      ]
    },
    {
      "cell_type": "code",
      "source": [
        "valid_3_stack = torch.stack([tensor(Image.open(o)) for o in (path/'valid/3').ls()])\n",
        "valid_7_stack = torch.stack([tensor(Image.open(o)) for o in (path/'valid/7').ls()])\n",
        "\n",
        "valid_3_stack = valid_3_stack.float()/255\n",
        "valid_7_stack = valid_7_stack.float()/255\n",
        "\n",
        "valid_3_stack.shape, valid_7_stack.shape"
      ],
      "metadata": {
        "id": "mu_AYFjEs8yP",
        "colab": {
          "base_uri": "https://localhost:8080/"
        },
        "outputId": "135ee1df-353a-4b64-ff27-37a57e5ec81a"
      },
      "execution_count": 31,
      "outputs": [
        {
          "output_type": "execute_result",
          "data": {
            "text/plain": [
              "(torch.Size([1010, 28, 28]), torch.Size([1028, 28, 28]))"
            ]
          },
          "metadata": {},
          "execution_count": 31
        }
      ]
    },
    {
      "cell_type": "markdown",
      "source": [
        "So here we create a rank 3 tensor which is a stack of all the tensor objects representing 3s and 7s in the validation set. Then we normalize the stack and lastly display the dimensions"
      ],
      "metadata": {
        "id": "nyogAllBtpgG"
      }
    },
    {
      "cell_type": "code",
      "source": [
        "def mnist_dist(a,b): return (a-b).abs().mean((-1,-2))"
      ],
      "metadata": {
        "id": "3KVwQdSHt7VS"
      },
      "execution_count": 32,
      "outputs": []
    },
    {
      "cell_type": "markdown",
      "source": [
        "Here we are defining a function that calculates the l1 norm between two values (in this case tensors). -1, -2 is negative indexing, so we want the last and 2nd last dimensions to be calculated in the mean.\n",
        "\n",
        "-1,-2 must be passed as a tuple, which means encased in brackets. Otherwise it will process it as two separate integers instead of a tuple."
      ],
      "metadata": {
        "id": "P4eRji1Kz839"
      }
    },
    {
      "cell_type": "code",
      "source": [
        "mnist_dist(arb_3, mean3)"
      ],
      "metadata": {
        "id": "puimnCNk0XNn",
        "colab": {
          "base_uri": "https://localhost:8080/"
        },
        "outputId": "1da76740-882f-47ec-8be6-df41e356932f"
      },
      "execution_count": 33,
      "outputs": [
        {
          "output_type": "execute_result",
          "data": {
            "text/plain": [
              "tensor(0.1163)"
            ]
          },
          "metadata": {},
          "execution_count": 33
        }
      ]
    },
    {
      "cell_type": "markdown",
      "source": [
        "This is the average distance between each pixel between the arbritary image and the 'ideal' image."
      ],
      "metadata": {
        "id": "s59481081Jo2"
      }
    },
    {
      "cell_type": "markdown",
      "source": [
        "But in ML we want to determine the overall accuracy, that is by calculating this average distance from the 'ideal image' for all images in the validation set. How much we do this?\n",
        "\n",
        "1. We could create a loop to loop over all items in the validation set and calculate the l1 norm, sum it, then divide by the number of items in the validation set. But there is a simpler way.\n",
        "\n",
        "2. What happens when we use the l1 norm function and we pass a rank 3 tensor and a rank 2 tensor for values a and b\n",
        "\n",
        "- mnist_distance(rank 3, rank 2)\n",
        "\n",
        "- mnist_distance(valid_3_tens, mean3)"
      ],
      "metadata": {
        "id": "l7RbiRR13aDQ"
      }
    },
    {
      "cell_type": "code",
      "source": [
        "valid_3_l1norm = mnist_dist(valid_3_stack, mean3)\n",
        "\n",
        "valid_3_l1norm, valid_3_l1norm.shape"
      ],
      "metadata": {
        "id": "x_Mp2Uun3ZrE",
        "colab": {
          "base_uri": "https://localhost:8080/"
        },
        "outputId": "4e191e88-f488-4262-c0d1-5512c6a1704f"
      },
      "execution_count": 34,
      "outputs": [
        {
          "output_type": "execute_result",
          "data": {
            "text/plain": [
              "(tensor([0.1135, 0.1455, 0.1678,  ..., 0.1282, 0.1419, 0.1814]),\n",
              " torch.Size([1010]))"
            ]
          },
          "metadata": {},
          "execution_count": 34
        }
      ]
    },
    {
      "cell_type": "markdown",
      "source": [
        "Instead of complaining about shapes not matching, it returned the distance for every single image as a vector (i.e., a rank-1 tensor) of length 1,010 (the number of 3s in our validation set). How did that happen?\n",
        "\n",
        "Take another look at our function mnist_distance, and you'll see we have there the subtraction (a-b). The magic trick is that PyTorch, when it tries to perform a simple subtraction operation between two tensors of different ranks, will use broadcasting. That is, it will automatically expand the tensor with the smaller rank to have the same size as the one with the larger rank. Broadcasting is an important capability that makes tensor code much easier to write."
      ],
      "metadata": {
        "id": "U5NbsA5F5Cws"
      }
    },
    {
      "cell_type": "code",
      "source": [
        "(valid_3_stack - mean3).size()"
      ],
      "metadata": {
        "id": "DZJtNM0Q3Y75",
        "colab": {
          "base_uri": "https://localhost:8080/"
        },
        "outputId": "22c5b659-8a28-4a4a-9fe3-aa7313adcad6"
      },
      "execution_count": 35,
      "outputs": [
        {
          "output_type": "execute_result",
          "data": {
            "text/plain": [
              "torch.Size([1010, 28, 28])"
            ]
          },
          "metadata": {},
          "execution_count": 35
        }
      ]
    },
    {
      "cell_type": "markdown",
      "source": [
        "As you see when you subtract rank 2 tensor from rank 3 tensor it broadcasts the rank 2 tensor to make copies (1k copies) to match the width of the rank 3 tensor. Then performs the calculation  as normal."
      ],
      "metadata": {
        "id": "tP9RmWkE55kQ"
      }
    },
    {
      "cell_type": "markdown",
      "source": [
        "Now lets define a function that determines wether an arbritrary number is 3 or not.\n",
        "\n",
        "This compares the l1 norm of the arbritrary image and 'ideal 3', and the l1 norm of the arbritrary image and 'ideal 7'. If the l1 norm is smaller in the former then it is most likely 3"
      ],
      "metadata": {
        "id": "SVkRBu3dFyjw"
      }
    },
    {
      "cell_type": "code",
      "source": [
        "def is3(x): return mnist_dist(x,mean3) < mnist_dist(x,mean7)\n",
        "\n",
        "is3(arb_3), is3(arb_3).float()"
      ],
      "metadata": {
        "id": "k9oNnbXWGg88",
        "colab": {
          "base_uri": "https://localhost:8080/"
        },
        "outputId": "f759fb2b-6cc4-45fe-f8a5-c5889626ae71"
      },
      "execution_count": 36,
      "outputs": [
        {
          "output_type": "execute_result",
          "data": {
            "text/plain": [
              "(tensor(True), tensor(1.))"
            ]
          },
          "metadata": {},
          "execution_count": 36
        }
      ]
    },
    {
      "cell_type": "markdown",
      "source": [
        "returns true, and taking the float we see that it returns 1"
      ],
      "metadata": {
        "id": "NqwvDvoHG_DT"
      }
    },
    {
      "cell_type": "code",
      "source": [
        "is3(stacked_threes)"
      ],
      "metadata": {
        "id": "ZjrVS7nEHPUZ",
        "colab": {
          "base_uri": "https://localhost:8080/"
        },
        "outputId": "208710ad-c4b9-4949-c93a-dd223fcf0070"
      },
      "execution_count": 37,
      "outputs": [
        {
          "output_type": "execute_result",
          "data": {
            "text/plain": [
              "tensor([ True,  True,  True,  ..., False,  True,  True])"
            ]
          },
          "metadata": {},
          "execution_count": 37
        }
      ]
    },
    {
      "cell_type": "markdown",
      "source": [
        "thanks to broadcasting we can do this calculation for all of the tensors in the validation set for 3."
      ],
      "metadata": {
        "id": "W7b4MZjmHVQi"
      }
    },
    {
      "cell_type": "code",
      "source": [
        "accuracy_3s = is3(stacked_threes).float().mean()\n",
        "\n",
        "accuracy_7s = (1 - is3(stacked_sevens).float()).mean()\n",
        "\n",
        "accuracy_3s, accuracy_7s, (accuracy_3s+accuracy_7s)/2\n"
      ],
      "metadata": {
        "id": "7FzCzU0FHyMv",
        "colab": {
          "base_uri": "https://localhost:8080/"
        },
        "outputId": "2adbd00e-8ca3-40ad-e1c5-05ad0107766c"
      },
      "execution_count": 38,
      "outputs": [
        {
          "output_type": "execute_result",
          "data": {
            "text/plain": [
              "(tensor(0.8912), tensor(0.9962), tensor(0.9437))"
            ]
          },
          "metadata": {},
          "execution_count": 38
        }
      ]
    },
    {
      "cell_type": "markdown",
      "source": [
        "We have successfully calculated a metric in ML, which is a function to determine the accuracy of our model. Our model is roughly 90% accurate for the validation set.\n",
        "\n",
        "In this case we determined how accurate we were on average in categorizing each image in the validation set.\n",
        "\n",
        "The next step is upgrading the baseline to a system that automatically modifies itself to improve its performance. In other words, it's time to talk about the training process, and SGD."
      ],
      "metadata": {
        "id": "UGK97dx8JxFZ"
      }
    },
    {
      "cell_type": "code",
      "source": [
        "#id gradient_descent\n",
        "#caption The gradient descent process\n",
        "#alt Graph showing the steps for Gradient Descent\n",
        "gv('''\n",
        "init->predict->loss->gradient->step->stop\n",
        "step->predict[label=repeat]\n",
        "''')"
      ],
      "metadata": {
        "id": "zrebTH93tE4C",
        "colab": {
          "base_uri": "https://localhost:8080/",
          "height": 125
        },
        "outputId": "71c548f4-4687-4963-a991-97e475930b71"
      },
      "execution_count": 39,
      "outputs": [
        {
          "output_type": "execute_result",
          "data": {
            "image/svg+xml": "<?xml version=\"1.0\" encoding=\"UTF-8\" standalone=\"no\"?>\n<!DOCTYPE svg PUBLIC \"-//W3C//DTD SVG 1.1//EN\"\n \"http://www.w3.org/Graphics/SVG/1.1/DTD/svg11.dtd\">\n<!-- Generated by graphviz version 2.43.0 (0)\n -->\n<!-- Title: G Pages: 1 -->\n<svg width=\"591pt\" height=\"78pt\"\n viewBox=\"0.00 0.00 591.49 78.00\" xmlns=\"http://www.w3.org/2000/svg\" xmlns:xlink=\"http://www.w3.org/1999/xlink\">\n<g id=\"graph0\" class=\"graph\" transform=\"scale(1 1) rotate(0) translate(4 74)\">\n<title>G</title>\n<polygon fill=\"white\" stroke=\"transparent\" points=\"-4,4 -4,-74 587.49,-74 587.49,4 -4,4\"/>\n<!-- init -->\n<g id=\"node1\" class=\"node\">\n<title>init</title>\n<ellipse fill=\"none\" stroke=\"black\" cx=\"27\" cy=\"-18\" rx=\"27\" ry=\"18\"/>\n<text text-anchor=\"middle\" x=\"27\" y=\"-14.3\" font-family=\"Times,serif\" font-size=\"14.00\">init</text>\n</g>\n<!-- predict -->\n<g id=\"node2\" class=\"node\">\n<title>predict</title>\n<ellipse fill=\"none\" stroke=\"black\" cx=\"126.1\" cy=\"-18\" rx=\"35.19\" ry=\"18\"/>\n<text text-anchor=\"middle\" x=\"126.1\" y=\"-14.3\" font-family=\"Times,serif\" font-size=\"14.00\">predict</text>\n</g>\n<!-- init&#45;&gt;predict -->\n<g id=\"edge1\" class=\"edge\">\n<title>init&#45;&gt;predict</title>\n<path fill=\"none\" stroke=\"black\" d=\"M54.02,-18C62.26,-18 71.62,-18 80.78,-18\"/>\n<polygon fill=\"black\" stroke=\"black\" points=\"80.96,-21.5 90.96,-18 80.96,-14.5 80.96,-21.5\"/>\n</g>\n<!-- loss -->\n<g id=\"node3\" class=\"node\">\n<title>loss</title>\n<ellipse fill=\"none\" stroke=\"black\" cx=\"225.19\" cy=\"-52\" rx=\"27\" ry=\"18\"/>\n<text text-anchor=\"middle\" x=\"225.19\" y=\"-48.3\" font-family=\"Times,serif\" font-size=\"14.00\">loss</text>\n</g>\n<!-- predict&#45;&gt;loss -->\n<g id=\"edge2\" class=\"edge\">\n<title>predict&#45;&gt;loss</title>\n<path fill=\"none\" stroke=\"black\" d=\"M155.44,-27.93C166.61,-31.84 179.52,-36.36 191.11,-40.42\"/>\n<polygon fill=\"black\" stroke=\"black\" points=\"190.29,-43.84 200.88,-43.84 192.6,-37.23 190.29,-43.84\"/>\n</g>\n<!-- gradient -->\n<g id=\"node4\" class=\"node\">\n<title>gradient</title>\n<ellipse fill=\"none\" stroke=\"black\" cx=\"361.84\" cy=\"-52\" rx=\"39.79\" ry=\"18\"/>\n<text text-anchor=\"middle\" x=\"361.84\" y=\"-48.3\" font-family=\"Times,serif\" font-size=\"14.00\">gradient</text>\n</g>\n<!-- loss&#45;&gt;gradient -->\n<g id=\"edge3\" class=\"edge\">\n<title>loss&#45;&gt;gradient</title>\n<path fill=\"none\" stroke=\"black\" d=\"M252.47,-52C269.35,-52 291.8,-52 311.88,-52\"/>\n<polygon fill=\"black\" stroke=\"black\" points=\"312.13,-55.5 322.13,-52 312.13,-48.5 312.13,-55.5\"/>\n</g>\n<!-- step -->\n<g id=\"node5\" class=\"node\">\n<title>step</title>\n<ellipse fill=\"none\" stroke=\"black\" cx=\"465.49\" cy=\"-18\" rx=\"27\" ry=\"18\"/>\n<text text-anchor=\"middle\" x=\"465.49\" y=\"-14.3\" font-family=\"Times,serif\" font-size=\"14.00\">step</text>\n</g>\n<!-- gradient&#45;&gt;step -->\n<g id=\"edge4\" class=\"edge\">\n<title>gradient&#45;&gt;step</title>\n<path fill=\"none\" stroke=\"black\" d=\"M394.17,-41.52C405.92,-37.59 419.32,-33.11 431.25,-29.12\"/>\n<polygon fill=\"black\" stroke=\"black\" points=\"432.48,-32.4 440.85,-25.91 430.26,-25.76 432.48,-32.4\"/>\n</g>\n<!-- step&#45;&gt;predict -->\n<g id=\"edge6\" class=\"edge\">\n<title>step&#45;&gt;predict</title>\n<path fill=\"none\" stroke=\"black\" d=\"M438.29,-18C380.72,-18 242.6,-18 171.32,-18\"/>\n<polygon fill=\"black\" stroke=\"black\" points=\"171.3,-14.5 161.3,-18 171.3,-21.5 171.3,-14.5\"/>\n<text text-anchor=\"middle\" x=\"287.19\" y=\"-21.8\" font-family=\"Times,serif\" font-size=\"14.00\">repeat</text>\n</g>\n<!-- stop -->\n<g id=\"node6\" class=\"node\">\n<title>stop</title>\n<ellipse fill=\"none\" stroke=\"black\" cx=\"556.49\" cy=\"-18\" rx=\"27\" ry=\"18\"/>\n<text text-anchor=\"middle\" x=\"556.49\" y=\"-14.3\" font-family=\"Times,serif\" font-size=\"14.00\">stop</text>\n</g>\n<!-- step&#45;&gt;stop -->\n<g id=\"edge5\" class=\"edge\">\n<title>step&#45;&gt;stop</title>\n<path fill=\"none\" stroke=\"black\" d=\"M492.71,-18C501.04,-18 510.4,-18 519.3,-18\"/>\n<polygon fill=\"black\" stroke=\"black\" points=\"519.45,-21.5 529.45,-18 519.45,-14.5 519.45,-21.5\"/>\n</g>\n</g>\n</svg>\n",
            "text/plain": [
              "<graphviz.sources.Source at 0x7b612223ffd0>"
            ]
          },
          "metadata": {},
          "execution_count": 39
        }
      ]
    },
    {
      "cell_type": "markdown",
      "source": [
        "### Steps in training a model\n",
        "\n",
        "####initialize\n",
        "1\n",
        "\n",
        "- We first initialize the weights of our model using small random numbers. This is only done in the beginning of the training (first epoch).\n",
        "\n",
        "####prediction\n",
        "\n",
        "2. - The model then makes a prediction based on the data and the current weights of the base model. First pass has random weights so accuracy will be poor.\n",
        "\n",
        "####loss function\n",
        "\n",
        "3. - A loss function is then used to measure the difference between the first prediction and the actual value. We want to minimize this loss function.\n",
        "\n",
        "####gradient calculation\n",
        "\n",
        "4. - We could use a manual approach of adding a small value to the weights in the loss function and see if the prediction is better. This is **numerical differentiation** and its a more tedious process. You adjust each weight manually and see how much the loss changes. This gives you an approximation of the gradient.\n",
        "    - this is computationally expensive since you are calculating the loss for each weight in the model for each step, until you reach an optimum.\n",
        "  - Or you can get the exact value of the gradients by using **back propogation** which is sort of like the derivative for each weight.\n",
        "\n",
        "####gradient descent - learning step\n",
        "\n",
        "5. - We update the weights based on the gradient, often with an optimization algorithm like stochastic gradient descent. This algorithm multiplies the gradient by a small amount (learning rate), subtract this from the current weight to get the new weight.\n",
        "\n",
        "####repeat\n",
        "\n",
        "6. - We go back to step 2 and repeat the process, using the new weights to make predictions. With each pass, the model's predictions should get better and the loss should decrease.\n",
        "\n",
        "\n",
        "####optima\n",
        "\n",
        "7. - we stop at the optima, when the model fails to improve or we arrive at our desired number of epochs (passes)"
      ],
      "metadata": {
        "id": "kJnUgp8u8HnT"
      }
    },
    {
      "cell_type": "markdown",
      "source": [],
      "metadata": {
        "id": "8UG50VNJVdCS"
      }
    },
    {
      "cell_type": "markdown",
      "source": [
        "# Stochastic Gradient Descent\n"
      ],
      "metadata": {
        "id": "veCcVZo1VrG3"
      }
    },
    {
      "cell_type": "markdown",
      "source": [
        "Before applying these steps to our image classification problem, let's illustrate what they look like in a simpler case. First we will define a very simple function, the quadratic—let's pretend that this is our loss function, and x is a weight parameter of the function:"
      ],
      "metadata": {
        "id": "vyGe24BiFQdN"
      }
    },
    {
      "cell_type": "code",
      "source": [
        "def f(x): return x**2\n",
        "\n",
        "plot_function(f, 'x', 'x**2')"
      ],
      "metadata": {
        "id": "OnJWD9giDq_1",
        "colab": {
          "base_uri": "https://localhost:8080/",
          "height": 0
        },
        "outputId": "6e8466a6-9626-4ae6-b1c8-be47c8ec323f"
      },
      "execution_count": 40,
      "outputs": [
        {
          "output_type": "display_data",
          "data": {
            "text/plain": [
              "<Figure size 600x400 with 1 Axes>"
            ],
            "image/png": "[encoded data removed]"
          },
          "metadata": {}
        }
      ]
    },
    {
      "cell_type": "markdown",
      "source": [
        "select a random value for the parameter and determine the loss"
      ],
      "metadata": {
        "id": "Kqt7XyXRFx1-"
      }
    },
    {
      "cell_type": "code",
      "source": [
        "plt.scatter(-1.5, f(-1.5), color='red');"
      ],
      "metadata": {
        "id": "BVCVEp4lGMZO",
        "colab": {
          "base_uri": "https://localhost:8080/",
          "height": 0
        },
        "outputId": "8fcd46f9-7f44-4443-adec-44869c10f897"
      },
      "execution_count": 41,
      "outputs": [
        {
          "output_type": "display_data",
          "data": {
            "text/plain": [
              "<Figure size 640x480 with 1 Axes>"
            ],
            "image/png": "[encoded data removed]"
          },
          "metadata": {}
        }
      ]
    },
    {
      "cell_type": "markdown",
      "source": [
        "![dlcf_04in09.png](data:image/png;base64,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)"
      ],
      "metadata": {
        "id": "rEeDwnFeI24I"
      }
    },
    {
      "cell_type": "markdown",
      "source": [
        "We can change our weight by a little in the direction of the slope, calculate our loss and adjustment again, and repeat this a few times. Eventually, we will get to the lowest point on our curve:"
      ],
      "metadata": {
        "id": "TB7rSFPxFxwz"
      }
    },
    {
      "cell_type": "markdown",
      "source": [
        "![1.png](data:image/png;base64,iVBORw0KGgoAAAANSUhEUgAAA+cAAALxCAIAAACxZEDZAAAACXBIWXMAACACAAAgAgFia6pRAAAGvmlUWHRYTUw6Y29tLmFkb2JlLnhtcAAAAAAAPD94cGFja2V0IGJlZ2luPSLvu78iIGlkPSJXNU0wTXBDZWhpSHpyZVN6TlRjemtjOWQiPz4gPHg6eG1wbWV0YSB4bWxuczp4PSJhZG9iZTpuczptZXRhLyIgeDp4bXB0az0iQWRvYmUgWE1QIENvcmUgNi4wLWMwMDIgNzkuMTY0MzUyLCAyMDIwLzAxLzMwLTE1OjUwOjM4ICAgICAgICAiPiA8cmRmOlJERiB4bWxuczpyZGY9Imh0dHA6Ly93d3cudzMub3JnLzE5OTkvMDIvMjItcmRmLXN5bnRheC1ucyMiPiA8cmRmOkRlc2NyaXB0aW9uIHJkZjphYm91dD0iIiB4bWxuczp4bXA9Imh0dHA6Ly9ucy5hZG9iZS5jb20veGFwLzEuMC8iIHhtbG5zOmRjPSJodHRwOi8vcHVybC5vcmcvZGMvZWxlbWVudHMvMS4xLyIgeG1sbnM6cGhvdG9zaG9wPSJodHRwOi8vbnMuYWRvYmUuY29tL3Bob3Rvc2hvcC8xLjAvIiB4bWxuczp4bXBNTT0iaHR0cDovL25zLmFkb2JlLmNvbS94YXAvMS4wL21tLyIgeG1sbnM6c3RFdnQ9Imh0dHA6Ly9ucy5hZG9iZS5jb20veGFwLzEuMC9zVHlwZS9SZXNvdXJjZUV2ZW50IyIgeG1wOkNyZWF0b3JUb29sPSJBZG9iZSBQaG90b3Nob3AgMjEuMSAoV2luZG93cykiIHhtcDpDcmVhdGVEYXRlPSIyMDIwLTA0LTI5VDE1OjE5OjE4LTA3OjAwIiB4bXA6TW9kaWZ5RGF0ZT0iMjAyMC0wNS0yN1QxMDozNTo1OC0wNzowMCIgeG1wOk1ldGFkYXRhRGF0ZT0iMjAyMC0wNS0yN1QxMDozNTo1OC0wNzowMCIgZGM6Zm9ybWF0PSJpbWFnZS9wbmciIHBob3Rvc2hvcDpDb2xvck1vZGU9IjMiIHBob3Rvc2hvcDpJQ0NQcm9maWxlPSJzUkdCIElFQzYxOTY2LTIuMSIgeG1wTU06SW5zdGFuY2VJRD0ieG1wLmlpZDoxNmRiNThjMC02MTMzLWIzNDgtYTg0YS0zYzBmZTBlMTVhOTQiIHhtcE1NOkRvY3VtZW50SUQ9ImFkb2JlOmRvY2lkOnBob3Rvc2hvcDplYmZkYzc4ZC1hODZjLWRiNDAtYjJhNi00N2U1Y2I1ZWE1MjUiIHhtcE1NOk9yaWdpbmFsRG9jdW1lbnRJRD0ieG1wLmRpZDpkOGQ3ZTdjNS0wNDAyLWJkNGItYWEzZS1jYmJiM2JhNzAzMWYiPiA8eG1wTU06SGlzdG9yeT4gPHJkZjpTZXE+IDxyZGY6bGkgc3RFdnQ6YWN0aW9uPSJjcmVhdGVkIiBzdEV2dDppbnN0YW5jZUlEPSJ4bXAuaWlkOmQ4ZDdlN2M1LTA0MDItYmQ0Yi1hYTNlLWNiYmIzYmE3MDMxZiIgc3RFdnQ6d2hlbj0iMjAyMC0wNC0yOVQxNToxOToxOC0wNzowMCIgc3RFdnQ6c29mdHdhcmVBZ2VudD0iQWRvYmUgUGhvdG9zaG9wIDIxLjEgKFdpbmRvd3MpIi8+IDxyZGY6bGkgc3RFdnQ6YWN0aW9uPSJzYXZlZCIgc3RFdnQ6aW5zdGFuY2VJRD0ieG1wLmlpZDpiYzAxM2VhYS1jMDU2LWY5NGQtOWRlNy1jMDU0ODcyODIzNWIiIHN0RXZ0OndoZW49IjIwMjAtMDUtMjdUMTA6MjY6NTgtMDc6MDAiIHN0RXZ0OnNvZnR3YXJlQWdlbnQ9IkFkb2JlIFBob3Rvc2hvcCAyMS4xIChXaW5kb3dzKSIgc3RFdnQ6Y2hhbmdlZD0iLyIvPiA8cmRmOmxpIHN0RXZ0OmFjdGlvbj0ic2F2ZWQiIHN0RXZ0Omluc3RhbmNlSUQ9InhtcC5paWQ6MTZkYjU4YzAtNjEzMy1iMzQ4LWE4NGEtM2MwZmUwZTE1YTk0IiBzdEV2dDp3aGVuPSIyMDIwLTA1LTI3VDEwOjM1OjU4LTA3OjAwIiBzdEV2dDpzb2Z0d2FyZUFnZW50PSJBZG9iZSBQaG90b3Nob3AgMjEuMSAoV2luZG93cykiIHN0RXZ0OmNoYW5nZWQ9Ii8iLz4gPC9yZGY6U2VxPiA8L3htcE1NOkhpc3Rvcnk+IDwvcmRmOkRlc2NyaXB0aW9uPiA8L3JkZjpSREY+IDwveDp4bXBtZXRhPiA8P3hwYWNrZXQgZW5kPSJyIj8+xe0a8gAAN5dJREFUeNrt3S+PK12e2PEGIw2YrDzsAQssZUCgV1o4wMs2SkCBBQu9UsAMMxzol2AYMMAvwVEGBD6rJDBShQUWCAg0WJaAzq/63KduXf9r2+0/p059Pmpd3aefbttdt+36VvnUOW/vg/Lzh/V6vfqwXC7run4HAICivQ3s4R6IiPevCACAas9INPpqtaqqSrUDAKDaczedTlU7AACqPWvz+Vy1AwCg2lU7AACodtUOAACqHQAAVLtqBwAA1a7aAQBQ7WOo9rquN5vNarVar9eXV35813a7TYuwxl+apkmfj78f/frdbtet2xp31y3aGp+M/+VXDQAA1X5cNHSa2T3+jG+ZzWbx98lkslgszpR0dHn6rviWxYf0jd1fuoJP4j/Twk/xXfGXqPb4xriX+M/4e3w+HoZfNQAAVPu+KOlU2PFn/2u6wo6qPnrWfLlcpkDfy/ruBvfutK7ryYe9RxLfnpI9xF/8qgEAoNp/kEo6nSw/ek49ojx9+2az2fvGdMr86J3GTaWb7d9peiSnDh7SEYJqBwBAte/rRsKcGQaTbiG+pj/cJZ1ojz9PfVf6gu5OU+WHU18fN67aAQBQ7fvV3o1LORPf7x+D19OXxU3t3Wz/M3vi7vp3mv7zcKR7Xxrd7lcNAADV/l0axHLJ9DJvv+jme0kDWs6cHY+v7Dd9V+2z2exUuMdtmp4SAADV/l13Bv38+e+ku7q0Oyu/Xq+7b59Op/H5/pyPh7qR7kkEetxCdwwAAACq/Ui1d8Njzow1P7yR7vR5VHiX8n2R5lHke5euHt5jX9xmFLyZ2gEAUO371d59/qpqjyjvPhmd3b+RPdH0hyF+KtzTLR9tfQAAUO3XVfvhF0dqV1XVH/1yPtybplkul0fP0x/OLwkAAKOu9u5y0pvPtR/m+Ha7jSJPq6Umi8Xi1NdH0MdDWq1W/YI/PwclAACMq9r7g1U+DeXDce0R6GfOix8Omo+7iOOEU18fj607W+90OwAAqv2bbtmjq2Z+XK/X3c3OZrMz35JWWeomi0wzP56ZNKZ7PKZsBwBAtX/XDWU5H8r9vu/mdkw3e2aqx+67+tV+fjmndJuqHQAA1f5dN2V75PuZW1gsFodx/2lhd9We/jNV+/k7SrfZnc4HAADVfrLI+/prmh7e7GQyOXW6fbPZpNWU9m7n1B11yzB9uuQTAAAUUu0/f+gvgBqBnj65l8Vnwj2+PZX04RyO3cFA/K/Dzq7revKh+19dtR+93jRuPD0Mw2MAABhRtb+ddljGkdGpzqfT6XK5XH3oJmQ8WtKp2iO148vie+O7IvEjzeOmUn/HTfWvPU3VHl+cppdJ66Gm44pussjzo94BAKC0ao84joD++UeRyPH5o0NldrtdWi8pejoqfP4hwvrUpJDrD130xzemfI/vir/HZ/a+MS2kmj6ZFlpKdxTfFX+J/zQwBgCA0VU7AACodgAAQLUDAACqHQAAVDsAAKDaAQAA1Q4AAKodAABQ7QAAoNoBAADVDgAAqHYAAFDtAACAaodXapr3urYZALDvQLVnY7vdzmaz3W5nU/D96fH2Pp3aDABcYbFodx/CHdX+EBHrf/VXf/X29vbHP/7R1qAzn7evvA7lALjcdNruO0C1PyTZZ7PZTz/99PZhs9nYJiSrVfvKu93aEgBcpGnaHcd8bkug2h9gsVhMJpM//OEPkex///d/H3/+/PPPNgvv7bip9sV3ubQlALhix7Fa2RKo9rva7XZVVUWy13W9Wq1Sr0fEO+POL78hTpkAcIXl0pu0qPZ7i1KfzWYp2d/bsRCr7ix7Cvf4jItTmc0MTwTgUi6IQrXf/Uk1jy6PP5umSZ/pV3tYr9eTD1vHy+OWpgIwZgqAi7rqrT3dA6r9bjabTf3jnEx71f7+MX4mvqzLesb6q2KEIgAXiYiIXcZiYUug2h/psNrh/ZfZAKrKlgDg05ZodxmujEO1q3ZeYzJpPwDgvKpqq92b9Kh21Y5XYQDy5SwPql2189rfDe94AvCJujaiEtWu2nkpVxcB8Kk0e8F6bUug2lU7L3yemMkLgLPMFIxqV+28nlUzADhvOrUqH6pdtfNqVqgG4Izdrt1NzOe2BKpdtfNS0evWWgLAbgLVrtrJmpMoAJzhLVlUu2onFwYsAnCKy59Q7aqdXJgcAICTOWWqMVS7aicTJuIF4CjLeqDaVTsZsegdAEet15bQRrWrdnIymbQfANBXVW2117UtgWpX7eT0utw0tgQA3zmng2pX7eT2S+I9UAB+0DTGT6LaVTuZcb0RAHvSXAXWV0K1q3Yye8KY2wuAHvMCo9pVOzmyjgYAfbOZNfhQ7aqd/FizGoDObtfuFOZzWwLVrtrJTPS68YsA9HcKy6UtgWpX7WQmzRXgtAoA77/MLeYNWFS7aidH06khjAC0XOyEalft5Mt0AQB8q6i39lQOqHbVTo7W6/ZlOv4EYMws4oFqV+1kra4tgwfAt5M4FsxGtat28jWZeEsUYOyqqq32urYlUO2qnVyly4+axpYAGK/JpP0A1a7ayfm3xbuiAKOWJgI2WhLVrtrJWroCybIaAKO12Vh0D9Wu2hnEM+ftfTazGQBGyizAqHbVzjBEsltZA2DkewFQ7aqd3C2XzrIAjNRu1+4C5nNbAtWu2snedmtEI8CodwGubkK1q3YGIM0e4EQLwCibod0FRLuDalftDMB0alAjwBilVTtc2oRqV+0MgwkEAEYaT29WyEa1q3aGI03Wu17bEgAjkpbsWCxsCVS7amcg6trCeACjs15bHhvVrtoZmsmk/QBgPKqqrfa6tiVQ7aqdob12N40tATAWzteg2lU7Q/y18T4pwIgYG4lqV+0MkmuSAEbFPASodtXOYJ9Cb++zmc0AMArm/EW1q3aGylobAONhfT1Uu2pnqJZL61oDjMJu177gz+e2BKpdtTNA0evxIr5a2RIAXvBBtat2cuXUC8BIeHMV1a7aGTbDHAHGwIVMqHbVzrCZUgBgFM1k0jBUu2pn0EzfC1A8C3Sg2lU7g2epPIARdILFsFHtqp3hm0zaDwBKVVVttTeNLYFqV+0M/9W8rm0JgDI5O4NqV+2UYL32zilAsYyERLWrdgrhKiWAgqVTM2YdQLWrdop4Lr21E7cDUJ40w69hkKh21U4JrL4BUCqr6aHaVTsl/QpZ6RqgQE3TvrzP57YEql21U4To9XhZXy5tCYACX95XK1sC1a7aKcJuZ7FrgAItl+3Lu0BAtat2yhHJbuAjQJGv7S5bQrWrdsrhfAxAYbyPimpX7RRoszH2EaAoaTkO1yyh2lU7RTHPAEBxeWB+MFS7aqdE0+n7ZGIzABQircXRNLYEql21U5aqsn4eQEGdZN1rVLtqp0jrdfsSH38CMHRpUPtiYUug2lU7xanr9iW+qmwJgMFLJ2I2G1sC1a7aKdFk4u1UgBIY9IhqV+2UzKVLAGWYTEwwgGpX7ZT8u+QdVYDBM+IR1a7aKZyrlwAKkBbOM7sAql21U/TzyvLXAAO3WLQv5roA1a7aKVka2r7b2RIAQzWdtq/koNpVOyVbLq2ADTBgTdO+jM/ntgSqXbVTtOj1eLmPdgdguC/jq5UtgWpX7RRttzO0HWDA0lumogDVrtopXyS7AZEAXsNBtat2suY8DcBAeb8U1a7aGZE00a8xkQCD49okVLtqZ0TMPwAwUOYBQ7WrdsbFXL8AQ2TNDVS7amdcrKsHMMg2Mqgd1a7aGZU0tH29tiUABiNCIF66FwtbAtWu2hmNNLS9qmwJgAH1QPvSvdnYEqh21c6YTCbtBwBDkQa1N40tgWpX7YxJVbWv/nVtSwAMJIze2rkEQLWrdsZlvTa0HWAwDGpHtat2RqquDW0HGFAMGNSOalftjJWh7QBDYVA7ql21M16GtgMMxWRiUDuqXbUzVoa2AwxCGtNoUDuqXbUz6t2Aoe0AmUsnWQxqR7WrdsbLW64A+TOgEdWu2rEncHkTQO5MHoBqV+2MnXddATJnNCOqXbWDK5wAcmfmAFS7aoeWoe0AOTOoHdWu2uH7/sDQdoA8GdSOalft0DK0HSBbBrWj2lU7/LBLMLQdIEMGtaPaVTv0nmxvhrYD5MigdlS7aofv5nND2wFyZFA7ql21Q/93zNB2gOwY1I5qV+3wg/jlMrQdIDcGtaPaVTscPN8MbQfIjEHtqHbVDvsMbQfIjUHtqHbVDoe/Zoa2A2TEoHZUu2qHIwxtB8iKQe2odtUOJ55yhrYDZMOgdlS7aofjDG0HyIdB7ah21Q6nftMMbQfIgkHtqHbVDicZ2g6QCYPaUe2qHc4+6wxtB8iAQe2odtUOn+8nDG0HeC2D2lHtqh3OSe/JGtoO8EIGtaPaVTtctKswtB3ghQxqR7WrdvjcZGJoO8ArGdSOalftcOnewtB2gFcxqB3Vrtrhc4a2A7yQQe2odtUOV+wwDG0HeAmD2lHtqh0u5c1ZgFcxqB3VrtrBPgMgd86boNpVO1zK+7MAL2GMIqpdtcPVuw3XQgE8mfkAUO2qHa7jLVqA5zP3LqpdtcMtew5D2wGeyTp3qHbVDtcxtB3gyQxqR7Wrdrhx52FoO8ATd/cGtaPaVTtcz9B2gGeazw1qR7Wrdrieoe0AT+2eN4PaUe2qHa5naHt2tltHUVCq2Mkb1I5qV+1wC0PbsxP/GPO5zQCF7usNake1q3a41XRqaHtO0rk4LwVQIoPaUe2qHW63WBjant8/SRxI+SeB8qLHoHZUu2qHm202hrZnZrd7n82EOxTGoHZUu2qHL2madkdiKLVwBx68ozeoHdWu2uFrptP3v3mr2xNBPvL5+Mtf2nD3PgiUIg1qj0NyUO2qHW60WLz/89vH/sRHnh+R707QwZBFrKenMqh21Q63iyD8p7fNz/NV+w6uj3w+0iJY6Yy7MUwwZNtt+zxeLm0JVLtqhy8wtD1HaXKf2MmnS9j888CQxVM5nsfR7qDaVTt8yXTa7lHIK9nTqBjVDsOX3jMzqB3VrtrhPpXoFzALaTLObiC7aoeBM6gd1a7a4W7SmMvVypZ4taZpJ3zsj35V7VDEC6xB7ah21Q534FRQLmLHvrd2omqH4T+tDWpHtat2uBvDLnPZve/t21U7eHUF1a7aoZ+LzgblSLXDkKV3Mj2DUe2qHe7GyEvVDtxdurzcVUOodtUOd2Nou2oH7s4MXah21Q73Z/Clagfuy2oYqHbVDvdnaLtqB+7IytOodtUOD+zDxcKWyMlu1/7D1LUtAYNjUDuqXbXDw56Tb/vThQNwG4PaUe2qHR5lPm/3MU1jSwB81XTaLnYMql21wyN+Fdtq32xsCYAvqev25bSqbAlUu2qHBzC0HeAu1uv25TT+BNWu2uEhJhND2wG+qqraanclOapdtcNj9zSGtgN8xWRiUDuqXbXDI3lXF+CLDGpHtat2sLMByF06/eHKflS7aofH8sYuwFeYRRfVrtrhGVxEBfClvrFiHapdtcMTpFW4DW0HuIEpdFHtqh2epGnaXc58bkvk8Y+xWhkeC4PapxvUjmpX7fAs02m71+H10lk7h1AwHLNZ+6zd7WwJVLtqh8dbLNq9jl9J1Q5cJWI9nrIR7qDaVTs8QxravlrZEqoduMJ22z5ll0tbAtWu2uEpnC5S7cANotfjKRvtDqpdtcOTGJqp2gGvnKDaVTu5c8ZItQNXMQEXql21wwsYnanagau4IgjVrtrhRU9Ry/upduBiZt9Ctat2eI1oxdgDNY0todqBz02n75OJzYBqV+3wgt9MK/ypduAidd0+WavKlkC1q3Z40U5osbAlVDvwifW6fbLGn6DaVTu8wGTiDV/VDnyuqtona13bEqh21Q72QyO027Xh7h8AsjeZuHwf1a7a4XW85wvwqfSumPGEqHbVDi9j0RCAC/bjrt1Htat2eLXptN0bAXDKbNa+Tu52tgSqXbXD61g3BOCMiPV4kYxwB9Wu2uGVttt2h7Rc2hIAXiRR7apdtZMrp5EAzvCGJKpdtUMuDNkEOMXFP6h21Q75/IqaHgHgiDTRVlXZEqh21Q4ZMBUxwFEWtUC1q3bIi2X/AA5ZQBrVrtrBngkgd85ooNpVO+TFu8CvEcdJ87kp5SBPRg+i2lU7ZCddcRUByQuiwHaHTHffrtRHtat2yI/ZzVQ70GdWXFS7aoccpZVEtltbQrUDVqBDtat2yJVVu1U70NlsvCSi2lU7ZMmJJdUOdNLbj3bdqHbVDjmKeoy9VNPYEqodxm46bad9BNWu2iHP31UTJqh2oJ2UNZ6aVWVLoNpVO9hRodohV5awQLWrdsjdZOJNYdUOY2e4IKpdtUPu0gVYdW1LqHYYccG8tePaQbWrdshXmuxstbIlVDuMVJoGd7GwJVDtqh0y1jTmf1TtMGrLpSXnUO2qHYbAIt7AmE2nXgNR7aodhsB5JmC00vuN3gBDtat2GIA0asOYTmCE0rU95nxEtat2GMiz1/wJwChVlXm0UO2qXbVjvwWQN2tWoNpVu2pnSKwLCIyQ8YGodtWu2hmYdD1WVdkSwKj21+1L32ZjS6DaVTsMR5r7DGA8zHuLalftqp3hMf8jMCoR69aYQ7WrdtXO8KQ1vaPdAcYgzfnoRQ/VrtpVOwOTTjuZ/xEYicWifdGzr0a1q3bVzvDM5+0+rGlsCaB85nxEtaPaGSrzPz5cXbfHRt6ShwyeiybOQrWj2rEb44Q0O3SEO/DiPbU5H1HtqHaGbDr1lrFqh/IZEIhqR7UzbC7PUu1QPHM+gmpX7Qye+R9VO3ihA9Wu2iF3TkGpdiieNxVBtat2SpCW+DbcU7VDqabT9okIqh3VztB/gU2toNqhWCbLAtWu2rFLQ7VD7ixMAapdtVMOSwaqdiiVOR9Btat2yuFSLdUORUoX3E+ntgSqHdVOETYb06KpdiiQOR9Btat2imL+R9UORUpvJEa7g2pHtVMI8z8C5THnI6h21U55v8bmfwSKYoIsUO2qHbs3gNyZ8xFUu2qnTOZ/BEpizkdQ7aqdMpn/ESiGOR9Btat2imX+R6AY5nwE1a7aKZb5H4FimPMRVLtqp2TmfwTKYM5HUO2qnbJ/mc3/CAyeSbFAtat27OoAcmfOR1Dtqp3yTafmfwSGzZyPoNpVO+Uz/yMwaC6sB9Wu2hkF06XdU7wsxNacz20J8CIGql21wz1ZmkS1w6B5wxBUu2pnLAwJVe0wXJOJi3NAtat2xsH0C6odBspEWKDaVTt2e6h2yH+PbNEJUO2qnTGxrKBqhyGywDOodtXOuCyX7Z5vu7UlVDsMhjkfQbWrdkYnTZ22WNgSqh0GY7Npn3CrlS0Bql21M6pnuPkfVTsMSlW1T7i6tiVAtat27P9Q7ZArcz6CalftjFF6r9n8j6odBvRsM64PVLtqZ3SaxnVdqh0GwzX0oNpVO+OV5lDb7WyJW9V1m+xRE8CDpflqvV6BalftjFE6d2W9EiBz6b1Bb2uBalftjJRFUoFBWK9dhwOqXbUzbuZkAPI3n1sSFVS7amfcFot2X+i3G8hWWhLV+hKg2lU7o5YWSXU5JZCtNE2tlylQ7aqdUXMSC8ictwRBtat2aKVFUg0YBfLk8htQ7aodWiZnALJlSVRQ7aodvrFIKpAty0qAalft8J1FUoE8WRIVVLtqh++czQIylN4JtBIcqHbVDt9YJBXIkKtuQLWrdtg3nZql4XrpQrn53JaAR0iD98xwBapdtcN3aUbk7daWUO2QhbSahAvlQbWrdvhBWiTV9GqqHTJhSVRQ7aodTjznLZKq2iEbaQG4urYlQLWrdrCPVO2Qq8nEeQRQ7aodjvF+tGqHTBizB6pdtcNJrv1S7ZAJ18eDalftcI551lQ75MBctKDaVTucY00T1Q4vZ903UO2qHT6R1g9XoaodXmi5bJ9Ym40tAapdtcNp02m7v9ztbAnVDq+Rhup5FQLVrtrhHGe5VDu8kHf8QLWrdriIEaXXbayIC5Nlwv24ugZUu2qHS5m9AXgVM1mBalftcCkzJQMvYdUIUO2qHa5gVULgJazQDKpdtcN1JhODZIBnq6q22uvalgDVrtrBvhPIUhoeM53aEqDaVTtczPvUwJOlsXledkC1q3a4gpNewJO5Dh5Uu2qHWxgkAzyTy2lAtat2uIW1ToCnMXUVqHbVDjdK64qbOBl4guXS8BhQ7aodbmWRQuA5ptP21Wa3syVAtat2uJ5BMsAT1HX7UlNVtgSodtUON0mDZOxKT4qXhdhA87ktAV+RhsdsNrYEqHbVDrfytrVqh0dLg/G8zoBqV+1wO+fAVDs8VHpPz9MIVLtqhy8x3lS1w0O5fgZUu2qH+0iDZFDt8AjmqgLVrtrhPsyjrNrhQawLAapdtcPdWLNQtcODGB4Dql21wz1NJu0Hqh3uq6ra51Bd2xKg2lU73MNiYZCMaoc72+3aJ9B0akuAalftcCcGyah2uLvNpn0CLZe2BKh21Q53fEVwSky1w10ZHgOqXbWD/atqh6wZHgOqXbXDQ3gv+4imiRcIK8fCDdK4Oy8poNpVO9yZE2PAHbnGHVS7aodHMUgGuBfzyYJqV+3wKAbJAHdhWipQ7aodHigNkrH2OPBFhseAalft8FjzebuvbRpbArid4TGg2lU7PNZ63VZ7/AlwG8NjQLWrdni4pjFIBviS5dLwGFDtqh0eL5LdIBngZtNp+xqy29kSoNpVOzySQTLAzeq6fQGpKlsCVLtqhwczSAa4WRoeY0FhUO2qHZ7BIBngNobHgGpX7fA8Bsl8E+kRrwxWi4XLGB4Dql21w1OlQTJ2vW2yx4aYz/1KwCUMjwHVrtrh2bzNrdrB6waodtUOuXPOTLXDVQyPAdWu2sEOWLWDQ31Q7apdtcMx3uxW7eAVA1S7aofcOXOm2uFC3p0D1a7awW5YtYODfFDtqHY4bexveat2uExams3wGFDtqh1eY+znz1Q7XMAKD6DaVTu82NgHyah2cHgPql21wyCMepCMagevEqDaVTsMwqjPoql2+IzL1kG1q3awS361pokXCG/8gwN7UO2qHQbA29+A1wdQ7aodcudcGnCU4TGg2lU7ZLdjNrobcEgPql21Q9bSEipNY0sA3xkeA6pdtUNe1ut23xx/AiSGx4BqV+2QnbT24WxmSwDfGB4Dql21Q44MkgH6DI8B1a7aIUcGyQCdtASZ4TGg2lU7ZMcgGaCzWLQvCNutLQGqXbVDfgySAZLJpP0AVLtqhxxtNm21L5e2BIzadtu+FCwWtgSodtUOWdrt2l31dDqmHzheGeraPz30GR4Dql21Q+6qqt1bj6Vj0wV3VoWFHxkeA6pdtUPuxjVIRrXDiRcBw2NAtat2yNq4BsmodjgwrjfcQLWrdhj6PnsUzxjVDmM+bgfVrtph0EY0fYRqhx+ZSApUu2qHIRnLtWiqHX5keAyodtUOQzKWed9UO/SkBZINjwHVrtphMMYySEa1Q8963T4h4k9Atat2GIw0SGa3U+0wFrNZ+4RoGlsCVLtqh+FYLtv992aj2mEU0vCYCHdAtat2GJK6bnfhVaXaYST7SsNjQLWrdhim6bTdi5c8SEa1w3ie76DaVTuU+9wp/dxbFEq8MpjljtEbxXtroNpVO5TKOFcYiVFcxwKqXbVDwcwpAWMwmRgeA6pdtcOQmb8ZijeW9RlAtat2KJi1EqF4Y1kLGVS7aoeyVVW7R3fFJhRpt/u2pBqg2lU7DNtm01b7cmlLQLFPcMNjQLWrdhi83a7dqTsVB0XyZhqodtUO5TDsFQo+JnfhCqh21Q6FMMUEFClNErVa2RKg2lU7lCJdr2Y6ZyiJBRlAtat2KI2lE6EwFj8G1a7aoUB13e7gq6q4bFmtHIsw1p2jNdRAtat2KNF0Wtyb6fGyED/SfO4fl9E+ow17A9Wu2qG8p1JxZ+ZUO2NV5rtnoNpVO/Be5ChY1c5YpelcjQ4D1a7aoUxpxolyFmRR7YxVmhUKUO2qHcqUFj9fLlU7DJgVGEC1q3YoXGkrKap2Rqmq2l98e0VQ7aodSpaGw263qh0cewOqXbVDrop6b121Mz7rdVnj3EC1q3bglHQdWwnTPKt2xiddU17Uwgug2lU7cNRyWcqccaqdkSlw/lZQ7aodOCWtz1JC66p2HHIDql21Q8HSWuiDf5NdtTPKZ24Jw9tAtat24BLpgrb4c9giXuKVoZxVo+CcdCl5VdkSoNpVO4xGGh1r8jgYkKKmbQXVrtqBC6WFWpynhkHY7b7N/gSodtUO47LZWBQdBvaENU07qHbVDmPk1B0MxXzuzTFQ7aodxioNkzWLHGTONO2g2lU7jFqauN2UFJD9frCISZ9Atat24GaFTNwOI3iemqYdVLtqh/FKE7evVrYEZMo07aDaVTtg4nbInWnaQbWrdqCVJm73DIMM7XaOq0G1q3bgQ3r/3cTtkKE0hs007aDaVTvQmkyGea1b07RD8k1dSblmM9eLg2pX7cAvlsthTtweLwvxuOdz/4IUKc3N6hccVLtqB74Z6houqp2iWQcNVLtqB/YNcr101U65drt26Fp8AKpdtQPfbTYDvCZVteMpCah21Q6j0p3YG9I1qaqdcg3y7S9Q7apdtcMTDG8QrWqnUEO91ARUu2pX7fAEw5uwQrVTqKFO6wSqXbWrdniOgU0Ordop1PCGq4FqR7XDM6UL4AazEKNqp9ynoetQQbWrduCkgU02p9opketQQbWrduBzQ7omVbVTHNehgmpX7cBFhnRNqmqnOK5DBdWu2oFLDeaa1N2uDXcjCSiI61BBtat24FIDuyYVynrquQ4VVLtqBy4ysGtSoRSuQwXVrtqB6wxvnVQYONehgmpX7cDV0jWpAgKexnWooNpVO3CLdE2qN+vhCbphaa5DBdWu2oHruDAOPN0A1a7aYQCc/IPn8NYWqHbVDtzOQFt4giEtbQaodtUOGTKpBTyBKZtAtat24KvSBNKef/AglkcA1a7agTtwkRw81HptKWJQ7aoduIfptK2KHK9Jrev2vQC9w/CfX01jS4BqV+3AV5+DbVWs1/k9snhZcBEfQ+ZXGFS7agfuJl2TOp1KHrizdB3qdmtLgGpX7cA9VFWWbaHacTwMqHbVDuzlcbS7aof77d3a39/4E1Dtqh24mxyvmVPtDP85Ze1hUO2qHbinHOenU+0MljlVQbWrduAhclwLRrUzWNYvA9Wu2oFHyW7dddXOMKXrUGczWwJUu2oHHqCuM0sN1Y4DYEC1q3bgUHpbP/JdtcNtusFmrkMF1a7agUfJ6xI61c5gn0R5XdgNqHbVDuXJaLo61c5gn0F5TaIKqHbVDiU+JS0NA1860sxuwTJAtat2KI9l2OFm0evx9NlubQlQ7aodeDwzYIAjXkC1q3bInfHkcIPlsn3irNe2BKh21Q48y2yW0xSQkD0TPoJqV+3AC+Q1BSR4ygCqXbUDR00m2UwBCdkz4SOodtUOvOq5aQpIuIhLQUC1q3bgZUyIAReKXo8ni/0YqHbVDryGKSDB8S2g2lU75K6u2xyZzWwJcHALql21q3bImLf+4QwTPoJqV+1AFl45n11dtwcNy6V/BTLehbloG1S7agfy8LIp7UzMgWcHoNpVO3Ch9fpFp9tVO3mzshKodtUOZORlI3dVO3lLJ9rr2pYA1a7agVyep68YvKvayZhfT1Dtqh3ITpqRejKRRfCN6ZVAtat2IEcvmJRatZOrtJSBlZVAtat2IDsvWABSteMgFlDtqh24VlU9t1RUO45gAdWu2oHcK1q1k6V0on29tiVAtat2IFdPvQJPtZOfl02ECqh21Q5cbrt9YkirdnLcZ71iFlRAtat24FrPW1lGtZMZJ9pBtat21Q6DYRV3Rmu99ssPql21q3YYjnS6vWlsCfzmA6pdtQO5crodv/aAalftQO7S6F4nHRkVJ9pBtat21Q5DfOaaSYMRSSfaq8qWANWu2lU7DIrJNBiVdKLdngpUu2pX7TDEJ6/T7YyCOUhBtaPaYcCcbmcknrokMKDaVTtwd8ul0+0Uzol2QLWrdhi8pmmDxul2CuZEO6DaVTuUYLFom2a9tiUoUDrRPpvZEqDaUe0wcOl0+3RqS1CgdKJ9s7ElQLWj2mH40un2+5eNAcW8VPoFdEQKqHbVDoV41Ol21c5LVZUT7YBqV+1QloecblftlHcsCqh21Q6UljiqncIORAHVrtqBAitHtVPSUSig2lU7UGboqHaKOQQFVLtqB4ptHdVOGcefgGpX7UDJuaPaKeDgE1Dtqh0ovHhUO0M/8gRUu2oHyo8e1c6gDzsB1a7agVF0j2pnuMecgGpX7cBY0ke1M9ADTkC1q3ZgRPVT122yL5e2J0M62gRUu2oHBBBkfagJqHbVDmggcJwJqHbVDsggRmo+d5AJqHbVDmPldDuDkC57doQJqHbVDiOVTrdPJu+7nY1BvpxoB1S7aoexS6fbVytbgkw50Q6odtUOON1O7tKJdrsgQLWrdvAcd7qdTFnIC1Dtqh34Zrdrz7U73U6GplMn2gHVrtqB70/zto0WC1uCjGw2TrQDql21Az3pdHsUUtPYGOQinWiva1sCUO2qHfhFOq9ZVbYEmex6vP8DqHbVDhxz9RhilwryGN78AVS7agdO2m6vjHDVzmMsl+Y1AlS7agdOu24RStXOA1hDAFDtqh24qMMvXYdStfMAVdX+Wq3XtgSg2lU7cNpicfHgBNXOa48bAVS7aofRapqLF11S7dzbbGZZJUC1q3bg0mf9ZZPuqXbuyrJKgGpX7cAVdrvLFrhR7dz1t85sj4BqV+3AdS4666nauee+pv1tWi5tCUC1q3bgGmkWyO1WtfNwZnsEVLtqB27UzeZxMqRUO3ditkdAtat24HafzAKp2rnr8SGAalftwC26WSCPXyBY122yG4nM16RLn+1kANWu2oGvvAK0RVVVtgQPsV77BQNUu2oH7sGpUB7EbI+AalftwN0YdsyDfHLhBIBqV+3AVdIskKb44BFHg2Z7BFS7agfuw3Ta3N1s9tmCAACqXbUD178UtI21WNgS3EG6CNWsoYBqV+3Ane12Lkvlbr9LLkIFVLtqBx5lu21LazazJfgSF6ECql21A4+VLkvNt7fq2vnbzLkIFVDtqh14uE9WS325qrJgT+ZchAqodtUOPOc1IePFLNOJXK9XfnkA1a7aAbK+LDWS0BSVWcr9jRpAtat2oDDpjPY//vRzjrP3Ra/PZu2HcM/veMpFqIBqV+3AUy0W73/39nOmc26ncJ9O24tTyYMJiADVrtqB14Txv/9NW+3/8rfzTB9fFOJk4rLHTP410gTt9iSAalftwLP9lz99nGvP/+Mf/sFJ99daLtt/h/gTQLWrduAF/sPf1v/8Nv/fv5u342Ry+5jN3n/1q/effsp0GM9opKsgXCEMqHbVDrxMvrOCbDZtKi4W73/5i2p/rTTjkJFKgGpX7cBrXyLyq+Iu2d9/OdOr2l/662GCdkC1q3bg9dJql+t1Ho8mZXpKdtX+UnVtbAyg2lU7kF+cvX6cTJqspH9qV7W/+nBus7ElANWu2oFcXijyaOP1ev/Urmof+a8EoNpVO0BfFuNkFov9tTdV+ytk9PYLoNpVO8AAQk21P11a4cq8MYBqV+1Aptbr/FatV+1Pl9ZUMm8MoNpVO5CvyOMotr1RKqp9PKypBKh21Q4MQFp3KbqtrlX76KQpfGJ722MAql21A7nbbttum07zONuq2p+oqtqNvVzaEoBqV+3AECwWP6x09Epx6BAvX7mc+S9Zjlc1AKpdtQOcT+Xp1Ao7I9LNIOT4CFDtqh2QcWR6kJbFbP2Aalftqh24gSETI5EGRJnqEVDtqh0YqjQRpMsTC7bZ5HTxMaDaVbtqB27QTQVomcwi1XVmE30Cql21q3bgNt2yO01jY5R2SGY4O6DaVTtQ0svItwHuBlGUxHB2QLWrdqA0af2dLGZw5x4MZwdUu2oHCmQG95KkaT0NZwdUu2oHik09M7g7AANQ7aodyJphFQVIs3ka7ASodtUOlCxdwhjl9yRN014M67Tw3fYILiwGVLtqB0agmy4w+u8Z0sSTzztKKNl2axJPQLWrdmA0ovmet/SSar+TbkElewNAtat2YCy6pZcefmWqar8HCyoBql21AyMV/feMK1NV+z24AhVQ7aodGK9nXJmq2r9suXQFKqDaVTswbmncxQNP4qr2r0mTdU4mkh1Q7aodGLFuyZ5HDZhW7V/eeBbGAlS7agf4PjnJQyZVV+15/rsAqHbVDgxONxH4/c/pqvab7Hbfkt2kMYBqV+0A33Xjp+8c7qr9pmR/+PUGAKpdtQODfbV5wNKbql2yA6pdtQPcV5oL8p6TDKr2K6Wp2c3zCKh21Q7wxHCPW4mXL3OgvOqoCUC1q3ZAO2KzA6h21Q4oSBscQLWrdgAdaVMDqHbVDqhJbGRAtat2AE1p8wKodtUOKEtl+QCxMU3yCKh21Q5w/3C//8qpI072tJSSZAdUu2oHEO6SHUC1q3ZAuHOlpvmW7FUl2QHVrtoBHmOzaYszPuIvXCuOduKYJ7ZeHP8AqHbVDiDcsxOv4pIdUO2qHeB5ttuLA7Rp4lVM4HeHOuu1Xx9Atat2gGfpBnt8Mj47Xrvii+bzcb+Me3cCUO2qHeBFugsr48/4u2o/FMczLuEFVLtqB3h9lVbV2Sq9odrjRouYXaV/VCPZAdWu2gFebLk8PWj7hmpfrdpDgYHrrj01wyOg2lU7QC42mxORekO1p28Z8tnpbiB7/AVAtat2gIxEZqcBIdPp+/dXrNvGtcfXD3Ph0G5UTBzDbLd+KQDVrtoB8hOZ3Y2Wib+01X1btcd3RvYOLdzX629vOMSPe/LyXADVrtoBctDN5j6dvtfrW+eQSVNLDiTco9HjRzQjO6DaVbtqB4akm1vm797aav9/v5/fcisR7hH+bfvXeb9Kf+v1CHdzxQCqXbWrdmBg4nXrH3/6+VvSfvFjsciwiOMHjGOKNIrdKXZAtat21Q4M1W73/h//UP/z2zw+/se/mu9m8/aM9OUfv//9+29/+/1Udjb6Q2Kqyih2QLWj2oHhu7Fx09D2NEKmG4Dy6mHu/Stuf5gtB0C1q3bVDhSgG0+SBrx80u57V6Omao/kj+98Xa+vVt8utDUkBkC1q3agZN16TPFnRPDxU+dR9HsTyKRqj29+xQJMe71+8mEDqHbVrtqBYuxF8HJ5cN79cJWlblz7cxdg6j/Ui94iAFDtqt2mAEpt9x8miTl6Qr2r9mctwBR1HocTeh1Atat2gG/t3o13jxqvq9X//XfVwT6hN4fMgxdgiqOGNNn8ybcCAFDtqh0Yp2jlNM/Mb9928RHdvF73cnlv5scI96j2aOo7vTZG/8cDWCy+n1yPA4l4AMavA6h21Q6wL41L6U69p3pup415wAJMcV/bbXt30f/djUW1Z7mgE4BqV+0A+YluXq+/z/L+N2/tUk3//Vfz//nbeTOd/59/M/+X383ef/Wr959+unwBprjNyPTVqh0A0z8wSCNz4vNiHUC1q3aAG8XrX0rtbvjKP721V6z+p7fq3/7mv0bH/+d/vYwvOPoR3xVJv9fo6Zx6fD6+IDreMBgA1a7aAe4pCvt//alN9v/2u0Vkd9fx5z9So0fBp0x3dSmAalftAI8U0Z3GsvdEhcdr5NEPg14AVLtqB3iuNFn7j8kOgGpX7QB5vSC21W4cOoBqV+0A+Uoj0wFQ7aodAIBBqOu6yeD6etWu2gEAOGk+n68yeAdStat2AABOmk6nql21AwCQtUhE1a7aAQDI13a7Ve2qHQCArC0WC9Wu2gEAyFeU4dsH1a7aAQAeoq7rCJsonPgz/l7Y3d2saZp4hOv1ervdnn+c8X8nk8nN1R7fHncRdxR3d5eJI1W7agcAXmm5XM4/vP0iNWJkSVVVbz2z2Wyz2VxSNdPpNH19d7PxmTPfmx5AfH13X+nzEZ3pptItHM3cuNn0NfFn3Egq3fPzrpz6kXe7Xffgk7i1xWKx663WHI8hjVq5drNEQ3c/YNx1upe4/cPHGV+5dxfpR+s7dY/pR+g2Qvczxl8OOzPdVP/n7f4FuwOGbrOrdtUOALxSP16TiNrU69GOUZA/f+g68lQ9d7eWSrQr3dSRXTv2C7jzdiC1dbqpKNSuofe+vRv23T+dHK2fojMq+ejdHf7I6QHH16eji7i1+M/4S7qd+DPdfnoksXFSs8Unu80Sj/bUNomb6r6sv2Vi26bb39ssbxc4ekwS/y7dAUxXlXHL8djSd+21/tHNHg81HtXmQ7fZVbtqBwBuFzV2tEpvELezd475MEv6GXc03FPPRNQeDsmIku7OTJ96DPFd3SneNKQ73UsX/XuxlB5PJO/h3XUP9czdxY/c5XvcRXxlPPK97dndTir1w/B9/5hP/fCxHT1IOPzebuR6tPKp7XnhCJluRE08nsPfiu6wIQ4VDr+x27zpQCVt9v6xTfs4Pd9UOwBwm6Mh+JVjgK7STp1N7zqyO/18tF/jL4ff2/3f80NlutruUrV/tNC/0+6LD8/B9/9vHDCcD7B0C0djNz7TH6ZytJ67Gzl6ur37v0e7vP84Dzvwqmrvht8c7cn4QbqmP/MY4v92m6s70EqbV7WrdgDgRhGCR1vzKzVyfrBHP76rqjo8itgbIX1Vv77/eH63/3Ntt9u9YTChOzF/NKK66Izb/PRHPnoSeu9ejvbu+y9Tqh+9o3jA3e2fuiS0+/bDzXJ5tV/y3sKZ0+3945+9m+02u2pX7QDAjdIJ1DNVelu1n2/EfunulWj/lO2ZsjzzgPtXT15y0HLmXHs3+OSSat+r1aMP6dTBzJk76t6+OFX8773T+YeP4fJq7w6lznxldxhz+IN0P+OZAyrVrtoBgNul0cxnYuvu1d4fBr33lRGgkYaHJ8Uvz+j+QPNLDlq+eHf9y2Q/fUinTsafuaMz70v0dafz9449bvgXOfUgzz/OS0YTqXbVDgDcIdxPTc9y92p/742E+fSMeLRNGmURunkkL0nk28brX3t3V1X7qU47U8PdhorDqp9POzUk/cJ/ke4kesruU/dyZsjQpz9j+7OkqeZJb/Gc2dAAAKf8+c9//s1vfvPXf/3XXzkDeMN4jFOxG+ncn+s9vmzx4euJfNR2u73t7h5a7d3nL3TzuPb+mKVPxQHemXHt56r9qrsBAOCUX//612emf7ljtZ+6eDEFdL/p+4F41QiZC6s9vqx/d/0z9HcfIfOVar9hcdPbqv22w7aLqj2tPUvaWHGMZVMAANf605/+lOL1tjq8ttq7cdh7ndpdb3p+bvJ7VXv/7g4HZL+82vsTyNy92uNOuwFRT6p2Y9GMawcAviLqcDabnVr56KHj2vsXWXYzGJ4alX7fau+fyT56DeXLq/3UhrrLv0j/8fS3/JmrUVW7agcAXma3280+fH3W9gur/VSdd5dUnirgw7qNb9/74survRvIfmpSxcO7i6Oavbt7dLV3D/LMNOr9o6/bqr2/FNQlJ/UP70i1q3YA4LEiB++10NKFqywdnSW9H46nZg88TOT0mduq/dNOPVz8KOX1M6u9/4bAqVWW+l+59zWnqj1t7f7j6f5RPj08SAOzVbtqBwCe2g9fHxhz2IhnlgQ6NVa7n6eneuZwKsaHVvvhHDLPr/b3CxZp6jbO4WY/tZrsYeLH37uLDc5surQs1+EWU+2qHQB4oKMF9vVqPzM8+szapd33Hs3T/kpA3fnguMe9c8OXV3sXqUdXmOpXbDfRzWaz2Zv05pJqPzWZ+oXVfklPp8tqD7d593bBXtCv1+vD2Xu6a3PPDJeKY4Oj68iqdtUOADxQ9Nn5cRe3Vfvkw16WROr1z14fll/Eevfte6f/4z+jO1Ojp6+Jz8QtxCf7zR2R2p+d5nwX9Y8x9u4uXZ4bj6c7u59uKm6zf1VofFf3eA5/3vQj9wfxx/cebu24kf5U8fH1h1smLYN1aq70tPjRqdVtu0fYfePhdjsa7nsPNb4rPc4zxwbdalCqXbUDALnXSBpzkhI8Gi6SLi2rmWaWPH92vx/u8ff4xvj21PqpMvsDaeIG48tSXJ6fh/5UIPXDPd1diL/Ezaa763K5u7vU992p5aO+ReppaQucX3To8ACg/zZFfG9aw/XT+Tr7xR8/WvxDpPmCTp1N709gHxth/SH+cvRI7KrNrtpVOwCQXbWn/ovaSwkYf0ZrRv99etlrVHi63rH7xqqq+oUTf4/PxBdEg/ZnHE/SQUInffLM+wnxv+JRdXcXYRo33j+dHNUbP0W6u+52UjGndE53FN/SPYa9h9Q9mO670o/TPbzuRvrLEJ1K8HgYXb6nNwQ+fbcktlK3tk86IPn0W9LatOk8fXzLqX+7qza7alftAECO1Q6qXbUDAKod1a7aAQBUO6pdtQMAqh3VrtoBAJ6qmwFGtaPaVTsAkKOmaboZA+87DTyqXbUDAHzVmcnLz6wYimpX7QAAz9NNQ34o/pftg2pX7QAAqHbVDgAAql21AwCg2lU7AACodtUOAACqXbUDAKDaVTsAAKh21Q4AgGpHtQMAoNpVOwAAqHbVDgCAalftAACg2lU7AACodtUOAIBqV+0AAKDaVTsAAKpdtat2AABUu2oHAADVrtoBAFDtqh0AAFS7agcAANWu2gEAUO2qHQAAVLtqBwBAtat2AABQ7aodAABUu2oHAEC1q3YAAFDtqh0AAFS7agcAQLWrdgAAUO2qHQAA1a7aAQBAtat2AABQ7aodAADVrtoBAEC1q3YAAFS7alftAACodtUOAACqXbUDAKDaVTsAAKh21Q4AAKpdtQMAoNpVOwAAqHbVDgCAalftAACg2lU7AACodtUOAIBqV+0AAKDaVTsAAKh21Q4AgGpX7QAAoNpVOwAAql21AwCAalftAACg2lU7AACqXbUDAIBqV+0AAKh2VDsAAKpdtQMAgGpX7QAAqHbVDgAAql21AwCAalftAACodtUOAACqXbUDAKDaVbtqBwBAtat2AABQ7aodAADVrtoBAEC1q3YAAFDtRzVNE8m+2+1sCgAAcvP/ARmPsCdbur/VAAAAAElFTkSuQmCC)"
      ],
      "metadata": {
        "id": "ptCdG9-0JRJi"
      }
    },
    {
      "cell_type": "markdown",
      "source": [
        "However instead of doing this manually we can calculate the derivative. We use calculus as a performance optimization; it allows us to more quickly calculate whether our loss will go up or down when we adjust our parameters up or down.\n",
        "\n",
        "In other words, the gradients will tell us how much we have to change each weight to make our model better.\n",
        "\n",
        "One important thing to be aware of is that our function has lots of weights that we need to adjust, so when we calculate the derivative, we won’t get back one number, but lots of them—a gradient for every weight."
      ],
      "metadata": {
        "id": "gPZrX_GZKRxi"
      }
    },
    {
      "cell_type": "code",
      "source": [
        "xt = tensor(3.).requires_grad_()\n",
        "xt"
      ],
      "metadata": {
        "id": "oNMSgRLVJWbw",
        "colab": {
          "base_uri": "https://localhost:8080/"
        },
        "outputId": "cb10aeb3-fcbf-4053-fec5-c04eaa6daf82"
      },
      "execution_count": 42,
      "outputs": [
        {
          "output_type": "execute_result",
          "data": {
            "text/plain": [
              "tensor(3., requires_grad=True)"
            ]
          },
          "metadata": {},
          "execution_count": 42
        }
      ]
    },
    {
      "cell_type": "markdown",
      "source": [
        "so we create a rank 1 tensor.\n",
        "- Note In PyTorch, every tensor has a Boolean property called requires_grad. If requires_grad=True, PyTorch will track, on this tensor, all the operations that are being done. Then, during backpropagation, PyTorch will compute the gradients of the loss with respect to this tensor.\n",
        "\n",
        "This is important because in a neural network, not all tensors need to have their gradients computed. For instance, the inputs to the network (your data) don't need to have gradients computed because these values aren't updated during training – only the weights of the model are. So, you would set requires_grad=True for the weights of your model."
      ],
      "metadata": {
        "id": "fay-duoPLUdy"
      }
    },
    {
      "cell_type": "code",
      "source": [
        "yt = f(xt)\n",
        "yt"
      ],
      "metadata": {
        "id": "4aAzcoR0LOZ4",
        "colab": {
          "base_uri": "https://localhost:8080/"
        },
        "outputId": "69034e75-2cd4-4e22-80ee-7c46804df5eb"
      },
      "execution_count": 43,
      "outputs": [
        {
          "output_type": "execute_result",
          "data": {
            "text/plain": [
              "tensor(9., grad_fn=<PowBackward0>)"
            ]
          },
          "metadata": {},
          "execution_count": 43
        }
      ]
    },
    {
      "cell_type": "markdown",
      "source": [
        "loss function with respect to tensor"
      ],
      "metadata": {
        "id": "cKfOwSDyNSG-"
      }
    },
    {
      "cell_type": "code",
      "source": [
        "yt.backward()\n"
      ],
      "metadata": {
        "id": "SPoLu4x6MHeE"
      },
      "execution_count": 44,
      "outputs": []
    },
    {
      "cell_type": "markdown",
      "source": [
        "calculates the derivative or gradients for each weight or parameter, called backpropogation."
      ],
      "metadata": {
        "id": "Li5H8ZEKMID7"
      }
    },
    {
      "cell_type": "code",
      "source": [
        "\n",
        "xt.grad"
      ],
      "metadata": {
        "id": "folFlkHjMqBZ",
        "colab": {
          "base_uri": "https://localhost:8080/"
        },
        "outputId": "61a36abe-cbb2-45e6-e290-384726c2d1a7"
      },
      "execution_count": 45,
      "outputs": [
        {
          "output_type": "execute_result",
          "data": {
            "text/plain": [
              "tensor(6.)"
            ]
          },
          "metadata": {},
          "execution_count": 45
        }
      ]
    },
    {
      "cell_type": "markdown",
      "source": [
        "The gradient of the parameter is 2x which is the derivative of the loss function of x**2"
      ],
      "metadata": {
        "id": "W8yS8djINa6r"
      }
    },
    {
      "cell_type": "markdown",
      "source": [
        "Now apply the same process with vectors"
      ],
      "metadata": {
        "id": "YH0mJm1PTxhN"
      }
    },
    {
      "cell_type": "code",
      "source": [
        "xt = tensor([2.,3.,5.,6.]).requires_grad_()\n",
        "xt\n"
      ],
      "metadata": {
        "id": "b2a5wLQRMUP9",
        "colab": {
          "base_uri": "https://localhost:8080/"
        },
        "outputId": "b1c8531b-2391-4d46-b466-136d0030d317"
      },
      "execution_count": 46,
      "outputs": [
        {
          "output_type": "execute_result",
          "data": {
            "text/plain": [
              "tensor([2., 3., 5., 6.], requires_grad=True)"
            ]
          },
          "metadata": {},
          "execution_count": 46
        }
      ]
    },
    {
      "cell_type": "markdown",
      "source": [
        "And we'll add `sum` to our function so it can take a vector (i.e., a rank-1 tensor), and return a scalar (i.e., a rank-0 tensor):"
      ],
      "metadata": {
        "id": "SZyT2ZSxTuhV"
      }
    },
    {
      "cell_type": "code",
      "source": [
        "def f(x): return (x**2).sum()\n",
        "yt = f(xt)\n",
        "yt"
      ],
      "metadata": {
        "id": "05zmfxFQTRhr",
        "colab": {
          "base_uri": "https://localhost:8080/"
        },
        "outputId": "6e60abc0-5ebe-4676-ce55-896ce41c67fc"
      },
      "execution_count": 47,
      "outputs": [
        {
          "output_type": "execute_result",
          "data": {
            "text/plain": [
              "tensor(74., grad_fn=<SumBackward0>)"
            ]
          },
          "metadata": {},
          "execution_count": 47
        }
      ]
    },
    {
      "cell_type": "code",
      "source": [
        "yt.backward()\n"
      ],
      "metadata": {
        "id": "FyFEKYiXTfIB"
      },
      "execution_count": 48,
      "outputs": []
    },
    {
      "cell_type": "code",
      "source": [
        "xt.grad"
      ],
      "metadata": {
        "id": "Jcwk0-k9UYNZ",
        "colab": {
          "base_uri": "https://localhost:8080/"
        },
        "outputId": "f272350f-d7c9-4b04-ec78-10a4f662535f"
      },
      "execution_count": 49,
      "outputs": [
        {
          "output_type": "execute_result",
          "data": {
            "text/plain": [
              "tensor([ 4.,  6., 10., 12.])"
            ]
          },
          "metadata": {},
          "execution_count": 49
        }
      ]
    },
    {
      "cell_type": "markdown",
      "source": [
        "The gradients only tell us the slope of our function, they don't actually tell us exactly how far to adjust the parameters. But it gives us some idea of how far; if the slope is very large, then that may suggest that we have more adjustments to do, whereas if the slope is very small, that may suggest that we are close to the optimal value."
      ],
      "metadata": {
        "id": "_fhPfdSgUk3A"
      }
    },
    {
      "cell_type": "markdown",
      "source": [
        "##Stepping with learning rate, optimizer step\n",
        "\n"
      ],
      "metadata": {
        "id": "4VBkp05rVzW5"
      }
    },
    {
      "cell_type": "markdown",
      "source": [
        "So when we talk about minimizing the loss function, what we are looking for is the local minimum of the loss function. This is where the error in our prediction is the least with respect to the actual value. To find this local minimum we need to do gradient descent. We need to go against the gradient and find where the slope is 0.\n",
        "\n",
        "The learning rate is between 0.001 and 0.1. Some people use algorithms to find this learning rate, but some people try a few different numbers to see which is best. Once we find a learning rate, we update the weight or bias as follows"
      ],
      "metadata": {
        "id": "46Gt6gABk02S"
      }
    },
    {
      "cell_type": "markdown",
      "source": [
        "\n",
        "\n",
        "```\n",
        "w -= gradient(w) * lr\n",
        "```\n",
        "\n"
      ],
      "metadata": {
        "id": "n3JVob460jLj"
      }
    },
    {
      "cell_type": "markdown",
      "source": [
        "This is known as stepping your parameters, using an optimizer step. Notice how we subtract the gradient * lr from the parameter to update it. We are going against the gradient which means updating the parameters in the direction that decreases the loss function the fastest.\n",
        "\n",
        "If your learning rate is too large you will overshoot, and bounce around; similarily if the learning rate is too small you will be doing too many calculations."
      ],
      "metadata": {
        "id": "eboulV850e1G"
      }
    },
    {
      "cell_type": "markdown",
      "source": [
        "# End to end Stochastic gradient descent\n",
        "\n",
        "Imagine you were measuring the speed of a roller coaster as it went over the top of a hump. It would start fast, and then get slower as it went up the hill; it would be slowest at the top, and it would then speed up again as it went downhill. You want to build a model of how the speed changes over time. If you were measuring the speed manually every second for 20 seconds, it might look something like this:"
      ],
      "metadata": {
        "id": "NW7dPpHW1pnm"
      }
    },
    {
      "cell_type": "markdown",
      "source": [],
      "metadata": {
        "id": "2GT6BylCXV1c"
      }
    },
    {
      "cell_type": "code",
      "source": [
        "time = torch.arange(0,20).float(); time"
      ],
      "metadata": {
        "id": "5ysHvWkz0RzZ",
        "colab": {
          "base_uri": "https://localhost:8080/"
        },
        "outputId": "aab3b0c5-4cee-43da-ba00-93a4bf6491f9"
      },
      "execution_count": 50,
      "outputs": [
        {
          "output_type": "execute_result",
          "data": {
            "text/plain": [
              "tensor([ 0.,  1.,  2.,  3.,  4.,  5.,  6.,  7.,  8.,  9., 10., 11., 12., 13., 14., 15., 16., 17., 18., 19.])"
            ]
          },
          "metadata": {},
          "execution_count": 50
        }
      ]
    },
    {
      "cell_type": "code",
      "source": [
        "speed = torch.randn(20)*3 + 0.75*(time-9.5)**2 + 1\n",
        "plt.scatter(time,speed)"
      ],
      "metadata": {
        "id": "KL8xcIx541Ka",
        "colab": {
          "base_uri": "https://localhost:8080/",
          "height": 0
        },
        "outputId": "c8f3dfbc-3e92-4499-c143-d42e3d77d3c2"
      },
      "execution_count": 51,
      "outputs": [
        {
          "output_type": "execute_result",
          "data": {
            "text/plain": [
              "<matplotlib.collections.PathCollection at 0x7b611bf23c10>"
            ]
          },
          "metadata": {},
          "execution_count": 51
        },
        {
          "output_type": "display_data",
          "data": {
            "text/plain": [
              "<Figure size 640x480 with 1 Axes>"
            ],
            "image/png": "[encoded data removed]"
          },
          "metadata": {}
        }
      ]
    },
    {
      "cell_type": "markdown",
      "source": [
        "How the speed was generated with arbritrary noise to simulate measurements in real world (since friction would cause non uniform parabola)\n",
        "\n",
        "1. First, the parabolic function 0.75*(time-9.5)**2 is calculated. This results in a tensor (let's call it parabola) that represents a parabola centered at time = 9.5.\n",
        "\n",
        "2. Then, the random noise torch.randn(20)*3 is generated. This results in a tensor of the same size (let's call it noise) that contains 20 random numbers, each drawn from a normal distribution with a mean of 0 and a standard deviation of 3.\n",
        "\n",
        "3. These two tensors parabola and noise are added together, element-wise. This means that the first element of parabola is added to the first element of noise, the second element of parabola is added to the second element of noise, and so on.\n",
        "\n",
        "4. Finally, the scalar 1 is added to each element of the r4. esulting tensor."
      ],
      "metadata": {
        "id": "LNfw3JI_5FEs"
      }
    },
    {
      "cell_type": "markdown",
      "source": [
        "Great we plotted some values, now lets try to fit this data to a prediction model."
      ],
      "metadata": {
        "id": "1sRHCpy8z8Km"
      }
    },
    {
      "cell_type": "code",
      "source": [
        "def f(t, params):\n",
        "    a,b,c = params\n",
        "    return a*(t**2) + (b*t) + c"
      ],
      "metadata": {
        "id": "IAD0V9Z854rp"
      },
      "execution_count": 52,
      "outputs": []
    },
    {
      "cell_type": "markdown",
      "source": [
        "This greatly simplifies the problem, since every quadratic function is fully defined by the three parameters a, b, and c. Thus, to find the best quadratic function, we only need to find the best values for a, b, and c. **These are our weights.**\n",
        "\n",
        "Now we need to determine a loss function so we will use MSE"
      ],
      "metadata": {
        "id": "baX3ojtc5s0f"
      }
    },
    {
      "cell_type": "code",
      "source": [
        "  def mse(predict, actual): return ((predict - actual)**2).mean()"
      ],
      "metadata": {
        "id": "8Qr9apr66K2Y"
      },
      "execution_count": 53,
      "outputs": []
    },
    {
      "cell_type": "markdown",
      "source": [
        "#7 steps in training model\n",
        "\n",
        "We have our loss function, our data, now we go through the 7 steps to train a model."
      ],
      "metadata": {
        "id": "W7d_zdP06oVt"
      }
    },
    {
      "cell_type": "markdown",
      "source": [
        "###Initialize the params"
      ],
      "metadata": {
        "id": "lQmyI51r69lM"
      }
    },
    {
      "cell_type": "code",
      "source": [
        "params = torch.randn(3).requires_grad_()"
      ],
      "metadata": {
        "id": "GKBS4pf16vYU"
      },
      "execution_count": 54,
      "outputs": []
    },
    {
      "cell_type": "code",
      "source": [
        "params"
      ],
      "metadata": {
        "id": "of8bqdxD-nOE",
        "colab": {
          "base_uri": "https://localhost:8080/"
        },
        "outputId": "8717d8ba-9060-497a-953c-b47b186ba255"
      },
      "execution_count": 55,
      "outputs": [
        {
          "output_type": "execute_result",
          "data": {
            "text/plain": [
              "tensor([-0.7658, -0.7506,  1.3525], requires_grad=True)"
            ]
          },
          "metadata": {},
          "execution_count": 55
        }
      ]
    },
    {
      "cell_type": "code",
      "source": [
        "original_params = params.clone()"
      ],
      "metadata": {
        "id": "ChZzVGmf_pz2"
      },
      "execution_count": 56,
      "outputs": []
    },
    {
      "cell_type": "code",
      "source": [
        "prediction = f(time, params)"
      ],
      "metadata": {
        "id": "06_2F4dT_9s9"
      },
      "execution_count": 57,
      "outputs": []
    },
    {
      "cell_type": "code",
      "source": [
        "prediction"
      ],
      "metadata": {
        "id": "SP9rl1w-CKEX",
        "colab": {
          "base_uri": "https://localhost:8080/"
        },
        "outputId": "bc86af2f-11c1-4f42-cae4-c86b2120e0ee"
      },
      "execution_count": 58,
      "outputs": [
        {
          "output_type": "execute_result",
          "data": {
            "text/plain": [
              "tensor([ 1.3525e+00, -1.6391e-01, -3.2121e+00, -7.7919e+00, -1.3903e+01, -2.1547e+01, -3.0721e+01, -4.1428e+01, -5.3666e+01, -6.7436e+01, -8.2738e+01, -9.9571e+01, -1.1794e+02, -1.3783e+02,\n",
              "        -1.5926e+02, -1.8222e+02, -2.0671e+02, -2.3274e+02, -2.6029e+02, -2.8938e+02], grad_fn=<AddBackward0>)"
            ]
          },
          "metadata": {},
          "execution_count": 58
        }
      ]
    },
    {
      "cell_type": "markdown",
      "source": [
        "This is the function of our model with random params, we will subsequently train this model to fit the actual data better by minimizing the loss, using gradient descent.\n",
        "\n",
        "Lets create a function that plots the actual values, and the predicted values.\n"
      ],
      "metadata": {
        "id": "tDGcOXEEAKWY"
      }
    },
    {
      "cell_type": "code",
      "source": [
        "def actual_vs_prediction(time, speed, prediction):\n",
        "  # If preds requires gradients, detach it before converting to numpy\n",
        "  # since our prediction function or model has params which require gradients\n",
        "  # we need to convert from tensor to numpy just to plot the output of prediction model\n",
        "    if prediction.requires_grad:\n",
        "      prediction = prediction.detach()\n",
        "    plt.scatter(time,speed,color='blue',label='actual')\n",
        "    plt.scatter(time,prediction,color='red',label='prediction')\n",
        "    plt.ylim(-300,100)\n",
        "    plt.legend()\n",
        "    plt.show()\n"
      ],
      "metadata": {
        "id": "AwuZW5ELAdKR"
      },
      "execution_count": 59,
      "outputs": []
    },
    {
      "cell_type": "code",
      "source": [
        "actual_vs_prediction(time,speed,prediction)"
      ],
      "metadata": {
        "id": "P9jolxAGCASP",
        "colab": {
          "base_uri": "https://localhost:8080/",
          "height": 0
        },
        "outputId": "163a8552-09af-4831-a2ac-5d8dc17ce7f7"
      },
      "execution_count": 60,
      "outputs": [
        {
          "output_type": "display_data",
          "data": {
            "text/plain": [
              "<Figure size 640x480 with 1 Axes>"
            ],
            "image/png": "[encoded data removed]"
          },
          "metadata": {}
        }
      ]
    },
    {
      "cell_type": "markdown",
      "source": [
        "This model doesn't accurately model the actual values so lets calculate the loss."
      ],
      "metadata": {
        "id": "kuhIC5iFCRDO"
      }
    },
    {
      "cell_type": "markdown",
      "source": [
        "##Calculate the loss and gradient values\n"
      ],
      "metadata": {
        "id": "YTqG6AuRCdMp"
      }
    },
    {
      "cell_type": "code",
      "source": [
        "loss = mse(prediction,speed)\n",
        "loss"
      ],
      "metadata": {
        "id": "fC-M2SVsJKC-",
        "colab": {
          "base_uri": "https://localhost:8080/"
        },
        "outputId": "d6dd03fc-9d31-41dd-ec1e-bc8d2ccafff0"
      },
      "execution_count": 61,
      "outputs": [
        {
          "output_type": "execute_result",
          "data": {
            "text/plain": [
              "tensor(25823.8086, grad_fn=<MeanBackward0>)"
            ]
          },
          "metadata": {},
          "execution_count": 61
        }
      ]
    },
    {
      "cell_type": "markdown",
      "source": [
        "calculate gradient values of the model (a,b,c)"
      ],
      "metadata": {
        "id": "3FZvy8lPJt4m"
      }
    },
    {
      "cell_type": "code",
      "source": [
        "loss.backward()"
      ],
      "metadata": {
        "id": "rI5lcCLiJtYc"
      },
      "execution_count": 62,
      "outputs": []
    },
    {
      "cell_type": "code",
      "source": [
        "params.grad"
      ],
      "metadata": {
        "id": "YbqgurixJ1iq",
        "colab": {
          "base_uri": "https://localhost:8080/"
        },
        "outputId": "be854da6-d11c-4a4b-8464-be898ab7736a"
      },
      "execution_count": 63,
      "outputs": [
        {
          "output_type": "execute_result",
          "data": {
            "text/plain": [
              "tensor([-53195.8633,  -3419.7148,   -253.8908])"
            ]
          },
          "metadata": {},
          "execution_count": 63
        }
      ]
    },
    {
      "cell_type": "markdown",
      "source": [
        "## learning rate and step, update gradients"
      ],
      "metadata": {
        "id": "9KS6ZiRGKPp-"
      }
    },
    {
      "cell_type": "code",
      "source": [
        "  lr = 1e-5\n"
      ],
      "metadata": {
        "id": "4DzA8I0nKPIX"
      },
      "execution_count": 64,
      "outputs": []
    },
    {
      "cell_type": "code",
      "source": [
        "params.data = params.data - lr * params.grad.data"
      ],
      "metadata": {
        "id": "AgSRsceiK8QX"
      },
      "execution_count": 65,
      "outputs": []
    },
    {
      "cell_type": "markdown",
      "source": [
        "lets see if loss improved"
      ],
      "metadata": {
        "id": "glwFnA6tLO8h"
      }
    },
    {
      "cell_type": "code",
      "source": [
        "prediction = f(time,params)\n",
        "mse(prediction,speed)"
      ],
      "metadata": {
        "id": "-zOivIXeLQ-G",
        "colab": {
          "base_uri": "https://localhost:8080/"
        },
        "outputId": "71818aca-73ce-4136-f11f-f79a3f4766ef"
      },
      "execution_count": 66,
      "outputs": [
        {
          "output_type": "execute_result",
          "data": {
            "text/plain": [
              "tensor(5435.5356, grad_fn=<MeanBackward0>)"
            ]
          },
          "metadata": {},
          "execution_count": 66
        }
      ]
    },
    {
      "cell_type": "code",
      "source": [],
      "metadata": {
        "id": "RUtr34JK9chZ"
      },
      "execution_count": 66,
      "outputs": []
    },
    {
      "cell_type": "markdown",
      "source": [
        "Awesome 30% improvement. lets plot this."
      ],
      "metadata": {
        "id": "rwCwmKuCLah0"
      }
    },
    {
      "cell_type": "code",
      "source": [
        "actual_vs_prediction(time,speed,prediction)"
      ],
      "metadata": {
        "id": "oOL0a_luLfXu",
        "colab": {
          "base_uri": "https://localhost:8080/",
          "height": 0
        },
        "outputId": "a1735f2f-b865-449c-8c5c-460d027a85a4"
      },
      "execution_count": 67,
      "outputs": [
        {
          "output_type": "display_data",
          "data": {
            "text/plain": [
              "<Figure size 640x480 with 1 Axes>"
            ],
            "image/png": "[encoded data removed]"
          },
          "metadata": {}
        }
      ]
    },
    {
      "cell_type": "markdown",
      "source": [
        "lets automate this"
      ],
      "metadata": {
        "id": "SHYz5xIPLkuQ"
      }
    },
    {
      "cell_type": "code",
      "source": [
        "def apply_step(params, prn=True):\n",
        "  prediction = f(time,params)\n",
        "  loss = mse(prediction, speed)\n",
        "  loss.backward()\n",
        "  params.data -= lr * params.grad.data\n",
        "  params.grad = None #remove gradient values so it can be recalculated in next step\n",
        "  if prn: print(loss.item()) #item prints the value of the loss tensor object\n",
        "  return prediction\n"
      ],
      "metadata": {
        "id": "LWg6qVtxLmiM"
      },
      "execution_count": 68,
      "outputs": []
    },
    {
      "cell_type": "code",
      "source": [
        "for i in range(10):\n",
        "  apply_step(params)"
      ],
      "metadata": {
        "id": "pCw0OvgqQeS-",
        "colab": {
          "base_uri": "https://localhost:8080/"
        },
        "outputId": "d9aa44ca-cc31-4c87-ad29-136c2b023f23"
      },
      "execution_count": 69,
      "outputs": [
        {
          "output_type": "stream",
          "name": "stdout",
          "text": [
            "5435.53564453125\n",
            "4227.6611328125\n",
            "1348.8753662109375\n",
            "804.1176147460938\n",
            "701.029296875\n",
            "681.5181884765625\n",
            "677.8226318359375\n",
            "677.11962890625\n",
            "676.9830322265625\n",
            "676.9537353515625\n"
          ]
        }
      ]
    },
    {
      "cell_type": "markdown",
      "source": [
        "We see that the loss is going down considerably after 10 epochs."
      ],
      "metadata": {
        "id": "7g6263nESG31"
      }
    },
    {
      "cell_type": "code",
      "source": [
        "original_params"
      ],
      "metadata": {
        "id": "_pcoaEUoTGKr",
        "colab": {
          "base_uri": "https://localhost:8080/"
        },
        "outputId": "6f249ca0-a273-4464-a4d8-558281894c2c"
      },
      "execution_count": 70,
      "outputs": [
        {
          "output_type": "execute_result",
          "data": {
            "text/plain": [
              "tensor([-0.7658, -0.7506,  1.3525], grad_fn=<CloneBackward0>)"
            ]
          },
          "metadata": {},
          "execution_count": 70
        }
      ]
    },
    {
      "cell_type": "code",
      "source": [
        "params"
      ],
      "metadata": {
        "id": "agls7qnRTJza",
        "colab": {
          "base_uri": "https://localhost:8080/"
        },
        "outputId": "541f1c9b-23ea-4709-d630-cbb47cccb550"
      },
      "execution_count": 71,
      "outputs": [
        {
          "output_type": "execute_result",
          "data": {
            "text/plain": [
              "tensor([ 0.1758, -0.6895,  1.3591], requires_grad=True)"
            ]
          },
          "metadata": {},
          "execution_count": 71
        }
      ]
    },
    {
      "cell_type": "markdown",
      "source": [
        "we see our original params is a clone of params, so we need to detach it to just get its values, then add require_gradient flag so we can calculate the gradients in the apply_step function.\n",
        "\n",
        "Lets make a new variable called old_params and which is the initial param values we calculated at the start. We will do the training again and look at the change over time."
      ],
      "metadata": {
        "id": "tZufcXxMTIbS"
      }
    },
    {
      "cell_type": "code",
      "source": [
        "old_params = original_params.detach().requires_grad_()"
      ],
      "metadata": {
        "id": "NDc0ccYTSK7D"
      },
      "execution_count": 72,
      "outputs": []
    },
    {
      "cell_type": "code",
      "source": [
        "_, axs = plt.subplots(1, 4, figsize=(12, 3))\n",
        "\n",
        "for ax in axs:\n",
        "    preds = apply_step(old_params, True)\n",
        "    plt.sca(ax)\n",
        "    actual_vs_prediction(time, speed, preds)\n",
        "\n",
        "plt.tight_layout()"
      ],
      "metadata": {
        "id": "F80uEXeqSRic",
        "colab": {
          "base_uri": "https://localhost:8080/",
          "height": 0
        },
        "outputId": "8971f1a8-1a19-4fb3-ea65-5164be80c6fd"
      },
      "execution_count": 73,
      "outputs": [
        {
          "output_type": "stream",
          "name": "stdout",
          "text": [
            "25823.80859375\n"
          ]
        },
        {
          "output_type": "display_data",
          "data": {
            "text/plain": [
              "<Figure size 1200x300 with 4 Axes>"
            ],
            "image/png": "[encoded data removed]"
          },
          "metadata": {}
        },
        {
          "output_type": "stream",
          "name": "stdout",
          "text": [
            "5435.53564453125\n"
          ]
        },
        {
          "output_type": "display_data",
          "data": {
            "text/plain": [
              "<Figure size 1200x300 with 4 Axes>"
            ],
            "image/png": "[encoded data removed]"
          },
          "metadata": {}
        },
        {
          "output_type": "stream",
          "name": "stdout",
          "text": [
            "1577.44921875\n"
          ]
        },
        {
          "output_type": "display_data",
          "data": {
            "text/plain": [
              "<Figure size 1200x300 with 4 Axes>"
            ],
            "image/png": "[encoded data removed]"
          },
          "metadata": {}
        },
        {
          "output_type": "stream",
          "name": "stdout",
          "text": [
            "847.3778076171875\n"
          ]
        },
        {
          "output_type": "display_data",
          "data": {
            "text/plain": [
              "<Figure size 1200x300 with 4 Axes>"
            ],
            "image/png": "[encoded data removed]"
          },
          "metadata": {}
        },
        {
          "output_type": "display_data",
          "data": {
            "text/plain": [
              "<Figure size 640x480 with 0 Axes>"
            ]
          },
          "metadata": {}
        }
      ]
    },
    {
      "cell_type": "markdown",
      "source": [
        "There you have it, we showed a visual representation of the model's loss function minimizing overtime, and the model trying to fit the data over time"
      ],
      "metadata": {
        "id": "Buh0AUB9TicM"
      }
    },
    {
      "cell_type": "markdown",
      "source": [
        "# MNIST loss function"
      ],
      "metadata": {
        "id": "DgK_xEZMcPoa"
      }
    },
    {
      "cell_type": "markdown",
      "source": [
        "We already have our independent variables x—these are the images themselves. We'll concatenate them all into a single tensor, and also change them from a list of matrices (a rank-3 tensor) to a list of vectors (a rank-2 tensor)\n",
        "\n",
        "When working with images in neural networks, it's common to flatten the input data because it simplifies the design and architecture of the model. This is especially true in basic or fully-connected neural networks (also known as dense networks), where each neuron in one layer is connected to every neuron in the next layer.\n",
        "\n",
        "Flattening doesn't really lose any information, because the pixel values are still there in the same order, but the spatial relationships between pixels are not explicitly preserved. It's a tradeoff for the simplicity of the model. However, for tasks where spatial relationships are important (such as many computer vision tasks), other types of layers and architectures that preserve and utilize this spatial information (like convolutional neural networks) are commonly used.\n",
        "\n",
        "We can do this using view, which is a PyTorch method that changes the shape of a tensor without changing its contents. -1 is a special parameter to view that means \"make this axis as big as necessary to fit all the data\":"
      ],
      "metadata": {
        "id": "klVF9papcVwt"
      }
    },
    {
      "cell_type": "code",
      "source": [
        "train_x = torch.cat([stacked_threes, stacked_sevens]).view(-1, 28*28)\n",
        "train_x[20]"
      ],
      "metadata": {
        "id": "MUgsPtEGcqw9",
        "colab": {
          "base_uri": "https://localhost:8080/"
        },
        "outputId": "222374a1-d360-4182-f1de-ecea105bd215"
      },
      "execution_count": 74,
      "outputs": [
        {
          "output_type": "execute_result",
          "data": {
            "text/plain": [
              "tensor([0.0000, 0.0000, 0.0000, 0.0000, 0.0000, 0.0000, 0.0000, 0.0000, 0.0000, 0.0000, 0.0000, 0.0000, 0.0000, 0.0000, 0.0000, 0.0000, 0.0000, 0.0000, 0.0000, 0.0000, 0.0000, 0.0000, 0.0000, 0.0000,\n",
              "        0.0000, 0.0000, 0.0000, 0.0000, 0.0000, 0.0000, 0.0000, 0.0000, 0.0000, 0.0000, 0.0000, 0.0000, 0.0000, 0.0000, 0.0000, 0.0000, 0.0000, 0.0000, 0.0000, 0.0000, 0.0000, 0.0000, 0.0000, 0.0000,\n",
              "        0.0000, 0.0000, 0.0000, 0.0000, 0.0000, 0.0000, 0.0000, 0.0000, 0.0000, 0.0000, 0.0000, 0.0000, 0.0000, 0.0000, 0.0000, 0.0000, 0.0000, 0.0000, 0.0000, 0.0000, 0.0000, 0.0000, 0.0000, 0.0000,\n",
              "        0.0000, 0.0000, 0.0000, 0.0000, 0.0000, 0.0000, 0.0000, 0.0000, 0.0000, 0.0000, 0.0000, 0.0000, 0.0000, 0.0000, 0.0000, 0.0000, 0.0000, 0.0000, 0.0000, 0.0000, 0.0000, 0.0000, 0.0000, 0.0000,\n",
              "        0.0000, 0.0000, 0.0000, 0.0000, 0.0000, 0.0000, 0.0000, 0.0000, 0.0000, 0.0000, 0.0000, 0.0000, 0.0000, 0.0000, 0.0000, 0.0000, 0.0000, 0.0000, 0.0000, 0.0000, 0.0000, 0.0000, 0.0000, 0.0000,\n",
              "        0.0000, 0.0000, 0.0000, 0.0000, 0.0000, 0.0000, 0.0000, 0.0000, 0.0000, 0.0000, 0.0000, 0.0000, 0.0000, 0.0000, 0.0000, 0.0000, 0.0000, 0.0000, 0.0000, 0.0000, 0.0000, 0.0000, 0.0000, 0.0000,\n",
              "        0.0000, 0.0000, 0.0000, 0.0000, 0.0000, 0.0000, 0.0353, 0.3137, 0.3137, 0.5490, 1.0000, 0.9961, 1.0000, 0.8549, 0.1490, 0.0000, 0.0000, 0.0000, 0.0000, 0.0000, 0.0000, 0.0000, 0.0000, 0.0000,\n",
              "        0.0000, 0.0000, 0.0000, 0.0000, 0.0000, 0.0000, 0.0000, 0.0000, 0.1098, 0.6196, 0.6588, 0.9922, 0.9922, 0.9922, 0.9922, 0.9922, 0.9922, 0.9922, 0.4784, 0.0000, 0.0000, 0.0000, 0.0000, 0.0000,\n",
              "        0.0000, 0.0000, 0.0000, 0.0000, 0.0000, 0.0000, 0.0000, 0.0000, 0.0000, 0.0000, 0.0000, 0.1373, 0.8471, 0.9922, 0.9922, 0.9922, 0.8157, 0.7490, 0.9098, 0.9922, 0.9922, 0.7961, 0.0314, 0.0000,\n",
              "        0.0000, 0.0000, 0.0000, 0.0000, 0.0000, 0.0000, 0.0000, 0.0000, 0.0000, 0.0000, 0.0000, 0.0000, 0.0000, 0.0000, 0.5137, 0.7961, 0.9922, 0.9922, 0.5490, 0.4431, 0.1216, 0.1922, 0.8392, 0.9922,\n",
              "        0.9922, 0.4039, 0.0000, 0.0000, 0.0000, 0.0000, 0.0000, 0.0000, 0.0000, 0.0000, 0.0000, 0.0000, 0.0000, 0.0000, 0.0000, 0.0000, 0.0000, 0.0000, 0.9294, 0.9922, 0.7216, 0.1333, 0.0275, 0.0000,\n",
              "        0.6275, 0.9059, 0.9922, 0.9451, 0.4157, 0.0157, 0.0000, 0.0000, 0.0000, 0.0000, 0.0000, 0.0000, 0.0000, 0.0000, 0.0000, 0.0000, 0.0000, 0.0000, 0.0000, 0.0000, 0.0000, 0.0000, 0.9294, 0.7216,\n",
              "        0.0706, 0.0000, 0.0510, 0.4863, 0.8510, 0.9922, 0.9922, 0.3843, 0.0000, 0.0000, 0.0000, 0.0000, 0.0000, 0.0000, 0.0000, 0.0000, 0.0000, 0.0000, 0.0000, 0.0000, 0.0000, 0.0000, 0.0000, 0.0000,\n",
              "        0.0000, 0.0000, 0.1882, 0.0902, 0.0000, 0.0510, 0.6745, 0.9922, 0.9922, 0.9922, 0.9922, 0.6039, 0.1059, 0.0118, 0.0000, 0.0000, 0.0000, 0.0000, 0.0000, 0.0000, 0.0000, 0.0000, 0.0000, 0.0000,\n",
              "        0.0000, 0.0000, 0.0000, 0.0000, 0.0000, 0.0000, 0.0000, 0.0000, 0.0745, 0.6941, 0.9922, 0.9922, 0.9922, 0.9922, 0.9922, 0.9922, 0.9922, 0.4706, 0.2000, 0.0000, 0.0000, 0.0000, 0.0000, 0.0000,\n",
              "        0.0000, 0.0000, 0.0000, 0.0000, 0.0000, 0.0000, 0.0000, 0.0000, 0.0000, 0.0000, 0.0000, 0.0000, 0.0471, 0.6196, 0.9922, 0.9765, 0.9569, 0.9686, 0.9686, 0.9882, 0.9922, 0.9922, 0.4941, 0.0314,\n",
              "        0.0000, 0.0000, 0.0000, 0.0000, 0.0000, 0.0000, 0.0000, 0.0000, 0.0000, 0.0000, 0.0000, 0.0000, 0.0000, 0.0000, 0.0000, 0.0000, 0.0000, 0.3176, 0.6471, 0.3804, 0.0000, 0.2275, 0.2235, 0.6275,\n",
              "        0.8510, 0.9922, 0.9922, 0.8549, 0.0000, 0.0000, 0.0000, 0.0000, 0.0000, 0.0000, 0.0000, 0.0000, 0.0000, 0.0000, 0.0000, 0.0000, 0.0000, 0.0000, 0.0000, 0.0000, 0.0000, 0.0000, 0.0000, 0.0000,\n",
              "        0.0000, 0.0000, 0.0000, 0.0000, 0.2000, 0.9255, 0.9922, 0.9451, 0.3608, 0.0000, 0.0000, 0.0000, 0.0000, 0.0000, 0.0000, 0.0000, 0.0000, 0.0000, 0.0000, 0.0000, 0.0000, 0.0000, 0.0000, 0.0000,\n",
              "        0.0000, 0.0000, 0.0000, 0.0000, 0.0000, 0.0000, 0.0000, 0.0000, 0.0000, 0.2275, 0.9922, 0.9922, 0.5412, 0.0000, 0.0000, 0.0000, 0.0000, 0.0000, 0.0000, 0.0000, 0.0000, 0.0000, 0.0000, 0.0000,\n",
              "        0.0000, 0.0000, 0.0000, 0.0000, 0.0000, 0.0000, 0.0000, 0.0000, 0.0000, 0.0000, 0.0000, 0.0000, 0.0000, 0.0863, 0.7098, 0.9922, 0.5412, 0.0000, 0.0000, 0.0000, 0.0000, 0.0000, 0.0000, 0.0000,\n",
              "        0.0000, 0.0000, 0.0000, 0.0000, 0.0000, 0.0000, 0.0000, 0.0000, 0.0000, 0.0000, 0.0000, 0.0000, 0.0000, 0.0000, 0.0000, 0.0000, 0.0000, 0.0000, 0.5137, 0.9922, 0.6353, 0.0510, 0.0000, 0.0000,\n",
              "        0.0000, 0.0000, 0.0000, 0.0000, 0.0000, 0.0000, 0.0000, 0.0000, 0.0000, 0.0000, 0.0000, 0.0000, 0.0000, 0.2549, 0.1059, 0.0000, 0.0000, 0.0000, 0.0000, 0.0000, 0.0000, 0.0000, 0.5137, 0.9922,\n",
              "        0.7569, 0.1137, 0.0000, 0.0000, 0.0000, 0.0000, 0.0000, 0.0000, 0.0000, 0.0000, 0.0000, 0.0000, 0.0000, 0.0000, 0.0000, 0.0000, 0.0000, 0.4863, 0.7882, 0.1412, 0.0392, 0.0000, 0.0000, 0.0000,\n",
              "        0.0000, 0.2706, 0.9137, 0.9922, 0.5412, 0.0000, 0.0000, 0.0000, 0.0000, 0.0000, 0.0000, 0.0000, 0.0000, 0.0000, 0.0000, 0.0000, 0.0000, 0.0000, 0.0000, 0.0000, 0.0000, 0.2667, 0.9020, 0.9922,\n",
              "        0.5922, 0.4510, 0.4510, 0.4510, 0.4510, 0.9373, 0.9922, 0.9922, 0.5412, 0.0000, 0.0000, 0.0000, 0.0000, 0.0000, 0.0000, 0.0000, 0.0000, 0.0000, 0.0000, 0.0000, 0.0000, 0.0000, 0.0000, 0.0000,\n",
              "        0.0000, 0.0000, 0.7373, 0.9490, 0.9922, 0.9922, 0.9922, 0.9922, 0.9922, 0.9922, 0.9922, 0.8863, 0.1294, 0.0000, 0.0000, 0.0000, 0.0000, 0.0000, 0.0000, 0.0000, 0.0000, 0.0000, 0.0000, 0.0000,\n",
              "        0.0000, 0.0000, 0.0000, 0.0000, 0.0000, 0.0000, 0.0000, 0.2588, 0.8902, 0.9922, 0.9922, 0.9922, 0.9922, 0.9922, 0.7922, 0.5255, 0.0000, 0.0000, 0.0000, 0.0000, 0.0000, 0.0000, 0.0000, 0.0000,\n",
              "        0.0000, 0.0000, 0.0000, 0.0000, 0.0000, 0.0000, 0.0000, 0.0000, 0.0000, 0.0000, 0.0000, 0.0000, 0.2235, 0.5412, 0.9922, 0.9922, 0.9922, 0.8471, 0.1490, 0.0000, 0.0000, 0.0000, 0.0000, 0.0000,\n",
              "        0.0000, 0.0000, 0.0000, 0.0000, 0.0000, 0.0000, 0.0000, 0.0000, 0.0000, 0.0000, 0.0000, 0.0000, 0.0000, 0.0000, 0.0000, 0.0000, 0.0000, 0.0000, 0.0000, 0.0000, 0.0000, 0.0000, 0.0000, 0.0000,\n",
              "        0.0000, 0.0000, 0.0000, 0.0000, 0.0000, 0.0000, 0.0000, 0.0000, 0.0000, 0.0000, 0.0000, 0.0000, 0.0000, 0.0000, 0.0000, 0.0000, 0.0000, 0.0000, 0.0000, 0.0000, 0.0000, 0.0000, 0.0000, 0.0000,\n",
              "        0.0000, 0.0000, 0.0000, 0.0000, 0.0000, 0.0000, 0.0000, 0.0000, 0.0000, 0.0000, 0.0000, 0.0000, 0.0000, 0.0000, 0.0000, 0.0000, 0.0000, 0.0000, 0.0000, 0.0000, 0.0000, 0.0000, 0.0000, 0.0000,\n",
              "        0.0000, 0.0000, 0.0000, 0.0000, 0.0000, 0.0000, 0.0000, 0.0000, 0.0000, 0.0000, 0.0000, 0.0000, 0.0000, 0.0000, 0.0000, 0.0000])"
            ]
          },
          "metadata": {},
          "execution_count": 74
        }
      ]
    },
    {
      "cell_type": "markdown",
      "source": [
        "We need labels for our images, so we use 1 for 3, and 0 for 7"
      ],
      "metadata": {
        "id": "Ebwu7PyX_0b3"
      }
    },
    {
      "cell_type": "code",
      "source": [
        "train_y = tensor([1]*len(threes) + [0]*len(sevens)).unsqueeze(1)\n",
        "train_x.shape,train_y.shape"
      ],
      "metadata": {
        "id": "YQC3wkSe_fdP",
        "colab": {
          "base_uri": "https://localhost:8080/"
        },
        "outputId": "5fb06cab-a7e9-4142-aed4-83386f323e37"
      },
      "execution_count": 75,
      "outputs": [
        {
          "output_type": "execute_result",
          "data": {
            "text/plain": [
              "(torch.Size([12396, 784]), torch.Size([12396, 1]))"
            ]
          },
          "metadata": {},
          "execution_count": 75
        }
      ]
    },
    {
      "cell_type": "markdown",
      "source": [
        "so we have an ordered list of labeling all threes with 1, and all 7s with 0, and the length of this matrix is the amount of all 3s and 7s images.\n",
        "\n",
        "Suppose train_x denoted above, which has 6000ish 'three' images and 6000 'seven' images concatenated to one matrix, then train_y will be 12000 units long (first 6000 elements will be 1s (threes), and the second 6000 will be 0s.)\n",
        "\n"
      ],
      "metadata": {
        "id": "67oWBuTLAFMY"
      }
    },
    {
      "cell_type": "code",
      "source": [
        "print(train_y)\n",
        "print(train_y.shape)"
      ],
      "metadata": {
        "id": "VyUh-tZeBuzX",
        "colab": {
          "base_uri": "https://localhost:8080/"
        },
        "outputId": "6076d1fb-ee25-44d3-bfcd-4db07bbc4e70"
      },
      "execution_count": 76,
      "outputs": [
        {
          "output_type": "stream",
          "name": "stdout",
          "text": [
            "tensor([[1],\n",
            "        [1],\n",
            "        [1],\n",
            "        ...,\n",
            "        [0],\n",
            "        [0],\n",
            "        [0]])\n",
            "torch.Size([12396, 1])\n"
          ]
        }
      ]
    },
    {
      "cell_type": "markdown",
      "source": [
        "A Dataset in PyTorch is required to return a tuple of (x,y) when indexed. Python provides a zip function which, when combined with list, provides a simple way to get this functionality:"
      ],
      "metadata": {
        "id": "9bHWwKQSB0Eo"
      }
    },
    {
      "cell_type": "code",
      "source": [
        "dset = list(zip(train_x,train_y))\n",
        "x,y = dset[0]\n",
        "x.shape,y"
      ],
      "metadata": {
        "id": "Sa3urFfiBzBX",
        "colab": {
          "base_uri": "https://localhost:8080/"
        },
        "outputId": "b45ddcba-6803-468a-b80a-521e8088bd8a"
      },
      "execution_count": 77,
      "outputs": [
        {
          "output_type": "execute_result",
          "data": {
            "text/plain": [
              "(torch.Size([784]), tensor([1]))"
            ]
          },
          "metadata": {},
          "execution_count": 77
        }
      ]
    },
    {
      "cell_type": "markdown",
      "source": [
        "here we combined the true label with each image.\n",
        "\n",
        "Below is just all of the previous steps put together to see visually"
      ],
      "metadata": {
        "id": "jOhRkjPSEPVr"
      }
    },
    {
      "cell_type": "code",
      "source": [
        "valid_x = torch.cat([stacked_threes, stacked_sevens]).view(-1, 28*28)\n",
        "valid_y = tensor([1]*len(valid_3_stack) + [0]*len(valid_7_stack)).unsqueeze(1)\n",
        "valid_dset = list(zip(valid_x,valid_y))"
      ],
      "metadata": {
        "id": "KhShrg1EEW6Y"
      },
      "execution_count": 78,
      "outputs": []
    },
    {
      "cell_type": "markdown",
      "source": [
        "Now we need an (initially random) weight for every pixel\n",
        "\n",
        "1.   List item\n",
        "2.   List item\n",
        "\n",
        "(this is the *initialize* step in our seven-step process):"
      ],
      "metadata": {
        "id": "jHRshjTuFjnT"
      }
    },
    {
      "cell_type": "code",
      "source": [
        "def init_params(size, std=1.0): return (torch.randn(size)*std).requires_grad_()"
      ],
      "metadata": {
        "id": "HtvA4v5mFkrB"
      },
      "execution_count": 79,
      "outputs": []
    },
    {
      "cell_type": "code",
      "source": [
        "weights = init_params((28*28,1))"
      ],
      "metadata": {
        "id": "2WY9dEJZF6Cx"
      },
      "execution_count": 80,
      "outputs": []
    },
    {
      "cell_type": "markdown",
      "source": [
        "The function weights x pixels won't be flexible enough—it is always equal to 0 when the pixels are equal to 0 (i.e., its intercept is 0). You might remember from high school math that the formula for a line is y=w*x+b; we still need the b. We'll initialize it to a random number too:"
      ],
      "metadata": {
        "id": "IaZUqwJsJAjs"
      }
    },
    {
      "cell_type": "code",
      "source": [
        "bias = init_params(1)\n",
        "bias"
      ],
      "metadata": {
        "id": "eWLLHrXAJB9V",
        "colab": {
          "base_uri": "https://localhost:8080/"
        },
        "outputId": "832f4f9d-2cce-4531-841c-d42449a570af"
      },
      "execution_count": 81,
      "outputs": [
        {
          "output_type": "execute_result",
          "data": {
            "text/plain": [
              "tensor([0.6863], requires_grad=True)"
            ]
          },
          "metadata": {},
          "execution_count": 81
        }
      ]
    },
    {
      "cell_type": "markdown",
      "source": [
        "Now we can calculate the prediction for one image"
      ],
      "metadata": {
        "id": "qwxXHMXdJX-L"
      }
    },
    {
      "cell_type": "code",
      "source": [
        "(train_x[0]*weights.T).sum() + bias"
      ],
      "metadata": {
        "id": "jueHCUU4JbWL",
        "colab": {
          "base_uri": "https://localhost:8080/"
        },
        "outputId": "8fd612ba-c09d-4920-9e69-cdadcec4e394"
      },
      "execution_count": 82,
      "outputs": [
        {
          "output_type": "execute_result",
          "data": {
            "text/plain": [
              "tensor([7.9347], grad_fn=<AddBackward0>)"
            ]
          },
          "metadata": {},
          "execution_count": 82
        }
      ]
    },
    {
      "cell_type": "markdown",
      "source": [
        "While we could use a Python for loop to calculate the prediction for each image, that would be very slow. Because Python loops don't run on the GPU, and because Python is a slow language for loops in general, we need to represent as much of the computation in a model as possible using higher-level functions.\n",
        "\n",
        "In this case, there's an extremely convenient mathematical operation that calculates w*x for every row of a matrix—it's called matrix multiplication.\n",
        "\n",
        "In Python, matrix multiplication is represented with the @ operator. Let's try it:"
      ],
      "metadata": {
        "id": "SGHU_TONJf0z"
      }
    },
    {
      "cell_type": "code",
      "source": [
        "def linear1(xb): return xb@weights + bias\n",
        "\n",
        "preds = linear1(train_x)\n",
        "preds"
      ],
      "metadata": {
        "id": "HFdVL8rRJr0Z",
        "colab": {
          "base_uri": "https://localhost:8080/"
        },
        "outputId": "544ee8d5-7487-4225-ef35-7dc1a6ff563b"
      },
      "execution_count": 83,
      "outputs": [
        {
          "output_type": "execute_result",
          "data": {
            "text/plain": [
              "tensor([[ 7.9347],\n",
              "        [23.3466],\n",
              "        [18.9617],\n",
              "        ...,\n",
              "        [30.0539],\n",
              "        [24.6363],\n",
              "        [ 9.9163]], grad_fn=<AddBackward0>)"
            ]
          },
          "metadata": {},
          "execution_count": 83
        }
      ]
    },
    {
      "cell_type": "markdown",
      "source": [
        "This is just the first pass. We will tune the weights.\n",
        "\n",
        "\n",
        "Let's check our accuracy. To decide if an output represents a 3 or a 7, we can just check whether it's greater than 0.0, so our accuracy for each item can be calculated (using broadcasting, so no loops!) with:\n",
        "\n",
        "\n",
        "\n"
      ],
      "metadata": {
        "id": "a2fejx5kOhJ_"
      }
    },
    {
      "cell_type": "code",
      "source": [
        "corrects = (preds>0.0).float() == train_y\n"
      ],
      "metadata": {
        "id": "j-3-2Zl2OnV0"
      },
      "execution_count": 84,
      "outputs": []
    },
    {
      "cell_type": "code",
      "source": [
        "corrects.float().mean().item()"
      ],
      "metadata": {
        "id": "I5-IoxPqPvjD",
        "colab": {
          "base_uri": "https://localhost:8080/"
        },
        "outputId": "b21c302b-c5e1-4378-c5da-b3a799356676"
      },
      "execution_count": 85,
      "outputs": [
        {
          "output_type": "execute_result",
          "data": {
            "text/plain": [
              "0.4912068545818329"
            ]
          },
          "metadata": {},
          "execution_count": 85
        }
      ]
    },
    {
      "cell_type": "markdown",
      "source": [
        "Now let's see what the change in accuracy is for a small change in one of the weights (note that we have to ask PyTorch not to calculate gradients as we do this, which is what with torch.no_grad() is doing here):"
      ],
      "metadata": {
        "id": "nBo2wDRsQfIF"
      }
    },
    {
      "cell_type": "code",
      "source": [
        "with torch.no_grad(): weights[0] *= 1.0001"
      ],
      "metadata": {
        "id": "9A2swrOLQfua"
      },
      "execution_count": 86,
      "outputs": []
    },
    {
      "cell_type": "code",
      "source": [
        "preds = linear1(train_x)\n",
        "((preds>0.0).float() == train_y).float().mean().item()"
      ],
      "metadata": {
        "id": "KAYoylYMQjkQ",
        "colab": {
          "base_uri": "https://localhost:8080/"
        },
        "outputId": "4882d71a-5c0a-43ac-e9f2-1fefea1a20f6"
      },
      "execution_count": 87,
      "outputs": [
        {
          "output_type": "execute_result",
          "data": {
            "text/plain": [
              "0.4912068545818329"
            ]
          },
          "metadata": {},
          "execution_count": 87
        }
      ]
    },
    {
      "cell_type": "markdown",
      "source": [
        "As you see, we need gradients to determine which direction we go to ultimately reach the smallest loss.\n",
        "\n",
        "- we need to choose a loss function. The obvious approach would be to use accuracy, which is our metric, as our loss function as well. In this case, we would calculate our prediction for each image, collect these values to calculate an overall accuracy, and then calculate the gradients of each weight with respect to that overall accuracy.\n",
        "\n",
        "- Unfortunately, we have a significant technical problem here. The gradient of a function is its slope, or its steepness, which can be defined as rise over run—that is, how much the value of the function goes up or down, divided by how much we changed the input. We can write this in mathematically as: (y_new - y_old) / (x_new - x_old).\n",
        "\n",
        "    - y_old is the loss (or metric like accuracy) calculated from the predictions generated by your model using the current weights and biases (x_old).\n",
        "\n",
        "    - x_old are the current values of your model's parameters (weights and biases).\n",
        "\n",
        "    - x_new are the new values of your model's parameters after a small step has been applied.\n",
        "\n",
        "    - y_new is the loss (or metric) calculated from the predictions generated by your model using these new parameters (x_new).\n",
        "\n",
        "- since we defined earlier positive means 3, and negative means 7, if our loss gradient is y_new - y_old / x_new - x_old, and our accuracy is (y_new - y_old / x_new - x_old) > 0 == valid y, accuracy is binary either 1 or 0.\n",
        "\n",
        "For small changes in the weights (the x values in the gradient formula), the accuracy  often doesn't change because the prediction (y value in the gradient formula) is still on the same side of the threshold (0 in this case).\n",
        "\n",
        "This inability to provide a useful gradient for most changes in the weights is what makes accuracy a poor choice as a loss function when training models via methods like stochastic gradient descent.\n",
        "\n",
        "Instead, we need a loss function which, when our weights result in slightly better predictions, gives us a slightly better loss. So what does a \"slightly better prediction\" look like, exactly? Well, in this case, it means that if the correct answer is a 3 the score is a little higher, or if the correct answer is a 7 the score is a little lower.\n",
        "\n",
        "Let's write such a function now. What form does it take?\n",
        "\n",
        "- The loss function receives not the images themselves, but the predictions from the model. Let's make one argument, prds, of values between 0 and 1, where each value is the prediction that an image is a 3. It is a vector (i.e., a rank-1 tensor), indexed over the images.\n",
        "\n",
        "- The purpose of the loss function is to measure the difference between predicted values and the true values — that is, the targets (aka labels). Let's make another argument, trgts, with values of 0 or 1 which tells whether an image actually is a 3 or not. It is also a vector (i.e., another rank-1 tensor), indexed over the images."
      ],
      "metadata": {
        "id": "3kf2vjnpk4eo"
      }
    },
    {
      "cell_type": "code",
      "source": [
        "def mnist_loss(predictions, targets):\n",
        "    return torch.where(targets==1, 1-predictions, predictions).mean()"
      ],
      "metadata": {
        "id": "mvdDsgsdtyFA"
      },
      "execution_count": 88,
      "outputs": []
    },
    {
      "cell_type": "markdown",
      "source": [
        "Here we define a loss function that takes a sum of differences between the predicion and the label. However our predictions are negative and positive numbers...\n",
        "\n",
        "The sigmoid function always outputs a number between 0 and 1. It's defined as follows:\n",
        "\n",
        "1. `def sigmoid(x): return 1/(1+torch.exp(-x))`\n",
        "\n",
        "Pytorch defines an accelerated version for us, so we don’t really need our own. This is an important function in deep learning, since we often want to ensure values are between 0 and 1.\n"
      ],
      "metadata": {
        "id": "EbKU1QMmud9j"
      }
    },
    {
      "cell_type": "code",
      "source": [
        "plot_function(torch.sigmoid, title='Sigmoid', min=-4, max=4)"
      ],
      "metadata": {
        "id": "0m1AHKOT0fIi",
        "colab": {
          "base_uri": "https://localhost:8080/",
          "height": 0
        },
        "outputId": "484c5936-36db-4c09-a53a-9083144e82c6"
      },
      "execution_count": 89,
      "outputs": [
        {
          "output_type": "display_data",
          "data": {
            "text/plain": [
              "<Figure size 600x400 with 1 Axes>"
            ],
            "image/png": "[encoded data removed]"
          },
          "metadata": {}
        }
      ]
    },
    {
      "cell_type": "markdown",
      "source": [
        "As you can see, it takes any input value, positive or negative, and smooshes it onto an output value between 0 and 1. It's also a smooth curve that only goes up, which makes it easier for SGD to find meaningful gradients.\n",
        "\n",
        "Let's update mnist_loss to first apply sigmoid to the inputs:"
      ],
      "metadata": {
        "id": "dewG09zX0VP9"
      }
    },
    {
      "cell_type": "code",
      "source": [
        "def mnist_loss(predictions, targets):\n",
        "    predictions = predictions.sigmoid()\n",
        "    return torch.where(targets==1, 1-predictions, predictions).mean()"
      ],
      "metadata": {
        "id": "B0E8Vqp10Rdf"
      },
      "execution_count": 90,
      "outputs": []
    },
    {
      "cell_type": "markdown",
      "source": [
        "Now we can be confident our loss function will work, even if the predictions are not between 0 and 1. All that is required is that a higher prediction corresponds to higher confidence an image is a 3.\n",
        "\n",
        "\n"
      ],
      "metadata": {
        "id": "KJ-pZv5g1AVD"
      }
    },
    {
      "cell_type": "markdown",
      "source": [
        "#Minibatching\n",
        "\n",
        "Rather than using the whole dataset or a single data item to calculate the loss, which could be computationally expensive or yield imprecise gradients respectively, a compromise is employed: the loss is computed over a small subset of data, known as a mini-batch.\n",
        "\n",
        "The size of the mini-batch, or batch size, influences the accuracy of the gradient estimate and computational efficiency. A larger batch size offers a more accurate gradient but takes longer to process, and the memory constraints of accelerators such as GPUs must be considered.\n",
        "\n",
        "Moreover, to improve model generalization, the selection of data items for each mini-batch is varied, typically by shuffling the dataset every epoch before creating mini-batches. This entire process is facilitated by utilities such as PyTorch's and fastai's DataLoader."
      ],
      "metadata": {
        "id": "ydKERbso_olv"
      }
    },
    {
      "cell_type": "code",
      "source": [
        "ds = L(enumerate(string.ascii_lowercase))\n",
        "ds"
      ],
      "metadata": {
        "id": "qUjFYTaL1DuM",
        "colab": {
          "base_uri": "https://localhost:8080/"
        },
        "outputId": "22365f95-b173-401b-c796-b05bb252071e"
      },
      "execution_count": 91,
      "outputs": [
        {
          "output_type": "execute_result",
          "data": {
            "text/plain": [
              "(#26) [(0, 'a'),(1, 'b'),(2, 'c'),(3, 'd'),(4, 'e'),(5, 'f'),(6, 'g'),(7, 'h'),(8, 'i'),(9, 'j')...]"
            ]
          },
          "metadata": {},
          "execution_count": 91
        }
      ]
    },
    {
      "cell_type": "code",
      "source": [
        "dl = DataLoader(ds, batch_size=6, shuffle=True)\n",
        "list(dl)"
      ],
      "metadata": {
        "id": "_B1257kq_7YV",
        "colab": {
          "base_uri": "https://localhost:8080/"
        },
        "outputId": "5b315978-b1da-4c87-a704-8a05e008e951"
      },
      "execution_count": 92,
      "outputs": [
        {
          "output_type": "execute_result",
          "data": {
            "text/plain": [
              "[(tensor([ 7, 24, 17, 21,  5, 19]), ('h', 'y', 'r', 'v', 'f', 't')),\n",
              " (tensor([ 9, 15, 14,  4, 16,  0]), ('j', 'p', 'o', 'e', 'q', 'a')),\n",
              " (tensor([22, 13, 25,  3,  2, 11]), ('w', 'n', 'z', 'd', 'c', 'l')),\n",
              " (tensor([12, 23,  1, 10,  8, 20]), ('m', 'x', 'b', 'k', 'i', 'u')),\n",
              " (tensor([18,  6]), ('s', 'g'))]"
            ]
          },
          "metadata": {},
          "execution_count": 92
        }
      ]
    },
    {
      "cell_type": "markdown",
      "source": [
        "# Putting it all together, digit classifier"
      ],
      "metadata": {
        "id": "Z0YQKBPXABLe"
      }
    },
    {
      "cell_type": "markdown",
      "source": [
        "We are now ready to write our first training loop for a model using SGD!\n"
      ],
      "metadata": {
        "id": "zqyVAM7Z_-x8"
      }
    },
    {
      "cell_type": "markdown",
      "source": [
        "For each epoch we will be effectively:\n",
        "\n",
        "```\n",
        "for x,y in dl:\n",
        "    pred = model(x)\n",
        "    loss = loss_func(pred, y)\n",
        "    loss.backward()\n",
        "    parameters -= parameters.grad * lr\n",
        "    \n",
        "```"
      ],
      "metadata": {
        "id": "ma1ZbfyYIQsz"
      }
    },
    {
      "cell_type": "markdown",
      "source": [
        "first lets reinitialize our params"
      ],
      "metadata": {
        "id": "bheu4xKtIpwG"
      }
    },
    {
      "cell_type": "code",
      "source": [
        "def init_params(size, std=1.0): return (torch.randn(size)*std).requires_grad_()\n",
        "\n",
        "weights = init_params((28*28,1))\n",
        "bias = init_params(1)\n",
        "\n",
        "weights[0]"
      ],
      "metadata": {
        "colab": {
          "base_uri": "https://localhost:8080/"
        },
        "id": "TQT-m30V__Tr",
        "outputId": "b1841b4a-fa5a-495d-bb29-98577137b9a9"
      },
      "execution_count": 93,
      "outputs": [
        {
          "output_type": "execute_result",
          "data": {
            "text/plain": [
              "tensor([-1.4020], grad_fn=<SelectBackward0>)"
            ]
          },
          "metadata": {},
          "execution_count": 93
        }
      ]
    },
    {
      "cell_type": "markdown",
      "source": [
        "A `DataLoader` can be created from a `Dataset`:"
      ],
      "metadata": {
        "id": "I4SYFU2rI65h"
      }
    },
    {
      "cell_type": "code",
      "source": [
        "train_x = torch.cat([stacked_threes, stacked_sevens]).view(-1, 28*28)\n",
        "train_y = tensor([1]*len(threes) + [0]*len(sevens)).unsqueeze(1)\n",
        "dset = list(zip(train_x,train_y))\n",
        "\n",
        "dl = DataLoader(dset, batch_size=256)\n",
        "xb,yb = first(dl)\n",
        "xb.shape,yb.shape"
      ],
      "metadata": {
        "id": "yr6p0B0_I8VE",
        "colab": {
          "base_uri": "https://localhost:8080/"
        },
        "outputId": "9ebbc2bf-9eaa-4ea4-915b-7037ea30a76b"
      },
      "execution_count": 94,
      "outputs": [
        {
          "output_type": "execute_result",
          "data": {
            "text/plain": [
              "(torch.Size([256, 784]), torch.Size([256, 1]))"
            ]
          },
          "metadata": {},
          "execution_count": 94
        }
      ]
    },
    {
      "cell_type": "markdown",
      "source": [
        "we will do the same for valid dset"
      ],
      "metadata": {
        "id": "tStEF-3dJ8BY"
      }
    },
    {
      "cell_type": "code",
      "source": [
        "valid_x = torch.cat([valid_3_stack, valid_7_stack]).view(-1, 28*28)\n",
        "valid_y = tensor([1]*len(valid_3_stack) + [0]*len(valid_7_stack)).unsqueeze(1)\n",
        "valid_dset = list(zip(valid_x,valid_y))\n",
        "\n",
        "valid_dl = DataLoader(valid_dset, batch_size=256)"
      ],
      "metadata": {
        "id": "-qPeVw_aAGPg"
      },
      "execution_count": 95,
      "outputs": []
    },
    {
      "cell_type": "code",
      "source": [
        "len(valid_dset)"
      ],
      "metadata": {
        "colab": {
          "base_uri": "https://localhost:8080/"
        },
        "id": "TGWbDO0-gZ59",
        "outputId": "2c6049c3-f556-4d63-b378-5e0104fdf052"
      },
      "execution_count": 96,
      "outputs": [
        {
          "output_type": "execute_result",
          "data": {
            "text/plain": [
              "2038"
            ]
          },
          "metadata": {},
          "execution_count": 96
        }
      ]
    },
    {
      "cell_type": "markdown",
      "source": [
        "**Let**'s create a mini-batch of size 4 for testing:"
      ],
      "metadata": {
        "id": "E3W7Nj0SKbl9"
      }
    },
    {
      "cell_type": "code",
      "source": [
        "batch = train_x[:4]\n",
        "batch.shape"
      ],
      "metadata": {
        "colab": {
          "base_uri": "https://localhost:8080/"
        },
        "id": "BZ46UnBEKXG2",
        "outputId": "e94c2710-ff69-4928-96d6-4c1542f06f9f"
      },
      "execution_count": 97,
      "outputs": [
        {
          "output_type": "execute_result",
          "data": {
            "text/plain": [
              "torch.Size([4, 784])"
            ]
          },
          "metadata": {},
          "execution_count": 97
        }
      ]
    },
    {
      "cell_type": "code",
      "source": [
        "def linear1(xb): return xb@weights + bias"
      ],
      "metadata": {
        "id": "ZlyYqwn30JEz"
      },
      "execution_count": 98,
      "outputs": []
    },
    {
      "cell_type": "code",
      "source": [
        "prediction = linear1(batch)\n",
        "prediction"
      ],
      "metadata": {
        "colab": {
          "base_uri": "https://localhost:8080/"
        },
        "id": "korU-sNC0qiV",
        "outputId": "b08916f8-27e3-49ef-f5c0-fdd62a1d5e45"
      },
      "execution_count": 99,
      "outputs": [
        {
          "output_type": "execute_result",
          "data": {
            "text/plain": [
              "tensor([[ -5.3285],\n",
              "        [-19.8220],\n",
              "        [-12.4695],\n",
              "        [-12.8993]], grad_fn=<AddBackward0>)"
            ]
          },
          "metadata": {},
          "execution_count": 99
        }
      ]
    },
    {
      "cell_type": "code",
      "source": [
        "def mnist_loss(predictions, targets):\n",
        "    predictions = predictions.sigmoid() #bound predictions between 0 and 1\n",
        "    return torch.where(targets==1, 1-predictions, predictions).mean()\n",
        "\n"
      ],
      "metadata": {
        "id": "k24V2aBA04mx"
      },
      "execution_count": 100,
      "outputs": []
    },
    {
      "cell_type": "code",
      "source": [
        "loss = mnist_loss(prediction,train_y[:4])\n",
        "loss"
      ],
      "metadata": {
        "colab": {
          "base_uri": "https://localhost:8080/"
        },
        "id": "B2EXKaXv4z3z",
        "outputId": "ea5168a4-a2c3-4e0f-d15a-dd42abfca68f"
      },
      "execution_count": 101,
      "outputs": [
        {
          "output_type": "execute_result",
          "data": {
            "text/plain": [
              "tensor(0.9988, grad_fn=<MeanBackward0>)"
            ]
          },
          "metadata": {},
          "execution_count": 101
        }
      ]
    },
    {
      "cell_type": "code",
      "source": [
        "loss.backward()\n",
        "weights.grad.shape,weights.grad.mean(),bias.grad"
      ],
      "metadata": {
        "colab": {
          "base_uri": "https://localhost:8080/"
        },
        "id": "udxnC2K-24Au",
        "outputId": "e56f922e-7938-4944-efbc-5d91438812ba"
      },
      "execution_count": 102,
      "outputs": [
        {
          "output_type": "execute_result",
          "data": {
            "text/plain": [
              "(torch.Size([784, 1]), tensor(-0.0001), tensor([-0.0012]))"
            ]
          },
          "metadata": {},
          "execution_count": 102
        }
      ]
    },
    {
      "cell_type": "markdown",
      "source": [
        "lets put this in a function..."
      ],
      "metadata": {
        "id": "tC1jDRx73Ad3"
      }
    },
    {
      "cell_type": "code",
      "source": [
        "def calc_grad(xb, yb, model):\n",
        "    preds = model(xb)\n",
        "    loss = mnist_loss(preds, yb)\n",
        "    loss.backward()"
      ],
      "metadata": {
        "id": "TccknLik3DZJ"
      },
      "execution_count": 103,
      "outputs": []
    },
    {
      "cell_type": "markdown",
      "source": [
        "and test..."
      ],
      "metadata": {
        "id": "dRA29AIg3NX8"
      }
    },
    {
      "cell_type": "code",
      "source": [
        "calc_grad(train_x[:4],train_y[:4],linear1)"
      ],
      "metadata": {
        "id": "hwXQLlOj3L1-"
      },
      "execution_count": 104,
      "outputs": []
    },
    {
      "cell_type": "code",
      "source": [
        "weights.grad.mean(),bias.grad"
      ],
      "metadata": {
        "colab": {
          "base_uri": "https://localhost:8080/"
        },
        "id": "Da25yrX13sCL",
        "outputId": "162c729e-d1e9-4b6b-cf53-7056b5f269ea"
      },
      "execution_count": 105,
      "outputs": [
        {
          "output_type": "execute_result",
          "data": {
            "text/plain": [
              "(tensor(-0.0003), tensor([-0.0024]))"
            ]
          },
          "metadata": {},
          "execution_count": 105
        }
      ]
    },
    {
      "cell_type": "markdown",
      "source": [
        "The gradients will change each time since the gradients are additive after each epoch, we need to initialize them to 0 each epoch"
      ],
      "metadata": {
        "id": "3XibjccL5g_r"
      }
    },
    {
      "cell_type": "code",
      "source": [
        "weights.grad.zero_()\n",
        "bias.grad.zero_();"
      ],
      "metadata": {
        "id": "T3DJMY8M5huS"
      },
      "execution_count": 106,
      "outputs": []
    },
    {
      "cell_type": "markdown",
      "source": [
        "Our only remaining step is to update the weights and biases based on the gradient and learning rate. When we do so, we have to tell PyTorch not to take the gradient of this step too—otherwise things will get very confusing when we try to compute the derivative at the next batch! If we assign to the `data` attribute of a tensor then PyTorch will not take the gradient of that step. Here's our basic training loop for an epoch:"
      ],
      "metadata": {
        "id": "QRLmWXvRImzr"
      }
    },
    {
      "cell_type": "code",
      "source": [
        "def train_epoch(model, lr, params):\n",
        "    for xb,yb in dl:\n",
        "        calc_grad(xb, yb, model)\n",
        "        for p in params:\n",
        "            p.data -= p.grad*lr\n",
        "            p.grad.zero_()"
      ],
      "metadata": {
        "id": "Oc4OFjv5InSF"
      },
      "execution_count": 107,
      "outputs": []
    },
    {
      "cell_type": "markdown",
      "source": [
        "We also want to check how we're doing, by looking at the accuracy of the validation set. To decide if an output represents a 3 or a 7, we can just check whether it's greater than 0. So our accuracy for each item can be calculated (using broadcasting, so no loops!) with:"
      ],
      "metadata": {
        "id": "oRTnCpncIqfl"
      }
    },
    {
      "cell_type": "code",
      "source": [
        "prediction"
      ],
      "metadata": {
        "colab": {
          "base_uri": "https://localhost:8080/"
        },
        "id": "0gamnzy9ItQa",
        "outputId": "967af581-1558-4bc9-c5b2-e4f6e5cc80f3"
      },
      "execution_count": 108,
      "outputs": [
        {
          "output_type": "execute_result",
          "data": {
            "text/plain": [
              "tensor([[ -5.3285],\n",
              "        [-19.8220],\n",
              "        [-12.4695],\n",
              "        [-12.8993]], grad_fn=<AddBackward0>)"
            ]
          },
          "metadata": {},
          "execution_count": 108
        }
      ]
    },
    {
      "cell_type": "code",
      "source": [
        "(prediction>0.0).float() == train_y[:4]"
      ],
      "metadata": {
        "colab": {
          "base_uri": "https://localhost:8080/"
        },
        "id": "wVd4szhUI7Ja",
        "outputId": "b0e9711f-162a-4f03-894a-b0fce8ef356e"
      },
      "execution_count": 109,
      "outputs": [
        {
          "output_type": "execute_result",
          "data": {
            "text/plain": [
              "tensor([[False],\n",
              "        [False],\n",
              "        [False],\n",
              "        [False]])"
            ]
          },
          "metadata": {},
          "execution_count": 109
        }
      ]
    },
    {
      "cell_type": "markdown",
      "source": [
        "This gives us something to calculate accuracy, positive is 3, negative is 7, put it through a sigmoid and our midpoint becomes 0.5"
      ],
      "metadata": {
        "id": "1wlqKMYzI_EJ"
      }
    },
    {
      "cell_type": "code",
      "source": [
        "def batch_accuracy(xb, yb):\n",
        "    preds = xb.sigmoid()\n",
        "    correct = (preds>0.5) == yb\n",
        "    return correct.float().mean()"
      ],
      "metadata": {
        "id": "Mtzm4J4hJFUT"
      },
      "execution_count": 110,
      "outputs": []
    },
    {
      "cell_type": "markdown",
      "source": [
        "check if it works"
      ],
      "metadata": {
        "id": "mFoD39NkJI68"
      }
    },
    {
      "cell_type": "code",
      "source": [
        "batch_accuracy(linear1(batch), train_y[:4])"
      ],
      "metadata": {
        "colab": {
          "base_uri": "https://localhost:8080/"
        },
        "id": "xfFRV57rJHaA",
        "outputId": "f8bb6460-9dfd-4776-d50b-67fd0b36fe45"
      },
      "execution_count": 111,
      "outputs": [
        {
          "output_type": "execute_result",
          "data": {
            "text/plain": [
              "tensor(0.)"
            ]
          },
          "metadata": {},
          "execution_count": 111
        }
      ]
    },
    {
      "cell_type": "markdown",
      "source": [
        "we are completely false in our prediction so this makes sense, lets improve this.\n",
        "\n",
        "lets now make a validate epoch function\n"
      ],
      "metadata": {
        "id": "qvKV8GyxJPkq"
      }
    },
    {
      "cell_type": "code",
      "source": [
        "def validate_epoch(model):\n",
        "    accs = [batch_accuracy(model(xb), yb) for xb,yb in valid_dl]\n",
        "    return round(torch.stack(accs).mean().item(), 4)\n",
        "\n",
        "validate_epoch(linear1)"
      ],
      "metadata": {
        "colab": {
          "base_uri": "https://localhost:8080/"
        },
        "id": "rfmKecPhJbrZ",
        "outputId": "e94e5d0a-0438-4db1-bc76-4c7f596a94bd"
      },
      "execution_count": 112,
      "outputs": [
        {
          "output_type": "execute_result",
          "data": {
            "text/plain": [
              "0.2875"
            ]
          },
          "metadata": {},
          "execution_count": 112
        }
      ]
    },
    {
      "cell_type": "markdown",
      "source": [
        "thats our accuracy over all the mini batches in dataloader, lets start improving this, since this is a 30% accuracy our first starting point"
      ],
      "metadata": {
        "id": "5LBrJZZCJtkT"
      }
    },
    {
      "cell_type": "code",
      "source": [
        "lr = 1.\n",
        "params = weights,bias\n",
        "train_epoch(linear1, lr, params)\n",
        "validate_epoch(linear1)"
      ],
      "metadata": {
        "colab": {
          "base_uri": "https://localhost:8080/"
        },
        "id": "I9mYQk3EJ2Eb",
        "outputId": "fbf0e286-1c05-45d3-fd84-6adeacfaed48"
      },
      "execution_count": 113,
      "outputs": [
        {
          "output_type": "execute_result",
          "data": {
            "text/plain": [
              "0.5563"
            ]
          },
          "metadata": {},
          "execution_count": 113
        }
      ]
    },
    {
      "cell_type": "markdown",
      "source": [
        "and a few more..."
      ],
      "metadata": {
        "id": "kOpcmlXdKA1P"
      }
    },
    {
      "cell_type": "code",
      "source": [
        "for i in range(10):\n",
        "    train_epoch(linear1, lr, params)\n",
        "    print(validate_epoch(linear1), end=' ')"
      ],
      "metadata": {
        "colab": {
          "base_uri": "https://localhost:8080/"
        },
        "id": "8-BR_DPTKDNl",
        "outputId": "a11745f1-5000-4f9c-da50-96ac1dafda12"
      },
      "execution_count": 114,
      "outputs": [
        {
          "output_type": "stream",
          "name": "stdout",
          "text": [
            "0.6591 0.8437 0.9081 0.9335 0.9443 0.953 0.9574 0.9633 0.9653 0.9667 "
          ]
        }
      ]
    },
    {
      "cell_type": "markdown",
      "source": [
        "# Creating an optimizer\n",
        "## using pre-built classes\n",
        "\n",
        "we will use ** nn.Linear** which does the same thing as our init_params and linear1 (xb@w + bias) together.\n",
        "\n",
        "- It contains both the weights and biases in a single class. Here's how we replicate our model from the previous section:"
      ],
      "metadata": {
        "id": "s0t8JL1rsXXc"
      }
    },
    {
      "cell_type": "code",
      "source": [
        "linear_model = nn.Linear(28*28,1)\n",
        "params = linear_model.parameters()\n",
        "lol = list(params)\n",
        "lol"
      ],
      "metadata": {
        "id": "tm1iMCQXszzi",
        "colab": {
          "base_uri": "https://localhost:8080/"
        },
        "outputId": "d29b220c-d121-4157-e17a-e39fcc38bdb5"
      },
      "execution_count": 115,
      "outputs": [
        {
          "output_type": "execute_result",
          "data": {
            "text/plain": [
              "[Parameter containing:\n",
              " tensor([[-2.4638e-02,  2.6699e-02,  5.8678e-03, -9.1850e-03, -1.8220e-02,  1.2362e-02, -2.1389e-02,  1.6938e-02,  1.9488e-02,  2.1922e-02,  9.3299e-03, -3.1263e-02,  2.5690e-02, -1.1079e-02,\n",
              "          -1.0558e-02, -3.8371e-03,  2.6112e-02,  2.7462e-02,  5.5147e-03,  1.7041e-02, -3.3286e-02,  8.4366e-05, -3.1596e-02,  1.2155e-02, -2.5445e-02, -1.2729e-02,  2.4965e-02,  3.4132e-02,\n",
              "          -2.1442e-02, -1.9822e-02,  4.4231e-03,  1.4039e-02, -5.8169e-03, -1.1153e-02, -2.3459e-02,  1.5246e-02,  3.4991e-02, -1.7289e-02,  1.6845e-02,  1.7443e-02,  2.8707e-02, -4.0662e-03,\n",
              "           1.1249e-03,  2.6239e-02,  2.2575e-02,  3.5275e-02, -1.0235e-02,  1.4132e-02,  2.4938e-02, -2.4243e-02,  7.0950e-03, -7.9912e-03,  2.2958e-02, -1.6040e-02,  2.5049e-03,  2.1368e-02,\n",
              "          -3.2718e-02, -3.0156e-02, -1.8292e-02,  2.2908e-02,  2.3947e-02, -2.4392e-02,  6.8103e-03, -1.8924e-02, -1.6577e-02,  3.0801e-02,  1.7250e-02, -9.7672e-03,  5.2572e-03,  6.9199e-03,\n",
              "           8.3658e-03, -1.2224e-02, -2.1032e-02,  2.3645e-02,  4.7990e-03,  1.4948e-02, -1.3526e-02,  1.7299e-02,  2.5992e-02,  2.1720e-02,  9.7106e-03,  3.5139e-02, -7.8108e-05,  7.6035e-03,\n",
              "           3.3933e-02,  3.4711e-02, -1.5079e-02,  3.2172e-02,  1.3181e-02, -3.9978e-03,  3.1184e-02, -1.8501e-02,  2.3205e-02,  3.5391e-02, -2.4632e-02, -2.1075e-02, -3.5390e-02, -6.4272e-03,\n",
              "          -3.2436e-02, -1.1961e-02,  1.0843e-02,  2.5246e-02,  1.9894e-02,  1.9824e-02,  1.4817e-02, -2.2151e-02, -2.8357e-02,  1.4805e-03,  3.3914e-02,  2.0109e-03, -3.0718e-03, -2.4241e-02,\n",
              "          -1.7709e-02, -2.7531e-02,  2.8595e-02, -5.8189e-03, -3.1550e-02,  3.8312e-03,  2.5917e-03, -4.4125e-03,  1.2784e-02,  1.9206e-02, -3.3586e-02, -2.7360e-02, -1.7157e-03, -3.3112e-02,\n",
              "          -3.2441e-02,  3.1533e-02, -2.7164e-03, -1.7657e-02, -1.2251e-02, -2.7883e-02,  2.7870e-02, -7.7442e-03, -2.0080e-02, -2.7086e-02,  2.0875e-02, -4.9368e-03, -3.7520e-03, -9.3083e-03,\n",
              "          -1.7240e-02,  6.3532e-03,  2.7478e-02, -2.0699e-02,  1.7112e-03, -2.7161e-02, -1.6746e-02,  3.1349e-02,  3.7447e-04,  3.4404e-02, -6.2573e-03, -1.9466e-02, -2.1339e-02,  3.1654e-02,\n",
              "          -2.7464e-02,  1.8743e-02,  8.8779e-03,  1.0540e-02,  2.0151e-02, -9.3437e-03,  2.2099e-02, -2.8454e-02, -1.2566e-02,  2.6144e-02,  1.0599e-02, -4.7562e-03, -8.3404e-03, -2.1808e-02,\n",
              "           2.1718e-02, -1.1357e-03, -1.2084e-03,  8.4462e-03,  2.6355e-02, -1.8221e-02, -1.2300e-02,  2.4201e-02,  2.0170e-02, -1.7569e-02, -3.5331e-02,  6.6254e-03,  1.8782e-02,  8.5306e-03,\n",
              "           2.5333e-02, -2.8338e-02,  1.8010e-02, -2.2203e-02,  2.0100e-02,  2.6561e-02,  1.1311e-02,  2.8896e-02, -2.3541e-02, -3.1942e-02, -3.4339e-02,  2.2423e-02,  1.2511e-02, -2.6152e-02,\n",
              "           1.7296e-02,  3.2586e-02, -3.5217e-02,  2.5908e-02,  5.4776e-03,  3.3222e-03,  3.2135e-02,  3.2343e-02,  1.5048e-02,  2.8219e-02,  1.4858e-02,  5.8193e-03, -3.1393e-02,  6.6708e-03,\n",
              "          -2.5409e-02,  1.0995e-02,  6.3012e-03,  8.0235e-04, -2.4419e-02, -2.1650e-02,  2.6398e-02,  1.7394e-02,  1.8830e-02, -1.0642e-02, -6.1499e-03, -9.1528e-03,  2.4560e-02, -1.5417e-02,\n",
              "           2.2495e-02,  2.4625e-02, -3.2663e-02,  2.1809e-04, -6.8019e-03, -1.9744e-02,  1.5418e-02, -4.3391e-03,  3.1268e-02, -2.2354e-02,  1.6594e-02, -3.0493e-02, -1.7901e-02,  2.4362e-03,\n",
              "           2.8218e-02,  1.8811e-02, -2.9324e-02,  3.9559e-03, -2.1053e-02,  1.5475e-03, -2.9753e-02, -1.0478e-02,  2.4495e-02, -3.2769e-02, -3.4051e-02,  6.5052e-03,  4.8959e-03, -6.5316e-03,\n",
              "           3.1186e-02, -2.1503e-02, -2.1681e-02, -2.6696e-02, -6.6472e-03, -9.1145e-03,  2.2098e-02, -2.0053e-03,  1.1405e-02, -1.4841e-02,  2.8971e-02,  3.0108e-02, -3.1985e-02, -9.1786e-03,\n",
              "          -3.0303e-02,  1.5172e-02, -3.1203e-02, -1.6886e-02,  3.5685e-02, -3.4104e-02,  2.6350e-02,  3.0171e-03,  2.8558e-02, -1.8125e-02,  2.3458e-02,  4.3091e-03,  2.7469e-03,  2.4376e-02,\n",
              "          -3.3947e-02, -2.8766e-02,  3.4492e-02, -2.1446e-02, -2.5743e-02, -1.7462e-03, -1.1432e-02, -4.8861e-03, -2.3928e-02,  1.2886e-02, -3.0731e-02,  2.8926e-03,  2.0841e-02,  6.8620e-03,\n",
              "           4.7454e-03,  5.2237e-03, -1.0463e-02, -6.8035e-03, -1.5060e-02, -2.4126e-02, -1.8909e-02,  3.5306e-02, -5.9770e-03,  1.2511e-02,  2.4698e-02, -2.7899e-03, -1.9213e-02, -2.4198e-02,\n",
              "          -1.3157e-02,  1.2748e-02, -3.0077e-02, -4.3606e-03,  1.3585e-02,  2.9138e-02,  1.0748e-02,  7.0631e-03,  2.4450e-02,  1.6503e-02,  1.2083e-02, -1.1073e-02, -2.8639e-02, -7.7144e-03,\n",
              "          -6.4773e-03,  2.6228e-03, -3.9279e-03,  1.4439e-02,  2.3734e-02, -1.4479e-02, -3.3888e-02, -1.8324e-02, -1.7088e-02,  2.0244e-02, -2.3037e-02, -3.3592e-03, -7.5693e-03, -2.1676e-02,\n",
              "           1.6189e-02, -1.4877e-02, -1.8476e-03, -2.5110e-02, -3.6021e-03,  5.0745e-03, -1.4533e-03, -1.3345e-02,  1.0610e-02, -9.2535e-03, -1.9800e-02, -2.6337e-02, -7.5653e-03, -3.3739e-02,\n",
              "           2.9644e-02, -1.7062e-02, -1.4801e-02,  3.3014e-03,  9.2583e-03, -3.3676e-03,  2.4501e-02, -2.0820e-02,  1.2799e-02, -8.0547e-05, -2.9053e-02, -1.3832e-02,  9.0888e-03,  6.8229e-03,\n",
              "           2.5969e-02,  2.3893e-02, -1.9479e-02, -1.5251e-02, -7.5729e-03, -2.5586e-02, -9.6425e-03, -2.9225e-02,  1.3584e-02,  2.5270e-02,  2.8277e-03, -2.5567e-02, -2.7047e-02, -1.3904e-02,\n",
              "           1.0388e-02,  8.7114e-04,  6.4936e-03,  3.3660e-02,  1.6587e-02,  7.6794e-03, -7.2258e-03,  1.6895e-02,  1.3066e-02, -3.2147e-02, -2.1097e-02,  1.1988e-03,  1.3552e-02,  1.7375e-02,\n",
              "          -2.1260e-02, -3.5433e-02, -1.8604e-03, -4.0828e-03,  1.0364e-02, -9.8217e-03,  2.7304e-02,  2.3830e-03,  2.6080e-02, -2.4868e-02,  1.4287e-02,  4.2556e-03, -1.7862e-02,  1.7705e-02,\n",
              "          -3.5144e-02,  2.8874e-02,  2.8781e-03,  3.4483e-03,  1.6516e-02,  2.9647e-03,  1.5309e-02,  2.2722e-02, -2.7874e-02,  2.3627e-02, -5.3478e-03, -8.3053e-03,  7.1886e-03,  2.7934e-02,\n",
              "          -1.9415e-02, -2.4069e-02,  2.2165e-02, -1.6774e-02,  1.1498e-02, -5.2616e-03,  9.8305e-03,  2.7254e-02, -1.8100e-02, -1.7331e-02,  1.7522e-02,  1.9554e-03, -3.9306e-03, -3.1371e-02,\n",
              "           3.0259e-02, -1.3525e-03, -6.5781e-03, -1.4660e-02, -7.0478e-03,  1.7358e-02, -8.2083e-04,  3.0543e-02, -2.0620e-03, -5.1235e-03,  2.0159e-02, -9.2413e-04, -7.1283e-03,  1.1937e-02,\n",
              "           2.8165e-02,  8.9125e-03,  2.4869e-02,  2.3144e-02,  1.0100e-02,  1.2417e-02,  1.1524e-02,  3.7045e-03,  3.0383e-02,  3.2969e-02,  1.2714e-02, -1.7835e-03,  3.2021e-02, -2.7797e-02,\n",
              "           2.6242e-02,  1.8922e-02,  2.2933e-02, -2.7441e-03, -2.6646e-02,  2.5476e-02, -1.5616e-02,  9.3969e-03,  2.0234e-02, -3.3376e-02,  2.3701e-03, -1.2687e-02,  2.5348e-02, -2.2739e-02,\n",
              "           2.1685e-02,  2.2270e-02,  1.9704e-02,  3.4286e-02,  5.4090e-03, -3.2371e-02,  2.5495e-02,  3.2695e-03,  7.0875e-04, -3.4021e-02, -8.0270e-03, -1.7335e-02,  3.4979e-02,  2.5430e-02,\n",
              "           2.6642e-02,  2.4458e-02, -2.2138e-02, -1.5338e-02, -1.3977e-02, -1.4317e-02,  2.7801e-02,  1.2135e-02,  2.8620e-02, -1.6707e-03, -3.1837e-02, -1.0362e-02,  2.5100e-02,  2.1743e-02,\n",
              "           1.1056e-02, -1.0476e-02, -3.3335e-02, -1.9190e-02,  1.8621e-02, -1.4406e-02,  1.7084e-02,  9.7515e-03, -1.3717e-02,  2.1753e-02, -1.1476e-02, -1.1865e-03, -1.3604e-02, -3.3878e-02,\n",
              "           5.7585e-03,  1.0320e-02, -1.7981e-02,  2.1909e-02, -3.2038e-02, -3.4428e-02, -2.2059e-02, -1.2343e-02, -3.9664e-03, -6.9017e-03,  1.6300e-02, -3.1344e-02,  5.2588e-03,  6.1849e-04,\n",
              "           9.4332e-03,  3.5503e-02,  2.1980e-02, -1.9775e-02, -2.9266e-02, -8.6465e-03, -1.7915e-02,  1.2475e-02,  3.2739e-04,  2.8726e-02,  1.4029e-02, -6.5668e-03,  1.2275e-03,  8.5531e-03,\n",
              "          -4.4317e-03,  2.8819e-02, -2.7925e-02,  1.7407e-02, -2.2766e-02, -3.1289e-02, -7.3320e-03,  1.7404e-02,  2.5234e-02,  8.9622e-03, -3.0868e-03, -2.0021e-03, -1.4478e-02, -3.2049e-03,\n",
              "          -2.4676e-03,  3.0392e-02,  2.0902e-02, -2.8579e-02,  1.4774e-04, -2.1967e-02, -5.6693e-03, -2.8385e-02,  9.2843e-03, -2.5753e-02,  3.5258e-02,  2.6972e-02, -2.4584e-02, -3.3624e-02,\n",
              "           1.3935e-03, -9.9697e-03,  1.0485e-02, -2.4176e-02,  1.4619e-02, -3.0848e-02, -1.8849e-02, -1.8775e-02,  1.7282e-02, -9.3504e-04, -3.4322e-02, -2.0397e-02, -1.6528e-02, -3.3137e-02,\n",
              "           4.5731e-03,  1.2726e-02, -6.5528e-03, -1.4212e-02, -2.1659e-04, -2.8367e-02, -2.1746e-02, -8.1451e-04,  3.1728e-02, -1.0982e-02,  1.7702e-02, -1.4055e-02, -9.5071e-03, -3.3998e-02,\n",
              "           2.9589e-02,  3.4776e-02, -7.5012e-04,  2.2692e-02,  2.9212e-02,  1.7740e-02,  1.8394e-02, -3.4000e-02, -3.3560e-02, -2.7412e-02,  1.1171e-02, -3.0892e-02, -2.7262e-02, -1.7311e-02,\n",
              "          -3.2917e-02,  4.8122e-05,  5.1524e-03, -2.0900e-02,  2.3384e-02, -1.3559e-02, -1.0055e-02,  2.7210e-02,  3.0663e-02, -4.0972e-03, -2.5639e-02, -1.7917e-02,  4.5478e-03,  2.0935e-02,\n",
              "           1.7780e-02, -1.5771e-02, -3.3763e-02, -3.1255e-02, -1.1363e-02,  4.4801e-04, -1.6042e-02, -2.8239e-02,  3.7638e-03, -2.8348e-02, -2.7426e-02, -2.9034e-02, -9.6776e-03,  3.1545e-02,\n",
              "           1.3961e-02, -4.2346e-03,  7.3504e-03,  1.4222e-02,  2.0808e-04, -2.8806e-02, -2.2004e-02, -2.4263e-02, -9.0687e-04, -3.2693e-02, -6.4936e-03, -1.3060e-02,  3.5049e-02,  2.9029e-02,\n",
              "           2.0745e-02,  2.0029e-03, -1.1563e-02,  9.1097e-03, -2.4676e-02, -1.5232e-02, -7.1745e-03, -8.3912e-03, -3.3832e-02,  1.4198e-02,  2.9410e-02, -1.9699e-02,  9.6274e-03, -4.1419e-03,\n",
              "          -1.3026e-03,  2.0818e-03,  3.0949e-02,  4.7854e-03, -2.2596e-02, -1.2847e-02,  1.7447e-02,  1.1145e-02,  6.9413e-04, -4.7135e-03, -1.3896e-02, -1.2676e-02, -1.8839e-02,  5.8522e-03,\n",
              "           1.0030e-02,  2.7348e-02, -8.0683e-03,  2.5567e-03,  2.3082e-02,  1.5535e-02,  4.5888e-03,  1.0974e-02,  1.8538e-03, -3.0635e-02,  1.3768e-03, -7.8064e-03,  3.2229e-02,  3.2237e-02,\n",
              "           7.0854e-03,  3.1922e-02, -1.8394e-02,  3.1042e-02,  3.0749e-02, -1.3650e-03, -2.8661e-02, -1.1525e-02, -9.5510e-03,  5.8993e-04, -3.2380e-02,  6.6188e-03, -1.4853e-02, -9.1443e-03,\n",
              "          -1.8446e-02, -7.5405e-03, -3.3169e-02, -1.8935e-02,  3.2902e-03,  2.3403e-02,  3.2455e-02, -2.7016e-02,  1.4997e-02, -2.0132e-02, -2.7613e-02, -1.5727e-03, -2.0487e-02, -3.0759e-02,\n",
              "          -3.3376e-02, -2.3905e-02,  2.9348e-02,  1.9918e-02, -1.4137e-02, -2.3904e-02, -2.7473e-02, -2.1090e-02, -1.4696e-02,  2.1450e-02,  1.1688e-02, -1.3763e-02,  2.4587e-02, -2.2187e-02,\n",
              "          -2.9096e-02,  7.7946e-03, -1.9693e-02,  1.0160e-02,  3.0258e-02, -1.6889e-02, -2.4922e-02,  1.3443e-02, -3.2255e-02,  3.1863e-02, -1.6866e-02,  1.7266e-02, -2.8399e-02, -2.4174e-02,\n",
              "           3.9341e-03,  1.2693e-02,  2.7693e-02,  2.9869e-02, -2.0540e-03, -4.5917e-03,  5.9036e-03, -8.2961e-03,  1.2157e-03, -3.3823e-02, -2.9318e-02,  2.4474e-02, -2.0870e-02,  2.8124e-02,\n",
              "           3.9194e-03,  8.6995e-03,  3.2460e-02, -1.9864e-02, -5.6378e-03,  6.3275e-03,  1.2201e-02, -3.4758e-02,  1.2694e-02, -2.1062e-02,  4.6911e-03,  2.4162e-02, -3.5577e-03, -1.1298e-03]],\n",
              "        requires_grad=True),\n",
              " Parameter containing:\n",
              " tensor([-0.0027], requires_grad=True)]"
            ]
          },
          "metadata": {},
          "execution_count": 115
        }
      ]
    },
    {
      "cell_type": "code",
      "source": [
        "w,b = linear_model.parameters()\n",
        "w.shape,b.shape"
      ],
      "metadata": {
        "colab": {
          "base_uri": "https://localhost:8080/"
        },
        "id": "bdMLCb5Vs3Jm",
        "outputId": "61ba61ff-1b50-41f0-f2a9-95f15a894496"
      },
      "execution_count": 116,
      "outputs": [
        {
          "output_type": "execute_result",
          "data": {
            "text/plain": [
              "(torch.Size([1, 784]), torch.Size([1]))"
            ]
          },
          "metadata": {},
          "execution_count": 116
        }
      ]
    },
    {
      "cell_type": "markdown",
      "source": [
        "creating an optimizer"
      ],
      "metadata": {
        "id": "J8qNiw3Vs62z"
      }
    },
    {
      "cell_type": "code",
      "source": [
        "class BasicOptim:\n",
        "    def __init__(self,params,lr): self.params,self.lr = list(params),lr\n",
        "\n",
        "    def step(self, *args, **kwargs):\n",
        "        for p in self.params: p.data -= p.grad.data * self.lr\n",
        "\n",
        "    def zero_grad(self, *args, **kwargs):\n",
        "        for p in self.params: p.grad = None"
      ],
      "metadata": {
        "id": "HrNOxBQHs8Mj"
      },
      "execution_count": 117,
      "outputs": []
    },
    {
      "cell_type": "markdown",
      "source": [
        "now init optimizer, remember we set lr earlier to 1"
      ],
      "metadata": {
        "id": "DYfPmOM0tCE2"
      }
    },
    {
      "cell_type": "code",
      "source": [
        "opt = BasicOptim(linear_model.parameters(), lr)"
      ],
      "metadata": {
        "id": "gVGuVqBJtGmM"
      },
      "execution_count": 118,
      "outputs": []
    },
    {
      "cell_type": "markdown",
      "source": [
        "Our training loop can now be simplified to:\n",
        "\n",
        "---\n",
        "\n"
      ],
      "metadata": {
        "id": "7SYG30nItVV6"
      }
    },
    {
      "cell_type": "code",
      "source": [
        "linear_model = nn.Linear(28*28,1) #init params\n",
        "opt = BasicOptim(linear_model.parameters(), lr) #init optimizer\n"
      ],
      "metadata": {
        "id": "2civRwGztWKh"
      },
      "execution_count": 119,
      "outputs": []
    },
    {
      "cell_type": "code",
      "source": [
        "def train_epoch(model):\n",
        "    for xb,yb in dl:\n",
        "        calc_grad(xb, yb, model)\n",
        "        opt.step() #optimizer does step\n",
        "        opt.zero_grad() #optimizer resets grad to 0"
      ],
      "metadata": {
        "id": "hp0brlGivUYU"
      },
      "execution_count": 120,
      "outputs": []
    },
    {
      "cell_type": "markdown",
      "source": [
        "---\n"
      ],
      "metadata": {
        "id": "uG_wPNM_vb6h"
      }
    },
    {
      "cell_type": "markdown",
      "source": [
        "remember that dl is our data loader, which chunks the dataset of all 3s and 7s into 256 sized chunks, which is more manageable to train per epoch, and we randomize the dl per epoch so we get new 256 sample each time (to ensure the model doesn't learn patterns based on the order of the samples)."
      ],
      "metadata": {
        "id": "nnf5NZ-8ttHQ"
      }
    },
    {
      "cell_type": "code",
      "source": [
        "validate_epoch(linear_model)"
      ],
      "metadata": {
        "colab": {
          "base_uri": "https://localhost:8080/"
        },
        "id": "s7F80DpXuLKL",
        "outputId": "4948d2de-d338-4e73-c76b-40528c5341de"
      },
      "execution_count": 121,
      "outputs": [
        {
          "output_type": "execute_result",
          "data": {
            "text/plain": [
              "0.5802"
            ]
          },
          "metadata": {},
          "execution_count": 121
        }
      ]
    },
    {
      "cell_type": "markdown",
      "source": [
        "So now lets make a function that can iterate this process over a desired amount of epochs"
      ],
      "metadata": {
        "id": "STURATNVwp1v"
      }
    },
    {
      "cell_type": "code",
      "source": [
        "def train_model(model, epochs):\n",
        "    for i in range(epochs):\n",
        "        train_epoch(model)\n",
        "        print(validate_epoch(model), end=' ')"
      ],
      "metadata": {
        "id": "K5z3C9M3wyaR"
      },
      "execution_count": 122,
      "outputs": []
    },
    {
      "cell_type": "code",
      "source": [
        "train_model(linear_model, 20)"
      ],
      "metadata": {
        "colab": {
          "base_uri": "https://localhost:8080/"
        },
        "id": "b246MkGvw2vS",
        "outputId": "30f32290-48c1-4f07-84d9-96f3fb06a04d"
      },
      "execution_count": 123,
      "outputs": [
        {
          "output_type": "stream",
          "name": "stdout",
          "text": [
            "0.4932 0.7666 0.8638 0.9194 0.936 0.9521 0.9614 0.9658 0.9678 0.9692 0.9707 0.9736 0.9736 0.9741 0.9746 0.9766 0.9771 0.978 0.979 0.979 "
          ]
        }
      ]
    },
    {
      "cell_type": "markdown",
      "source": [
        "---\n",
        "\n",
        "fastai provides the SGD class which, by default, does the same thing as our BasicOptim:\n",
        "\n",
        "---\n",
        "\n"
      ],
      "metadata": {
        "id": "8FmqzilHw-NU"
      }
    },
    {
      "cell_type": "code",
      "source": [
        "linear_model = nn.Linear(28*28,1)\n",
        "opt = SGD(linear_model.parameters(), lr)\n",
        "train_model(linear_model, 20)"
      ],
      "metadata": {
        "colab": {
          "base_uri": "https://localhost:8080/"
        },
        "id": "7cJ1A51tw-yU",
        "outputId": "8907c409-c0ae-4c2e-ccf2-eb4e952a8311"
      },
      "execution_count": 124,
      "outputs": [
        {
          "output_type": "stream",
          "name": "stdout",
          "text": [
            "0.4932 0.6919 0.8662 0.9189 0.939 0.9521 0.9619 0.9663 0.9668 0.9692 0.9697 0.9731 0.9736 0.9736 0.9746 0.9756 0.9771 0.978 0.979 0.979 "
          ]
        }
      ]
    },
    {
      "cell_type": "markdown",
      "source": [
        "fastai also provides Learner.fit, which we can use instead of train_model. To create a Learner we first need to create a DataLoaders, by passing in our training and validation DataLoaders:"
      ],
      "metadata": {
        "id": "qyvXLPVDx4ZF"
      }
    },
    {
      "cell_type": "code",
      "source": [
        "dls = DataLoaders(dl, valid_dl)"
      ],
      "metadata": {
        "id": "XQbaCSnyx5w2"
      },
      "execution_count": 125,
      "outputs": []
    },
    {
      "cell_type": "code",
      "source": [],
      "metadata": {
        "id": "UN6gXghuGK6T"
      },
      "execution_count": 125,
      "outputs": []
    },
    {
      "cell_type": "markdown",
      "source": [
        "To create a `Learner` without using an application (such as `vision_learner`) we need to pass in all the elements that we've created in this chapter: the `DataLoaders`, the model, the optimization function (which will be passed the parameters), the loss function, and optionally any metrics to print:"
      ],
      "metadata": {
        "id": "VK98Csn6yFyp"
      }
    },
    {
      "cell_type": "code",
      "source": [
        "learn = Learner(dls, nn.Linear(28*28,1), opt_func=SGD,\n",
        "                loss_func=mnist_loss, metrics=batch_accuracy)"
      ],
      "metadata": {
        "id": "vHhcOl3kyBu1"
      },
      "execution_count": 126,
      "outputs": []
    },
    {
      "cell_type": "markdown",
      "source": [
        "Now we can call fit:"
      ],
      "metadata": {
        "id": "B5fxZI5syLvS"
      }
    },
    {
      "cell_type": "code",
      "source": [
        "learn.fit(10, lr=lr)"
      ],
      "metadata": {
        "colab": {
          "base_uri": "https://localhost:8080/",
          "height": 0
        },
        "id": "NxG1lljbyMOx",
        "outputId": "1ce0cf20-8ca8-4dc5-eeaf-5ccca38a139f"
      },
      "execution_count": 127,
      "outputs": [
        {
          "output_type": "display_data",
          "data": {
            "text/plain": [
              "<IPython.core.display.HTML object>"
            ],
            "text/html": [
              "\n",
              "<style>\n",
              "    /* Turns off some styling */\n",
              "    progress {\n",
              "        /* gets rid of default border in Firefox and Opera. */\n",
              "        border: none;\n",
              "        /* Needs to be in here for Safari polyfill so background images work as expected. */\n",
              "        background-size: auto;\n",
              "    }\n",
              "    progress:not([value]), progress:not([value])::-webkit-progress-bar {\n",
              "        background: repeating-linear-gradient(45deg, #7e7e7e, #7e7e7e 10px, #5c5c5c 10px, #5c5c5c 20px);\n",
              "    }\n",
              "    .progress-bar-interrupted, .progress-bar-interrupted::-webkit-progress-bar {\n",
              "        background: #F44336;\n",
              "    }\n",
              "</style>\n"
            ]
          },
          "metadata": {}
        },
        {
          "output_type": "display_data",
          "data": {
            "text/plain": [
              "<IPython.core.display.HTML object>"
            ],
            "text/html": [
              "<table border=\"1\" class=\"dataframe\">\n",
              "  <thead>\n",
              "    <tr style=\"text-align: left;\">\n",
              "      <th>epoch</th>\n",
              "      <th>train_loss</th>\n",
              "      <th>valid_loss</th>\n",
              "      <th>batch_accuracy</th>\n",
              "      <th>time</th>\n",
              "    </tr>\n",
              "  </thead>\n",
              "  <tbody>\n",
              "    <tr>\n",
              "      <td>0</td>\n",
              "      <td>0.636234</td>\n",
              "      <td>0.501833</td>\n",
              "      <td>0.495584</td>\n",
              "      <td>00:00</td>\n",
              "    </tr>\n",
              "    <tr>\n",
              "      <td>1</td>\n",
              "      <td>0.304023</td>\n",
              "      <td>0.302504</td>\n",
              "      <td>0.697743</td>\n",
              "      <td>00:00</td>\n",
              "    </tr>\n",
              "    <tr>\n",
              "      <td>2</td>\n",
              "      <td>0.119999</td>\n",
              "      <td>0.151299</td>\n",
              "      <td>0.863592</td>\n",
              "      <td>00:00</td>\n",
              "    </tr>\n",
              "    <tr>\n",
              "      <td>3</td>\n",
              "      <td>0.057888</td>\n",
              "      <td>0.096274</td>\n",
              "      <td>0.918548</td>\n",
              "      <td>00:00</td>\n",
              "    </tr>\n",
              "    <tr>\n",
              "      <td>4</td>\n",
              "      <td>0.034823</td>\n",
              "      <td>0.071626</td>\n",
              "      <td>0.936212</td>\n",
              "      <td>00:00</td>\n",
              "    </tr>\n",
              "    <tr>\n",
              "      <td>5</td>\n",
              "      <td>0.025734</td>\n",
              "      <td>0.057953</td>\n",
              "      <td>0.950932</td>\n",
              "      <td>00:00</td>\n",
              "    </tr>\n",
              "    <tr>\n",
              "      <td>6</td>\n",
              "      <td>0.021871</td>\n",
              "      <td>0.049443</td>\n",
              "      <td>0.961236</td>\n",
              "      <td>00:00</td>\n",
              "    </tr>\n",
              "    <tr>\n",
              "      <td>7</td>\n",
              "      <td>0.020020</td>\n",
              "      <td>0.043833</td>\n",
              "      <td>0.966143</td>\n",
              "      <td>00:00</td>\n",
              "    </tr>\n",
              "    <tr>\n",
              "      <td>8</td>\n",
              "      <td>0.018975</td>\n",
              "      <td>0.039922</td>\n",
              "      <td>0.967615</td>\n",
              "      <td>00:00</td>\n",
              "    </tr>\n",
              "    <tr>\n",
              "      <td>9</td>\n",
              "      <td>0.018269</td>\n",
              "      <td>0.037037</td>\n",
              "      <td>0.969087</td>\n",
              "      <td>00:00</td>\n",
              "    </tr>\n",
              "  </tbody>\n",
              "</table>"
            ]
          },
          "metadata": {}
        }
      ]
    },
    {
      "cell_type": "markdown",
      "source": [
        "As you can see, there's nothing magic about the PyTorch and fastai classes. They are just convenient pre-packaged pieces that make your life a bit easier! (They also provide a lot of extra functionality we'll be using in future chapters.)\n",
        "\n",
        "With these classes, we can now replace our linear model with a neural network."
      ],
      "metadata": {
        "id": "VJ35GORAyRrV"
      }
    },
    {
      "cell_type": "markdown",
      "source": [
        "# Non linearity - neural networks\n",
        "\n",
        "So far we have a general procedure for optimizing the parameters of a function, and we have tried it out on a very boring function: a simple linear classifier. A linear classifier is very constrained in terms of what it can do. To make it a bit more complex (and able to handle more tasks), we need to add something nonlinear between two linear classifiers—this is what gives us a neural network.\n",
        "\n",
        "Here is the entire definition of a basic neural network:"
      ],
      "metadata": {
        "id": "Pr4vpYI67Mcu"
      }
    },
    {
      "cell_type": "code",
      "source": [
        "def simple_net(xb):\n",
        "    res = xb@w1 + b1\n",
        "    res = res.max(tensor(0.0))\n",
        "    res = res@w2 + b2\n",
        "    return res"
      ],
      "metadata": {
        "id": "QzX2AgTmND0D"
      },
      "execution_count": 128,
      "outputs": []
    },
    {
      "cell_type": "markdown",
      "source": [
        "A neural net is basically a linear classifier passing through an activation function (ReLu), and then that is passed to a second linear classifier.\n",
        "\n",
        "In theory, it is possible to classify simple dog vs cat images with a linear classifier, but only under ideal conditions (e.g., the images are perfectly aligned, have the same lighting conditions, the dog and cat occupy the same position in every image, etc.) However, real-world images are far from this ideal - they have high variability in terms of angles, positions, light conditions, breeds, etc.\n",
        "\n",
        "A key limitation of linear classifiers (and linear models in general) is that they can only model linear relationships. They assume that a change in the input will cause a proportional change in the output. This makes them ineffective for complex tasks like image classification where the relationship between pixel values and the class label (dog or cat) is highly nonlinear.\n",
        "\n",
        "Here's a simple analogy to illustrate the limitation: imagine you're trying to separate cats and dogs based on their weight and height. A linear classifier could draw a straight line to separate them - maybe it says \"animals that weigh less than 20 pounds and are less than 18 inches tall are cats, everything else is a dog.\" This might work well for many cases.\n",
        "\n",
        "However, let's say you have a puppy (a small dog). This puppy is also lightweight and short, so the linear classifier would label it as a cat - which is obviously incorrect.\n",
        "\n",
        "In the context of images, a linear classifier might incorrectly classify a picture of a cat as a dog if it's positioned in a certain way, has certain lighting conditions, or even if it's a certain breed that looks more like a dog. The relationship between the raw pixel values and the class label is complex and doesn't follow a simple linear rule.\n",
        "\n",
        "Deep learning models, particularly convolutional neural networks (CNNs), overcome these limitations by learning nonlinear features and hierarchical representations, which makes them much more effective for complex tasks like image classification. They are capable of learning complex patterns and structures within the data, which enables them to classify images with high accuracy.\n",
        "\n",
        "A deep neural network can learn to identify nuanced features that distinguish cats from dogs, like the shape of the ears, the size of the nose, the texture of the fur, and so on. And they can learn to recognize these features regardless of their position in the image or other variables like lighting and size, which is a key advantage over linear classifiers."
      ],
      "metadata": {
        "id": "QOiGxGsdNP-v"
      }
    },
    {
      "cell_type": "code",
      "source": [
        "w1 = init_params((28*28,30))\n",
        "b1 = init_params(30)\n",
        "w2 = init_params((30,1))\n",
        "b2 = init_params(1)"
      ],
      "metadata": {
        "id": "7AIvh7EpOQCy"
      },
      "execution_count": 129,
      "outputs": []
    },
    {
      "cell_type": "markdown",
      "source": [
        "The key point about this is that w1 has 30 output activations (which means that w2 must have 30 input activations, so they match). That means that the first layer can construct 30 different features, each representing some different mix of pixels. You can change that 30 to anything you like, to make the model more or less complex.\n",
        "\n",
        "That little function res.max(tensor(0.0)) is called a rectified linear unit, also known as ReLU. We think we can all agree that rectified linear unit sounds pretty fancy and complicated... But actually, there's nothing more to it than res.max(tensor(0.0))—in other words, replace every negative number with a zero. This tiny function is also available in PyTorch as F.relu:\n"
      ],
      "metadata": {
        "id": "7xz7fAxxOZRp"
      }
    },
    {
      "cell_type": "code",
      "source": [
        "plot_function(F.relu)"
      ],
      "metadata": {
        "colab": {
          "base_uri": "https://localhost:8080/",
          "height": 0
        },
        "id": "yWE1IJBROYyP",
        "outputId": "b06efdd8-5f51-4a65-d303-6eaa68795cd1"
      },
      "execution_count": 130,
      "outputs": [
        {
          "output_type": "display_data",
          "data": {
            "text/plain": [
              "<Figure size 600x400 with 1 Axes>"
            ],
            "image/png": "[encoded data removed]"
          },
          "metadata": {}
        }
      ]
    },
    {
      "cell_type": "markdown",
      "source": [
        "Just like in the previous section, we can replace this code with something a bit simpler, by taking advantage of PyTorch:"
      ],
      "metadata": {
        "id": "Nzi1qJ-GOmam"
      }
    },
    {
      "cell_type": "code",
      "source": [
        "simple_net = nn.Sequential(\n",
        "    nn.Linear(28*28,30),\n",
        "    nn.ReLU(),\n",
        "    nn.Linear(30,1)\n",
        ")"
      ],
      "metadata": {
        "id": "EHtyclKKOmwm"
      },
      "execution_count": 131,
      "outputs": []
    },
    {
      "cell_type": "code",
      "source": [
        "learn = Learner(dls, simple_net, opt_func=SGD,\n",
        "                loss_func=mnist_loss, metrics=batch_accuracy)"
      ],
      "metadata": {
        "id": "XnC6FoczOtcJ"
      },
      "execution_count": 132,
      "outputs": []
    },
    {
      "cell_type": "code",
      "source": [
        "learn.fit(40, 0.1)"
      ],
      "metadata": {
        "colab": {
          "base_uri": "https://localhost:8080/",
          "height": 0
        },
        "id": "U0-1j-X2OwAL",
        "outputId": "08caa10c-aec2-4bd3-9b6f-635d944c1dc8"
      },
      "execution_count": 133,
      "outputs": [
        {
          "output_type": "display_data",
          "data": {
            "text/plain": [
              "<IPython.core.display.HTML object>"
            ],
            "text/html": [
              "\n",
              "<style>\n",
              "    /* Turns off some styling */\n",
              "    progress {\n",
              "        /* gets rid of default border in Firefox and Opera. */\n",
              "        border: none;\n",
              "        /* Needs to be in here for Safari polyfill so background images work as expected. */\n",
              "        background-size: auto;\n",
              "    }\n",
              "    progress:not([value]), progress:not([value])::-webkit-progress-bar {\n",
              "        background: repeating-linear-gradient(45deg, #7e7e7e, #7e7e7e 10px, #5c5c5c 10px, #5c5c5c 20px);\n",
              "    }\n",
              "    .progress-bar-interrupted, .progress-bar-interrupted::-webkit-progress-bar {\n",
              "        background: #F44336;\n",
              "    }\n",
              "</style>\n"
            ]
          },
          "metadata": {}
        },
        {
          "output_type": "display_data",
          "data": {
            "text/plain": [
              "<IPython.core.display.HTML object>"
            ],
            "text/html": [
              "<table border=\"1\" class=\"dataframe\">\n",
              "  <thead>\n",
              "    <tr style=\"text-align: left;\">\n",
              "      <th>epoch</th>\n",
              "      <th>train_loss</th>\n",
              "      <th>valid_loss</th>\n",
              "      <th>batch_accuracy</th>\n",
              "      <th>time</th>\n",
              "    </tr>\n",
              "  </thead>\n",
              "  <tbody>\n",
              "    <tr>\n",
              "      <td>0</td>\n",
              "      <td>0.316295</td>\n",
              "      <td>0.409270</td>\n",
              "      <td>0.505397</td>\n",
              "      <td>00:00</td>\n",
              "    </tr>\n",
              "    <tr>\n",
              "      <td>1</td>\n",
              "      <td>0.144465</td>\n",
              "      <td>0.228177</td>\n",
              "      <td>0.802257</td>\n",
              "      <td>00:00</td>\n",
              "    </tr>\n",
              "    <tr>\n",
              "      <td>2</td>\n",
              "      <td>0.079942</td>\n",
              "      <td>0.113556</td>\n",
              "      <td>0.918057</td>\n",
              "      <td>00:00</td>\n",
              "    </tr>\n",
              "    <tr>\n",
              "      <td>3</td>\n",
              "      <td>0.052700</td>\n",
              "      <td>0.076578</td>\n",
              "      <td>0.941609</td>\n",
              "      <td>00:00</td>\n",
              "    </tr>\n",
              "    <tr>\n",
              "      <td>4</td>\n",
              "      <td>0.040184</td>\n",
              "      <td>0.059732</td>\n",
              "      <td>0.956330</td>\n",
              "      <td>00:00</td>\n",
              "    </tr>\n",
              "    <tr>\n",
              "      <td>5</td>\n",
              "      <td>0.033820</td>\n",
              "      <td>0.050345</td>\n",
              "      <td>0.964671</td>\n",
              "      <td>00:00</td>\n",
              "    </tr>\n",
              "    <tr>\n",
              "      <td>6</td>\n",
              "      <td>0.030183</td>\n",
              "      <td>0.044462</td>\n",
              "      <td>0.965653</td>\n",
              "      <td>00:00</td>\n",
              "    </tr>\n",
              "    <tr>\n",
              "      <td>7</td>\n",
              "      <td>0.027839</td>\n",
              "      <td>0.040477</td>\n",
              "      <td>0.966634</td>\n",
              "      <td>00:00</td>\n",
              "    </tr>\n",
              "    <tr>\n",
              "      <td>8</td>\n",
              "      <td>0.026168</td>\n",
              "      <td>0.037594</td>\n",
              "      <td>0.968597</td>\n",
              "      <td>00:00</td>\n",
              "    </tr>\n",
              "    <tr>\n",
              "      <td>9</td>\n",
              "      <td>0.024878</td>\n",
              "      <td>0.035408</td>\n",
              "      <td>0.969087</td>\n",
              "      <td>00:00</td>\n",
              "    </tr>\n",
              "    <tr>\n",
              "      <td>10</td>\n",
              "      <td>0.023831</td>\n",
              "      <td>0.033678</td>\n",
              "      <td>0.970069</td>\n",
              "      <td>00:00</td>\n",
              "    </tr>\n",
              "    <tr>\n",
              "      <td>11</td>\n",
              "      <td>0.022950</td>\n",
              "      <td>0.032266</td>\n",
              "      <td>0.973503</td>\n",
              "      <td>00:00</td>\n",
              "    </tr>\n",
              "    <tr>\n",
              "      <td>12</td>\n",
              "      <td>0.022190</td>\n",
              "      <td>0.031079</td>\n",
              "      <td>0.974485</td>\n",
              "      <td>00:00</td>\n",
              "    </tr>\n",
              "    <tr>\n",
              "      <td>13</td>\n",
              "      <td>0.021524</td>\n",
              "      <td>0.030060</td>\n",
              "      <td>0.975957</td>\n",
              "      <td>00:00</td>\n",
              "    </tr>\n",
              "    <tr>\n",
              "      <td>14</td>\n",
              "      <td>0.020931</td>\n",
              "      <td>0.029167</td>\n",
              "      <td>0.975957</td>\n",
              "      <td>00:00</td>\n",
              "    </tr>\n",
              "    <tr>\n",
              "      <td>15</td>\n",
              "      <td>0.020399</td>\n",
              "      <td>0.028374</td>\n",
              "      <td>0.975957</td>\n",
              "      <td>00:00</td>\n",
              "    </tr>\n",
              "    <tr>\n",
              "      <td>16</td>\n",
              "      <td>0.019917</td>\n",
              "      <td>0.027661</td>\n",
              "      <td>0.976938</td>\n",
              "      <td>00:00</td>\n",
              "    </tr>\n",
              "    <tr>\n",
              "      <td>17</td>\n",
              "      <td>0.019478</td>\n",
              "      <td>0.027016</td>\n",
              "      <td>0.978410</td>\n",
              "      <td>00:00</td>\n",
              "    </tr>\n",
              "    <tr>\n",
              "      <td>18</td>\n",
              "      <td>0.019075</td>\n",
              "      <td>0.026428</td>\n",
              "      <td>0.978901</td>\n",
              "      <td>00:00</td>\n",
              "    </tr>\n",
              "    <tr>\n",
              "      <td>19</td>\n",
              "      <td>0.018703</td>\n",
              "      <td>0.025891</td>\n",
              "      <td>0.978901</td>\n",
              "      <td>00:00</td>\n",
              "    </tr>\n",
              "    <tr>\n",
              "      <td>20</td>\n",
              "      <td>0.018359</td>\n",
              "      <td>0.025400</td>\n",
              "      <td>0.978901</td>\n",
              "      <td>00:00</td>\n",
              "    </tr>\n",
              "    <tr>\n",
              "      <td>21</td>\n",
              "      <td>0.018039</td>\n",
              "      <td>0.024948</td>\n",
              "      <td>0.978901</td>\n",
              "      <td>00:00</td>\n",
              "    </tr>\n",
              "    <tr>\n",
              "      <td>22</td>\n",
              "      <td>0.017741</td>\n",
              "      <td>0.024531</td>\n",
              "      <td>0.979392</td>\n",
              "      <td>00:00</td>\n",
              "    </tr>\n",
              "    <tr>\n",
              "      <td>23</td>\n",
              "      <td>0.017462</td>\n",
              "      <td>0.024148</td>\n",
              "      <td>0.979882</td>\n",
              "      <td>00:00</td>\n",
              "    </tr>\n",
              "    <tr>\n",
              "      <td>24</td>\n",
              "      <td>0.017202</td>\n",
              "      <td>0.023793</td>\n",
              "      <td>0.979882</td>\n",
              "      <td>00:00</td>\n",
              "    </tr>\n",
              "    <tr>\n",
              "      <td>25</td>\n",
              "      <td>0.016957</td>\n",
              "      <td>0.023466</td>\n",
              "      <td>0.980373</td>\n",
              "      <td>00:00</td>\n",
              "    </tr>\n",
              "    <tr>\n",
              "      <td>26</td>\n",
              "      <td>0.016727</td>\n",
              "      <td>0.023163</td>\n",
              "      <td>0.980373</td>\n",
              "      <td>00:00</td>\n",
              "    </tr>\n",
              "    <tr>\n",
              "      <td>27</td>\n",
              "      <td>0.016511</td>\n",
              "      <td>0.022881</td>\n",
              "      <td>0.980373</td>\n",
              "      <td>00:00</td>\n",
              "    </tr>\n",
              "    <tr>\n",
              "      <td>28</td>\n",
              "      <td>0.016306</td>\n",
              "      <td>0.022619</td>\n",
              "      <td>0.980373</td>\n",
              "      <td>00:00</td>\n",
              "    </tr>\n",
              "    <tr>\n",
              "      <td>29</td>\n",
              "      <td>0.016112</td>\n",
              "      <td>0.022375</td>\n",
              "      <td>0.980373</td>\n",
              "      <td>00:00</td>\n",
              "    </tr>\n",
              "    <tr>\n",
              "      <td>30</td>\n",
              "      <td>0.015928</td>\n",
              "      <td>0.022146</td>\n",
              "      <td>0.980864</td>\n",
              "      <td>00:00</td>\n",
              "    </tr>\n",
              "    <tr>\n",
              "      <td>31</td>\n",
              "      <td>0.015754</td>\n",
              "      <td>0.021932</td>\n",
              "      <td>0.980864</td>\n",
              "      <td>00:00</td>\n",
              "    </tr>\n",
              "    <tr>\n",
              "      <td>32</td>\n",
              "      <td>0.015587</td>\n",
              "      <td>0.021731</td>\n",
              "      <td>0.980864</td>\n",
              "      <td>00:00</td>\n",
              "    </tr>\n",
              "    <tr>\n",
              "      <td>33</td>\n",
              "      <td>0.015427</td>\n",
              "      <td>0.021542</td>\n",
              "      <td>0.980864</td>\n",
              "      <td>00:00</td>\n",
              "    </tr>\n",
              "    <tr>\n",
              "      <td>34</td>\n",
              "      <td>0.015275</td>\n",
              "      <td>0.021363</td>\n",
              "      <td>0.981354</td>\n",
              "      <td>00:00</td>\n",
              "    </tr>\n",
              "    <tr>\n",
              "      <td>35</td>\n",
              "      <td>0.015129</td>\n",
              "      <td>0.021193</td>\n",
              "      <td>0.981354</td>\n",
              "      <td>00:00</td>\n",
              "    </tr>\n",
              "    <tr>\n",
              "      <td>36</td>\n",
              "      <td>0.014988</td>\n",
              "      <td>0.021031</td>\n",
              "      <td>0.981354</td>\n",
              "      <td>00:00</td>\n",
              "    </tr>\n",
              "    <tr>\n",
              "      <td>37</td>\n",
              "      <td>0.014852</td>\n",
              "      <td>0.020877</td>\n",
              "      <td>0.981845</td>\n",
              "      <td>00:00</td>\n",
              "    </tr>\n",
              "    <tr>\n",
              "      <td>38</td>\n",
              "      <td>0.014721</td>\n",
              "      <td>0.020730</td>\n",
              "      <td>0.982336</td>\n",
              "      <td>00:00</td>\n",
              "    </tr>\n",
              "    <tr>\n",
              "      <td>39</td>\n",
              "      <td>0.014595</td>\n",
              "      <td>0.020590</td>\n",
              "      <td>0.982336</td>\n",
              "      <td>00:00</td>\n",
              "    </tr>\n",
              "  </tbody>\n",
              "</table>"
            ]
          },
          "metadata": {}
        }
      ]
    },
    {
      "cell_type": "markdown",
      "source": [
        "We're not showing the 40 lines of output here to save room; the training process is recorded in learn.recorder, with the table of output stored in the values attribute, so we can plot the accuracy over training as:"
      ],
      "metadata": {
        "id": "ZGQk0N6nO01U"
      }
    },
    {
      "cell_type": "code",
      "source": [
        "plt.plot(L(learn.recorder.values).itemgot(2));"
      ],
      "metadata": {
        "colab": {
          "base_uri": "https://localhost:8080/"
        },
        "id": "k6BrasUKO0hT",
        "outputId": "5003fc32-1d10-4728-ed49-ba580f17b834"
      },
      "execution_count": 134,
      "outputs": [
        {
          "output_type": "display_data",
          "data": {
            "text/plain": [
              "<Figure size 640x480 with 1 Axes>"
            ],
            "image/png": "[encoded data removed]"
          },
          "metadata": {}
        }
      ]
    },
    {
      "cell_type": "markdown",
      "source": [
        "and we can view accuracy"
      ],
      "metadata": {
        "id": "IDF1hDvhO3-x"
      }
    },
    {
      "cell_type": "code",
      "source": [
        "learn.recorder.values[-1][2]"
      ],
      "metadata": {
        "id": "iAlygohmO5Yx",
        "outputId": "00dd4cd1-9cf8-416a-cf31-aee90c29e250",
        "colab": {
          "base_uri": "https://localhost:8080/"
        }
      },
      "execution_count": 135,
      "outputs": [
        {
          "output_type": "execute_result",
          "data": {
            "text/plain": [
              "0.98233562707901"
            ]
          },
          "metadata": {},
          "execution_count": 135
        }
      ]
    },
    {
      "cell_type": "markdown",
      "source": [
        "And thats it, digit classifier from scratch"
      ],
      "metadata": {
        "id": "R-XMLjdoO8Ma"
      }
    },
    {
      "cell_type": "markdown",
      "source": [
        "# Questions and Answers"
      ],
      "metadata": {
        "id": "iXXa1ucFE3wP"
      }
    },
    {
      "cell_type": "markdown",
      "source": [
        "1. How is a grayscale image represented on a computer? How about a color image?\n",
        "  -  In grayscale images, the Red, Green, and Blue (RGB) channels are equal for each pixel. This equal intensity across all color channels is what gives us shades of gray. When these channels increase or decrease at the same rate, the image remains in grayscale. This means that each pixel can have a value of 0 to 255 (since these values can be transfered to each rgb value). However to represent rgb, each pixel must keep track of 3 different values, and they can have varying intensities to represent each color. Therefor you can represent each image of 28 x 28 pixels as a 2d tensor of (28,28), which flattened as a 1d tensor (28*28,1), for each of the 784 pixels there is 1 intensity number (0-255). However for rgb of the same image dimension, each of the 784 pixels have 3 intensities of rgb respectively. So the 2d tensor is (28,28,3).\n",
        "\n",
        "2. How are the files and folders in the MNIST_SAMPLE dataset structured? Why?\n",
        "  - The different numbers are split into various folders which serve different uses\n",
        "    - Training set contains all the images which we train our model on\n",
        "    - validation set is used to train for accuracy, how well our model can classify data it hasn't seen before  \n",
        "\n",
        "3. Explain how the \"pixel similarity\" approach to classifying digits works.\n",
        "  -  this works by taking all of the images in the training set, representing the image into a n x n tensor of pixel intensities in grayscale. Then creating an 'ideal' 7 or 3 by stacking all of the 3 tensors and 7 tensors separately, then averaging the pixel intensities of each pixel in the two stacks. This gives the average pixel intensity which will reveal a fuzzy 7 or 3 which averages the features of all of the images. Then we compare the images in the validation set with the ideal 3 or 7 by calculating the MSE or absolute differences (l1 norm and l2 norm) of all of the pixels. It determines if its a 3 or 7 by seeing which ideal number its closest to (smallest average distance between each pixel).\n",
        "\n",
        "\n",
        "4. What is a list comprehension? Create one now that selects odd numbers from a list and doubles them.\n",
        "  - List comprehension is like array.map in javascript where we iterate over a list and perform an action if a preset condition is met\n",
        "    \n",
        "\n",
        "```\n",
        "# let num = [1,2,3,4,5,6,7,8,9]\n",
        "  doubled_odds = [x * 2 for x in num if x%2 == 1]\n",
        "```\n",
        "\n",
        "\n",
        "5. What is a \"rank-3 tensor\"?\n",
        "  - A rank 3 tensor is a 3 dimensional matrix. it has 3 'dimensions' and is one dimension above a 2d tensor. Stacking many 2d tensors creates a 3d tensor. One such example of a rank 3 tensor is\n",
        "    - (28,28,500) where there is 500 separate 2d tensors of size 28,28 which can represent 500 images of 28 by 28 pixels.\n",
        "\n",
        "6. What is the difference between tensor rank and shape? How do you get the rank from the shape?\n",
        "  - The rank refers to how many axes or dimensions each tensor has (3,2,4) is a rank 3 tensor. The shape refers to the size of each dimension. To get the rank you count up how many axes the tensor has. rank 3 is a stack of 2d, 2d is a tensor of colums and rows, 1d is just 1 row, and 0d is a scalar or 1 single number.\n",
        "\n",
        "7. What are RMSE and L1 norm?\n",
        "  - RMSE and l1 norm is a way to calculate accuracy. For rmse the formula is to take the sum of the square of the difference of two numbers in a list, divide it by the amount of items, then square the result. This is done to emohasize small differences. This is l2 norm. l1 norm is the absolute mean difference which takes the differences of two numbers in a list, and then takes the absolute value. This is more robust to outliers than l2 norm. These are two methods in calculating the loss of a model in linear regression.\n",
        "\n",
        "8. How can you apply a calculation on thousands of numbers at once, many thousands of times faster than a Python loop?\n",
        "  - For example when adding two matrices, we need to do matrix addition in which using pure python involves using for loops to iterate over the colums and rows. Pytorch is able to perform this iterative process in parallel by utilizing vectorized operations performs thousands of operations at once, and using the power of the gpu which is meant for parallel computation. gpus are powerful for these types of parallel operations.\n",
        "\n",
        "9. Create a 3×3 tensor or array containing the numbers from 1 to 9. Double it. Select the bottom-right four numbers.\n",
        "\n",
        "```\n",
        "x = torch.tensor([1,2,3],\n",
        "                 [4,5,6],\n",
        "                 [7,8,9])\n",
        "x = x * 2\n",
        "\n",
        "x = ( [2,4,6],\n",
        "     [8,10,12],\n",
        "     [14,16,18])\n",
        "\n",
        "sub_x = x[1:,1:]\n",
        "\n",
        "print(sub_x)\n",
        "\n",
        "[10,12,\n",
        "16,18]\n",
        "\n",
        "```\n",
        "\n",
        "python indexes by row then column, so it says select all rows from 1 onwards, and select only from the first column onwards\n",
        "\n",
        "10. What is broadcasting?\n",
        "  - lets say you have a stack of 2d vectors (rank 3 vector), and you want to add another 2d vector to each 2d vector in the rank 3 stack. Instead of doing a for loop and iterating over each 2d vector in the rank 3 vector and doing the calculation, you can virtually clone the 2d vector to match the width of the rank 3 vector, then do the calculation in parallel. this is more efficient. Thus you are able to add vectors of varying sizes.\n",
        "\n",
        "10. What is broadcasting?\n",
        "  - lets say you have a stack of 2d vectors (rank 3 vector), and you want to add another 2d vector to each 2d vector in the rank 3 stack. Instead of doing a for loop and iterating over each 2d vector in the rank 3 vector and doing the calculation, you can virtually clone the 2d vector to match the width of the rank 3 vector, then do the calculation in parallel. this is more efficient. Thus you are able to add vectors of varying sizes.\n",
        "\n",
        "10. What is broadcasting?\n",
        "  - lets say you have a stack of 2d vectors (rank 3 vector), and you want to add another 2d vector to each 2d vector in the rank 3 stack. Instead of doing a for loop and iterating over each 2d vector in the rank 3 vector and doing the calculation, you can virtually clone the 2d vector to match the width of the rank 3 vector, then do the calculation in parallel. this is more efficient. Thus you are able to add vectors of varying sizes.\n",
        "\n",
        "10. What is SGD?\n",
        "  - stochastic gradient descent is when we try to use the derivative of the loss function to find the lowest point of the trough (which is an intuitive way to find the approach to minimize the loss of the model the most). We first find the gradient of the loss with respect to the weight and bias. Then we subtract this value by the same value * a step rate (or learning rate). w = w - lr * gradientw. Then we use these new parameters that are 'stepped' and run the model again, hopefully lowering the loss value each time. This is 'fitting' the model. With big datasets we use batches instead of the entire dataset, and shuffle between these batches in each epoch.\n",
        "\n",
        "11. What are the seven steps in SGD for machine learning?\n",
        "  - First we initialize parameters with random values, then we make a prediction function (model) using these random params. then we create a loss function that compares the models output with actual values. This should be a function. Then we find the derivative of the loss function (gradient) with respect to the params. Then we step the parameters by subtracting it with the gradient of that parameter with respect to the loss multiplied by a learning rate. Then we complete the first 5 steps until the gradient stops decreasing or we reached a desired number of epochs.\n",
        "  \n",
        "12. Draw the sigmoid function. What is special about its shape?\n",
        "  - a sigmoid function is an s curve, and it maps any real number to a value between 0 and 1.\n",
        "\n",
        "13. What does the DataLoader class do?\n",
        "  - a dataloader is a pytorch class that allows us to easily create batches of data of specific size out of entire dataset. We can also shuffle the order of these batches.\n",
        "\n",
        "14. Create a function that, if passed two arguments [1,2,3,4] and 'abcd', returns [(1, 'a'), (2, 'b'), (3, 'c'), (4, 'd')]. What is special about that output data structure?\n",
        "    - dset = list(zip([1,2,3,4],[a,b,c,d]))\n",
        "      - the output is a tuple, it can be useful in pairing values and labels, and the contents are immutable you cannot change them once initialized.\n"
      ],
      "metadata": {
        "id": "PoYQAyywFOGm"
      }
    },
    {
      "cell_type": "markdown",
      "source": [
        "\n",
        "\n",
        "---\n",
        "\n"
      ],
      "metadata": {
        "id": "KPhhWkk5sXDR"
      }
    },
    {
      "cell_type": "markdown",
      "source": [
        "Create your own implementation of Learner from scratch, based on the training loop shown in this chapter."
      ],
      "metadata": {
        "id": "TrPb6PXP0Afy"
      }
    },
    {
      "cell_type": "code",
      "source": [
        "linear = nn.Linear(28*28,1)\n",
        "params = list(linear.parameters())\n",
        "\n",
        "def mnist_loss(predictions, targets):\n",
        "    predictions = predictions.sigmoid() #bound predictions between 0 and 1\n",
        "    return torch.where(targets==1, 1-predictions, predictions).mean()\n",
        "\n",
        "def batch_accuracy(xb, yb):\n",
        "    preds = xb.sigmoid()\n",
        "    correct = (preds>0.5) == yb\n",
        "    return correct.float().mean() #mean accuracy of each batch of 256 images"
      ],
      "metadata": {
        "id": "ovRHfWBAJj2S"
      },
      "execution_count": 136,
      "outputs": []
    },
    {
      "cell_type": "markdown",
      "source": [
        "Here I do the following steps\n",
        "\n",
        "1. I initialize the model using pytorch nn.linear and i flatten it to a 1d vector of size 28*28 (1 row of 784)\n",
        "\n",
        "2. I store a list of the parameters in params variable\n",
        " - its an object with 2 tensors, a tensor of 784 weights, and a scalar tensor (bias)\n",
        "\n",
        "3. I define loss function that gets smaller with correct output.\n",
        "  - I pass a sigmoid function so values are bounded between 0 and 1,\n",
        "    - a prediction closer to 1 predicts 3, closer to 0 predicts 7\n",
        "  - targets is the label, if the label is 1, minus 1 from the prediction\n",
        "    - so if prediction is close to 1 then loss will return a small number which we want\n",
        "  - if the target (label) is 0, function just returns the prediction\n",
        "    - if prediction is close to 0 then it accurately guessed 7, and loss will also be small\n",
        "\n",
        "4. then i define a batch_accuracy function which tests the model with validation set. validation set is 2036 images.\n",
        "  - it calls the model to make a prediction on an image, and its compared with the label. True is a valid prediction, false is a wrong prediction."
      ],
      "metadata": {
        "id": "rg_mOiingpv4"
      }
    },
    {
      "cell_type": "code",
      "source": [
        "len(valid_dl) # 8 batches of 256 images"
      ],
      "metadata": {
        "colab": {
          "base_uri": "https://localhost:8080/"
        },
        "id": "t43xYeRdfwBy",
        "outputId": "89d073c0-a337-49f7-a16a-881f378de37d"
      },
      "execution_count": 137,
      "outputs": [
        {
          "output_type": "execute_result",
          "data": {
            "text/plain": [
              "8"
            ]
          },
          "metadata": {},
          "execution_count": 137
        }
      ]
    },
    {
      "cell_type": "code",
      "source": [
        "class Learner2:\n",
        "\n",
        "    def __init__(self,trainingdata,model,loss,params,lr):\n",
        "      self.trainingdata=trainingdata\n",
        "      self.model=model\n",
        "      self.loss=loss\n",
        "      self.params=params\n",
        "      self.lr=lr\n",
        "\n",
        "    def calc_grad(self,xb,yb):\n",
        "      prediction = self.model(xb)\n",
        "      loss = mnist_loss(prediction,yb)\n",
        "      loss.backward()\n",
        "\n",
        "    def train_epoch(self):\n",
        "      for xb,yb in self.trainingdata:\n",
        "        self.calc_grad(xb,yb)\n",
        "        for p in self.params:\n",
        "          p.data-=p.grad*self.lr\n",
        "          p.grad.zero_()\n",
        "\n",
        "    def accuracy_epoch(self):\n",
        "      accuracy = [batch_accuracy(self.model(xb),yb) for xb,yb in valid_dl]\n",
        "      return round(torch.stack(accuracy).mean().item(), 4)\n",
        "\n",
        "\n",
        "    #def fit(self,epochs)\n"
      ],
      "metadata": {
        "id": "U3UUJM1Vz_6h"
      },
      "execution_count": 138,
      "outputs": []
    },
    {
      "cell_type": "code",
      "source": [
        "three_or_seven = Learner2(dl,linear,mnist_loss,params,0.1)\n",
        "\n"
      ],
      "metadata": {
        "id": "4RVzmnDEI8UR"
      },
      "execution_count": 139,
      "outputs": []
    },
    {
      "cell_type": "markdown",
      "source": [
        "model has been instantiated. lets train it"
      ],
      "metadata": {
        "id": "nD5b_9cumX_w"
      }
    },
    {
      "cell_type": "code",
      "source": [
        "three_or_seven.train_epoch()\n",
        "three_or_seven.accuracy_epoch()"
      ],
      "metadata": {
        "colab": {
          "base_uri": "https://localhost:8080/"
        },
        "id": "UNRSDgK8mHam",
        "outputId": "4488185d-3ef3-40ab-c1d7-28c6ae1b33e7"
      },
      "execution_count": 140,
      "outputs": [
        {
          "output_type": "execute_result",
          "data": {
            "text/plain": [
              "0.5425"
            ]
          },
          "metadata": {},
          "execution_count": 140
        }
      ]
    },
    {
      "cell_type": "markdown",
      "source": [
        "first training of the model accuracy is lower. keep training the model with train.epoch and watch the accuracy go higher and higher\n",
        "\n"
      ],
      "metadata": {
        "id": "4NcoT6oQmPGG"
      }
    },
    {
      "cell_type": "markdown",
      "source": [
        "\n",
        "\n",
        "---\n",
        "\n"
      ],
      "metadata": {
        "id": "SaUHIzwTsiZA"
      }
    }
  ]
}